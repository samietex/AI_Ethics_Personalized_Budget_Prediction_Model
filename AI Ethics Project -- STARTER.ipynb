{
 "cells": [
  {
   "cell_type": "markdown",
   "metadata": {
    "graffitiCellId": "id_xuyxolj"
   },
   "source": [
    "# AI Ethics Project \n",
    "\n",
    "Personalization is a central aspect of many core AI systems. In this project, I will be working on a hypothetical use case for a personalized \"activity recommender\". The use case has a medium ethical AI risk level and involves a synthetic dataset.\n",
    "\n",
    "IDOOU is a mobile app users can leverage to get recommendations on activities they can take in a given area, like “visiting a movie theater”, “visiting a park”, “sightseeing”, “hiking”, or “visiting a library”.\n",
    "\n",
    "\n",
    "**Problem statement**:\n",
    "\n",
    "IDOOU's creators would like to identify if users with bachelor's and master's degrees are a privileged group in terms of budget. In other words, do users with higher education credentials beyond high school have a budget >= $300 compared to users of the app who graduated from high school? \n",
    "\n",
    "I am tasked with designing IDOOU's newest AI model to predict the budget of its users (in US dollars) given information such as their gender, age, and education_level. I will also explore the provided data and analyze and evaluate this budget predictor's fairness and bias issues.\n",
    "\n",
    "\n",
    "**Key points**:\n",
    "\n",
    "- The training data was conducted through a user experience study of about 300,000 participants.\n",
    "- The user may choose not to provide any or all the information the app requests. The training data also reflects this.\n",
    "- Fairness framework definitions for the use case are not necessarily focusing on socioeconomic privilege."
   ]
  },
  {
   "cell_type": "code",
   "execution_count": 1,
   "metadata": {
    "graffitiCellId": "id_yg4vdmb"
   },
   "outputs": [
    {
     "name": "stdout",
     "output_type": "stream",
     "text": [
      "Defaulting to user installation because normal site-packages is not writeable\n",
      "Collecting aif360\n",
      "  Downloading aif360-0.5.0-py3-none-any.whl (214 kB)\n",
      "\u001b[K     |████████████████████████████████| 214 kB 4.5 MB/s eta 0:00:01\n",
      "\u001b[?25hRequirement already satisfied: numpy>=1.16 in /opt/conda/lib/python3.7/site-packages (from aif360) (1.21.2)\n",
      "Requirement already satisfied: matplotlib in /opt/conda/lib/python3.7/site-packages (from aif360) (3.4.3)\n",
      "Requirement already satisfied: scipy>=1.2.0 in /opt/conda/lib/python3.7/site-packages (from aif360) (1.7.1)\n",
      "Requirement already satisfied: scikit-learn>=1.0 in /opt/conda/lib/python3.7/site-packages (from aif360) (1.0)\n",
      "Requirement already satisfied: pandas>=0.24.0 in /opt/conda/lib/python3.7/site-packages (from aif360) (1.3.3)\n",
      "Requirement already satisfied: cycler>=0.10 in /opt/conda/lib/python3.7/site-packages (from matplotlib->aif360) (0.10.0)\n",
      "Requirement already satisfied: kiwisolver>=1.0.1 in /opt/conda/lib/python3.7/site-packages (from matplotlib->aif360) (1.1.0)\n",
      "Requirement already satisfied: python-dateutil>=2.7 in /opt/conda/lib/python3.7/site-packages (from matplotlib->aif360) (2.8.1)\n",
      "Requirement already satisfied: pillow>=6.2.0 in /opt/conda/lib/python3.7/site-packages (from matplotlib->aif360) (7.0.0)\n",
      "Requirement already satisfied: pyparsing>=2.2.1 in /opt/conda/lib/python3.7/site-packages (from matplotlib->aif360) (2.4.6)\n",
      "Requirement already satisfied: joblib>=0.11 in /opt/conda/lib/python3.7/site-packages (from scikit-learn>=1.0->aif360) (0.14.1)\n",
      "Requirement already satisfied: threadpoolctl>=2.0.0 in /opt/conda/lib/python3.7/site-packages (from scikit-learn>=1.0->aif360) (3.1.0)\n",
      "Requirement already satisfied: pytz>=2017.3 in /opt/conda/lib/python3.7/site-packages (from pandas>=0.24.0->aif360) (2019.3)\n",
      "Requirement already satisfied: six in /opt/conda/lib/python3.7/site-packages (from cycler>=0.10->matplotlib->aif360) (1.16.0)\n",
      "Requirement already satisfied: setuptools in /opt/conda/lib/python3.7/site-packages (from kiwisolver>=1.0.1->matplotlib->aif360) (45.2.0.post20200209)\n",
      "Installing collected packages: aif360\n",
      "Successfully installed aif360-0.5.0\n",
      "Defaulting to user installation because normal site-packages is not writeable\n",
      "Collecting tensorflow\n",
      "  Downloading tensorflow-2.10.0-cp37-cp37m-manylinux_2_17_x86_64.manylinux2014_x86_64.whl (578.0 MB)\n",
      "\u001b[K     |██████████▍                     | 187.1 MB 5.3 MB/s eta 0:01:159  |                                | 860 kB 4.9 MB/s eta 0:01:59     |                                | 1.6 MB 4.9 MB/s eta 0:01:59     |▏                               | 2.5 MB 4.9 MB/s eta 0:01:59     |▎                               | 4.1 MB 4.9 MB/s eta 0:01:59     |▌                               | 8.8 MB 4.9 MB/s eta 0:01:58     |▋                               | 11.3 MB 4.9 MB/s eta 0:01:57     |█                               | 18.3 MB 13.6 MB/s eta 0:00:42     |█▏                              | 20.7 MB 13.6 MB/s eta 0:00:41     |█▎                              | 23.9 MB 13.6 MB/s eta 0:00:41     |█▍                              | 24.5 MB 13.6 MB/s eta 0:00:41     |█▍                              | 25.1 MB 13.6 MB/s eta 0:00:41     |█▍                              | 25.9 MB 13.6 MB/s eta 0:00:41     |█▊                              | 30.5 MB 18.4 MB/s eta 0:00:30     |█▊                              | 31.3 MB 18.4 MB/s eta 0:00:30     |█▉                              | 32.8 MB 18.4 MB/s eta 0:00:30     |██                              | 35.2 MB 18.4 MB/s eta 0:00:30     |██                              | 35.9 MB 18.4 MB/s eta 0:00:30     |██                              | 37.4 MB 18.4 MB/s eta 0:00:30     |██▎                             | 40.4 MB 18.4 MB/s eta 0:00:30     |██▎                             | 40.5 MB 2.4 MB/s eta 0:03:48     |██▍                             | 43.7 MB 2.4 MB/s eta 0:03:47     |██▌                             | 45.3 MB 2.4 MB/s eta 0:03:46     |██▋                             | 47.1 MB 2.0 MB/s eta 0:04:28     |██▉                             | 52.1 MB 2.0 MB/s eta 0:04:25     |███                             | 53.2 MB 9.8 MB/s eta 0:00:54     |███                             | 54.0 MB 9.8 MB/s eta 0:00:54     |███                             | 54.9 MB 9.8 MB/s eta 0:00:54     |███▏                            | 56.5 MB 9.8 MB/s eta 0:00:54     |███▎                            | 59.1 MB 9.8 MB/s eta 0:00:54     |███▌                            | 63.0 MB 9.8 MB/s eta 0:00:53     |███▊                            | 67.0 MB 17.8 MB/s eta 0:00:29     |███▊                            | 67.4 MB 17.8 MB/s eta 0:00:29     |████                            | 71.0 MB 17.8 MB/s eta 0:00:29     |████                            | 71.2 MB 17.8 MB/s eta 0:00:29     |████                            | 71.5 MB 2.4 MB/s eta 0:03:28     |████▊                           | 86.2 MB 44.7 MB/s eta 0:00:11     |████▉                           | 87.6 MB 44.7 MB/s eta 0:00:11     |█████                           | 89.0 MB 44.7 MB/s eta 0:00:11     |█████                           | 91.1 MB 44.7 MB/s eta 0:00:11     |█████                           | 91.8 MB 44.7 MB/s eta 0:00:11     |█████▎                          | 94.8 MB 13.0 MB/s eta 0:00:38     |█████▎                          | 95.5 MB 13.0 MB/s eta 0:00:38     |█████▎                          | 96.3 MB 13.0 MB/s eta 0:00:38     |█████▍                          | 97.7 MB 13.0 MB/s eta 0:00:38     |█████▋                          | 101.2 MB 13.0 MB/s eta 0:00:37     |█████▉                          | 106.1 MB 7.7 MB/s eta 0:01:02     |██████▏                         | 111.3 MB 7.7 MB/s eta 0:01:01     |██████▎                         | 114.1 MB 7.7 MB/s eta 0:01:01     |██████▍                         | 115.3 MB 7.7 MB/s eta 0:01:00     |██████▊                         | 120.8 MB 15.4 MB/s eta 0:00:30     |██████▉                         | 123.4 MB 15.4 MB/s eta 0:00:30     |███████                         | 124.8 MB 15.4 MB/s eta 0:00:30     |███████                         | 125.4 MB 15.4 MB/s eta 0:00:30     |███████                         | 126.1 MB 15.4 MB/s eta 0:00:30     |███████                         | 127.4 MB 15.4 MB/s eta 0:00:30     |███████▏                        | 129.1 MB 8.3 MB/s eta 0:00:55     |███████▏                        | 129.4 MB 8.3 MB/s eta 0:00:55     |███████▎                        | 131.8 MB 8.3 MB/s eta 0:00:55     |███████▎                        | 132.3 MB 8.3 MB/s eta 0:00:54     |███████▍                        | 133.9 MB 8.3 MB/s eta 0:00:54     |███████▌                        | 135.1 MB 8.3 MB/s eta 0:00:54     |███████▌                        | 135.7 MB 8.3 MB/s eta 0:00:54     |███████▊                        | 139.3 MB 13.0 MB/s eta 0:00:34     |███████▉                        | 140.6 MB 13.0 MB/s eta 0:00:34     |███████▉                        | 141.3 MB 13.0 MB/s eta 0:00:34     |███████▉                        | 142.0 MB 13.0 MB/s eta 0:00:34     |████████                        | 145.5 MB 13.0 MB/s eta 0:00:34     |████████▏                       | 146.9 MB 13.0 MB/s eta 0:00:34     |████████▎                       | 149.8 MB 13.0 MB/s eta 0:00:34     |████████▍                       | 150.6 MB 13.0 MB/s eta 0:00:34     |████████▌                       | 154.2 MB 20.7 MB/s eta 0:00:21     |████████▋                       | 155.8 MB 20.7 MB/s eta 0:00:21     |████████▊                       | 156.9 MB 20.7 MB/s eta 0:00:21     |█████████                       | 162.3 MB 20.7 MB/s eta 0:00:21     |█████████                       | 163.0 MB 20.7 MB/s eta 0:00:21     |█████████▍                      | 170.3 MB 13.9 MB/s eta 0:00:30     |█████████▌                      | 171.6 MB 13.9 MB/s eta 0:00:30     |█████████▊                      | 175.3 MB 13.9 MB/s eta 0:00:30     |█████████▊                      | 176.4 MB 13.9 MB/s eta 0:00:29     |█████████▉                      | 177.1 MB 5.3 MB/s eta 0:01:17     |█████████▉                      | 177.8 MB 5.3 MB/s eta 0:01:16     |█████████▉                      | 178.6 MB 5.3 MB/s eta 0:01:16     |██████████▏                     | 184.1 MB 5.3 MB/s eta 0:01:15     |██████████▎                     | 185.6 MB 5.3 MB/s eta 0:01:15\u001b[K     |████████████████████████████████| 578.0 MB 9.4 kB/s  eta 0:00:01    |██████████▌                     | 189.8 MB 5.3 MB/s eta 0:01:14     |██████████▋                     | 191.0 MB 5.0 MB/s eta 0:01:18     |██████████▋                     | 191.7 MB 5.0 MB/s eta 0:01:18     |██████████▋                     | 192.5 MB 5.0 MB/s eta 0:01:17     |██████████▊                     | 194.1 MB 5.0 MB/s eta 0:01:17     |██████████▉                     | 196.5 MB 5.0 MB/s eta 0:01:17     |███████████                     | 197.3 MB 5.0 MB/s eta 0:01:16     |███████████                     | 200.6 MB 5.0 MB/s eta 0:01:16     |███████████▎                    | 202.8 MB 13.3 MB/s eta 0:00:29     |███████████▎                    | 204.3 MB 13.3 MB/s eta 0:00:29     |███████████▍                    | 205.8 MB 13.3 MB/s eta 0:00:28     |███████████▌                    | 207.1 MB 13.3 MB/s eta 0:00:28     |███████████▌                    | 208.4 MB 13.3 MB/s eta 0:00:28     |███████████▋                    | 209.9 MB 13.3 MB/s eta 0:00:28     |███████████▉                    | 213.5 MB 13.3 MB/s eta 0:00:28     |███████████▉                    | 214.7 MB 13.3 MB/s eta 0:00:28     |████████████                    | 215.8 MB 17.3 MB/s eta 0:00:21     |████████████                    | 218.1 MB 17.3 MB/s eta 0:00:21     |████████████▏                   | 220.3 MB 17.3 MB/s eta 0:00:21     |████████████▉                   | 231.2 MB 5.2 MB/s eta 0:01:07     |████████████▉                   | 231.8 MB 5.2 MB/s eta 0:01:07     |█████████████                   | 233.5 MB 5.2 MB/s eta 0:01:07     |█████████████                   | 234.5 MB 5.2 MB/s eta 0:01:06     |█████████████                   | 236.3 MB 5.5 MB/s eta 0:01:02     |█████████████▏                  | 237.0 MB 5.5 MB/s eta 0:01:02     |█████████████▏                  | 238.3 MB 5.5 MB/s eta 0:01:02     |█████████████▎                  | 240.4 MB 5.5 MB/s eta 0:01:02     |█████████████▍                  | 241.6 MB 5.5 MB/s eta 0:01:01     |█████████████▋                  | 245.2 MB 5.5 MB/s eta 0:01:01     |█████████████▊                  | 247.1 MB 12.0 MB/s eta 0:00:28     |█████████████▉                  | 249.1 MB 12.0 MB/s eta 0:00:28     |█████████████▉                  | 249.8 MB 12.0 MB/s eta 0:00:28     |██████████████                  | 251.2 MB 12.0 MB/s eta 0:00:28     |██████████████                  | 253.4 MB 12.0 MB/s eta 0:00:27     |██████████████▎                 | 258.4 MB 12.0 MB/s eta 0:00:27     |██████████████▌                 | 262.0 MB 13.9 MB/s eta 0:00:23     |██████████████▌                 | 262.7 MB 13.9 MB/s eta 0:00:23     |██████████████▋                 | 264.2 MB 13.9 MB/s eta 0:00:23     |██████████████▊                 | 265.6 MB 13.9 MB/s eta 0:00:23     |██████████████▉                 | 268.0 MB 13.9 MB/s eta 0:00:23     |███████████████                 | 270.0 MB 13.9 MB/s eta 0:00:23     |███████████████                 | 270.7 MB 13.9 MB/s eta 0:00:23     |███████████████                 | 271.4 MB 13.9 MB/s eta 0:00:23     |███████████████▌                | 279.2 MB 18.0 MB/s eta 0:00:17     |███████████████▌                | 280.6 MB 18.0 MB/s eta 0:00:17     |███████████████▊                | 283.0 MB 18.0 MB/s eta 0:00:17     |████████████████                | 287.3 MB 8.3 MB/s eta 0:00:35     |████████████████▍               | 296.5 MB 8.3 MB/s eta 0:00:34     |████████████████▌               | 297.3 MB 8.3 MB/s eta 0:00:34     |████████████████▋               | 300.8 MB 5.9 MB/s eta 0:00:48     |████████████████▉               | 303.4 MB 5.9 MB/s eta 0:00:47     |████████████████▉               | 303.7 MB 5.9 MB/s eta 0:00:47     |████████████████▉               | 304.8 MB 5.9 MB/s eta 0:00:47     |█████████████████▏              | 310.7 MB 5.4 MB/s eta 0:00:50     |█████████████████▎              | 312.7 MB 5.4 MB/s eta 0:00:50     |█████████████████▎              | 313.0 MB 5.4 MB/s eta 0:00:50     |█████████████████▊              | 319.7 MB 39.5 MB/s eta 0:00:07     |█████████████████▉              | 322.0 MB 39.5 MB/s eta 0:00:07     |█████████████████▉              | 322.6 MB 39.5 MB/s eta 0:00:07     |██████████████████              | 324.1 MB 39.5 MB/s eta 0:00:07     |██████████████████              | 325.6 MB 39.5 MB/s eta 0:00:07     |██████████████████▏             | 327.9 MB 39.5 MB/s eta 0:00:07     |██████████████████▌             | 334.1 MB 35.5 MB/s eta 0:00:07     |██████████████████▌             | 334.9 MB 35.5 MB/s eta 0:00:07     |██████████████████▊             | 337.8 MB 35.5 MB/s eta 0:00:07     |██████████████████▊             | 338.5 MB 35.5 MB/s eta 0:00:07     |██████████████████▉             | 339.7 MB 35.5 MB/s eta 0:00:07     |███████████████████             | 343.8 MB 35.3 MB/s eta 0:00:07     |███████████████████▏            | 345.3 MB 35.3 MB/s eta 0:00:07     |███████████████████▏            | 346.8 MB 35.3 MB/s eta 0:00:07     |███████████████████▎            | 348.4 MB 35.3 MB/s eta 0:00:07     |███████████████████▌            | 352.0 MB 35.3 MB/s eta 0:00:07     |███████████████████▌            | 352.6 MB 35.3 MB/s eta 0:00:07     |███████████████████▋            | 354.2 MB 35.3 MB/s eta 0:00:07     |███████████████████▋            | 354.9 MB 35.3 MB/s eta 0:00:07     |████████████████████▊           | 373.9 MB 23.7 MB/s eta 0:00:09     |█████████████████████▏          | 383.0 MB 23.7 MB/s eta 0:00:09     |█████████████████████▌          | 388.2 MB 23.7 MB/s eta 0:00:09     |█████████████████████▋          | 389.9 MB 9.3 MB/s eta 0:00:21     |█████████████████████▊          | 393.0 MB 9.3 MB/s eta 0:00:20     |█████████████████████▉          | 394.4 MB 9.3 MB/s eta 0:00:20     |██████████████████████          | 396.2 MB 9.3 MB/s eta 0:00:20     |██████████████████████          | 398.0 MB 9.3 MB/s eta 0:00:20     |██████████████████████▎         | 401.5 MB 9.3 MB/s eta 0:00:19     |██████████████████████▍         | 405.1 MB 9.3 MB/s eta 0:00:19     |██████████████████████▋         | 407.9 MB 9.3 MB/s eta 0:00:19     |██████████████████████▋         | 409.0 MB 9.3 MB/s eta 0:00:19     |███████████████████████         | 414.5 MB 9.3 MB/s eta 0:00:18     |████████████████████████▎       | 438.0 MB 43.2 MB/s eta 0:00:04     |████████████████████████▎       | 439.0 MB 43.2 MB/s eta 0:00:04     |████████████████████████▌       | 441.8 MB 17.0 MB/s eta 0:00:09     |████████████████████████▊       | 447.0 MB 17.0 MB/s eta 0:00:08     |█████████████████████████▏      | 454.1 MB 17.0 MB/s eta 0:00:08     |█████████████████████████▎      | 457.4 MB 17.0 MB/s eta 0:00:08     |█████████████████████████▍      | 458.9 MB 17.0 MB/s eta 0:00:08     |█████████████████████████▊      | 464.2 MB 17.0 MB/s eta 0:00:07     |██████████████████████████▎     | 474.6 MB 43.4 MB/s eta 0:00:03     |███████████████████████████     | 486.6 MB 43.4 MB/s eta 0:00:03     |███████████████████████████▏    | 489.8 MB 43.4 MB/s eta 0:00:03     |███████████████████████████▏    | 491.3 MB 43.4 MB/s eta 0:00:02     |███████████████████████████▍    | 494.7 MB 43.4 MB/s eta 0:00:02     |████████████████████████████▏   | 508.9 MB 43.9 MB/s eta 0:00:02     |████████████████████████████▌   | 514.3 MB 43.9 MB/s eta 0:00:02     |████████████████████████████▊   | 519.3 MB 43.9 MB/s eta 0:00:02     |█████████████████████████████▎  | 528.1 MB 43.9 MB/s eta 0:00:02     |█████████████████████████████▉  | 538.2 MB 44.3 MB/s eta 0:00:01\n",
      "\u001b[?25hRequirement already satisfied: google-pasta>=0.1.1 in /opt/conda/lib/python3.7/site-packages (from tensorflow) (0.1.8)\n",
      "Collecting tensorflow-io-gcs-filesystem>=0.23.1\n",
      "  Downloading tensorflow_io_gcs_filesystem-0.26.0-cp37-cp37m-manylinux_2_12_x86_64.manylinux2010_x86_64.whl (2.4 MB)\n",
      "\u001b[K     |████████████████████████████████| 2.4 MB 18.1 MB/s eta 0:00:01\n",
      "\u001b[?25hCollecting keras<2.11,>=2.10.0\n",
      "  Downloading keras-2.10.0-py2.py3-none-any.whl (1.7 MB)\n",
      "\u001b[K     |████████████████████████████████| 1.7 MB 42.2 MB/s eta 0:00:01\n",
      "\u001b[?25hRequirement already satisfied: wrapt>=1.11.0 in /opt/conda/lib/python3.7/site-packages (from tensorflow) (1.12.0)\n",
      "Requirement already satisfied: opt-einsum>=2.3.2 in /opt/conda/lib/python3.7/site-packages (from tensorflow) (3.2.0)\n",
      "Requirement already satisfied: six>=1.12.0 in /opt/conda/lib/python3.7/site-packages (from tensorflow) (1.16.0)\n",
      "Requirement already satisfied: setuptools in /opt/conda/lib/python3.7/site-packages (from tensorflow) (45.2.0.post20200209)\n",
      "Requirement already satisfied: gast<=0.4.0,>=0.2.1 in /opt/conda/lib/python3.7/site-packages (from tensorflow) (0.2.2)\n",
      "Collecting keras-preprocessing>=1.1.1\n",
      "  Downloading Keras_Preprocessing-1.1.2-py2.py3-none-any.whl (42 kB)\n",
      "\u001b[K     |████████████████████████████████| 42 kB 1.5 MB/s  eta 0:00:01\n",
      "\u001b[?25hRequirement already satisfied: typing-extensions>=3.6.6 in /opt/conda/lib/python3.7/site-packages (from tensorflow) (3.7.4.1)\n",
      "Collecting astunparse>=1.6.0\n",
      "  Downloading astunparse-1.6.3-py2.py3-none-any.whl (12 kB)\n",
      "Collecting flatbuffers>=2.0\n",
      "  Downloading flatbuffers-2.0.7-py2.py3-none-any.whl (26 kB)\n",
      "Requirement already satisfied: protobuf<3.20,>=3.9.2 in /opt/conda/lib/python3.7/site-packages (from tensorflow) (3.11.4)\n",
      "Collecting absl-py>=1.0.0\n",
      "  Downloading absl_py-1.2.0-py3-none-any.whl (123 kB)\n",
      "\u001b[K     |████████████████████████████████| 123 kB 22.9 MB/s eta 0:00:01\n",
      "\u001b[?25hRequirement already satisfied: numpy>=1.20 in /opt/conda/lib/python3.7/site-packages (from tensorflow) (1.21.2)\n",
      "Collecting tensorboard<2.11,>=2.10\n",
      "  Downloading tensorboard-2.10.0-py3-none-any.whl (5.9 MB)\n",
      "\u001b[K     |████████████████████████████████| 5.9 MB 10.4 MB/s eta 0:00:01     |██████████████▋                 | 2.7 MB 10.4 MB/s eta 0:00:01\n",
      "\u001b[?25hCollecting libclang>=13.0.0\n",
      "  Downloading libclang-14.0.6-py2.py3-none-manylinux2010_x86_64.whl (14.1 MB)\n",
      "\u001b[K     |████████████████████████████████| 14.1 MB 20.2 MB/s eta 0:00:01    |███████▍                        | 3.2 MB 20.2 MB/s eta 0:00:01     |██████████████████████          | 9.7 MB 20.2 MB/s eta 0:00:01     |████████████████████████████████| 14.1 MB 20.2 MB/s \n",
      "\u001b[?25hRequirement already satisfied: packaging in /opt/conda/lib/python3.7/site-packages (from tensorflow) (20.1)\n",
      "Collecting tensorflow-estimator<2.11,>=2.10.0\n",
      "  Downloading tensorflow_estimator-2.10.0-py2.py3-none-any.whl (438 kB)\n",
      "\u001b[K     |████████████████████████████████| 438 kB 16.6 MB/s eta 0:00:01\n",
      "\u001b[?25hRequirement already satisfied: termcolor>=1.1.0 in /opt/conda/lib/python3.7/site-packages (from tensorflow) (1.1.0)\n",
      "Requirement already satisfied: grpcio<2.0,>=1.24.3 in /opt/conda/lib/python3.7/site-packages (from tensorflow) (1.27.2)\n",
      "Requirement already satisfied: h5py>=2.9.0 in /opt/conda/lib/python3.7/site-packages (from tensorflow) (2.10.0)\n",
      "Requirement already satisfied: wheel<1.0,>=0.23.0 in /opt/conda/lib/python3.7/site-packages (from astunparse>=1.6.0->tensorflow) (0.34.2)\n",
      "Requirement already satisfied: requests<3,>=2.21.0 in /opt/conda/lib/python3.7/site-packages (from tensorboard<2.11,>=2.10->tensorflow) (2.23.0)\n",
      "Collecting werkzeug>=1.0.1\n",
      "  Downloading Werkzeug-2.2.2-py3-none-any.whl (232 kB)\n",
      "\u001b[K     |████████████████████████████████| 232 kB 33.1 MB/s eta 0:00:01\n",
      "\u001b[?25hRequirement already satisfied: markdown>=2.6.8 in /opt/conda/lib/python3.7/site-packages (from tensorboard<2.11,>=2.10->tensorflow) (3.2.1)\n",
      "Collecting tensorboard-data-server<0.7.0,>=0.6.0\n",
      "  Downloading tensorboard_data_server-0.6.1-py3-none-manylinux2010_x86_64.whl (4.9 MB)\n",
      "\u001b[K     |████████████████████████████████| 4.9 MB 14.6 MB/s eta 0:00:01     |██████████████████████          | 3.4 MB 14.6 MB/s eta 0:00:01\n",
      "\u001b[?25hRequirement already satisfied: google-auth-oauthlib<0.5,>=0.4.1 in /opt/conda/lib/python3.7/site-packages (from tensorboard<2.11,>=2.10->tensorflow) (0.4.1)\n",
      "Collecting tensorboard-plugin-wit>=1.6.0\n",
      "  Downloading tensorboard_plugin_wit-1.8.1-py3-none-any.whl (781 kB)\n",
      "\u001b[K     |████████████████████████████████| 781 kB 29.7 MB/s eta 0:00:01\n",
      "\u001b[?25hRequirement already satisfied: google-auth<3,>=1.6.3 in /opt/conda/lib/python3.7/site-packages (from tensorboard<2.11,>=2.10->tensorflow) (1.11.2)\n",
      "Requirement already satisfied: pyparsing>=2.0.2 in /opt/conda/lib/python3.7/site-packages (from packaging->tensorflow) (2.4.6)\n",
      "Requirement already satisfied: chardet<4,>=3.0.2 in /opt/conda/lib/python3.7/site-packages (from requests<3,>=2.21.0->tensorboard<2.11,>=2.10->tensorflow) (3.0.4)\n",
      "Requirement already satisfied: idna<3,>=2.5 in /opt/conda/lib/python3.7/site-packages (from requests<3,>=2.21.0->tensorboard<2.11,>=2.10->tensorflow) (2.9)\n",
      "Requirement already satisfied: urllib3!=1.25.0,!=1.25.1,<1.26,>=1.21.1 in /opt/conda/lib/python3.7/site-packages (from requests<3,>=2.21.0->tensorboard<2.11,>=2.10->tensorflow) (1.25.7)\n",
      "Requirement already satisfied: certifi>=2017.4.17 in /opt/conda/lib/python3.7/site-packages (from requests<3,>=2.21.0->tensorboard<2.11,>=2.10->tensorflow) (2019.11.28)\n",
      "Collecting MarkupSafe>=2.1.1\n",
      "  Downloading MarkupSafe-2.1.1-cp37-cp37m-manylinux_2_17_x86_64.manylinux2014_x86_64.whl (25 kB)\n",
      "Requirement already satisfied: requests-oauthlib>=0.7.0 in /opt/conda/lib/python3.7/site-packages (from google-auth-oauthlib<0.5,>=0.4.1->tensorboard<2.11,>=2.10->tensorflow) (1.2.0)\n",
      "Requirement already satisfied: rsa<4.1,>=3.1.4 in /opt/conda/lib/python3.7/site-packages (from google-auth<3,>=1.6.3->tensorboard<2.11,>=2.10->tensorflow) (4.0)\n",
      "Requirement already satisfied: cachetools<5.0,>=2.0.0 in /opt/conda/lib/python3.7/site-packages (from google-auth<3,>=1.6.3->tensorboard<2.11,>=2.10->tensorflow) (3.1.1)\n",
      "Requirement already satisfied: pyasn1-modules>=0.2.1 in /opt/conda/lib/python3.7/site-packages (from google-auth<3,>=1.6.3->tensorboard<2.11,>=2.10->tensorflow) (0.2.7)\n",
      "Requirement already satisfied: oauthlib>=3.0.0 in /opt/conda/lib/python3.7/site-packages (from requests-oauthlib>=0.7.0->google-auth-oauthlib<0.5,>=0.4.1->tensorboard<2.11,>=2.10->tensorflow) (3.0.1)\n",
      "Requirement already satisfied: pyasn1>=0.1.3 in /opt/conda/lib/python3.7/site-packages (from rsa<4.1,>=3.1.4->google-auth<3,>=1.6.3->tensorboard<2.11,>=2.10->tensorflow) (0.4.8)\n",
      "Installing collected packages: tensorflow-io-gcs-filesystem, keras, keras-preprocessing, astunparse, flatbuffers, absl-py, MarkupSafe, werkzeug, tensorboard-data-server, tensorboard-plugin-wit, tensorboard, libclang, tensorflow-estimator, tensorflow\n",
      "\u001b[33m  WARNING: The script tensorboard is installed in '/root/.local/bin' which is not on PATH.\n",
      "  Consider adding this directory to PATH or, if you prefer to suppress this warning, use --no-warn-script-location.\u001b[0m\n",
      "\u001b[33m  WARNING: The scripts estimator_ckpt_converter, import_pb_to_tensorboard, saved_model_cli, tensorboard, tf_upgrade_v2, tflite_convert, toco and toco_from_protos are installed in '/root/.local/bin' which is not on PATH.\n",
      "  Consider adding this directory to PATH or, if you prefer to suppress this warning, use --no-warn-script-location.\u001b[0m\n",
      "Successfully installed MarkupSafe-2.1.1 absl-py-1.2.0 astunparse-1.6.3 flatbuffers-2.0.7 keras-2.10.0 keras-preprocessing-1.1.2 libclang-14.0.6 tensorboard-2.10.0 tensorboard-data-server-0.6.1 tensorboard-plugin-wit-1.8.1 tensorflow-2.10.0 tensorflow-estimator-2.10.0 tensorflow-io-gcs-filesystem-0.26.0 werkzeug-2.2.2\n",
      "Defaulting to user installation because normal site-packages is not writeable\n",
      "Requirement already satisfied: jinja2 in /opt/conda/lib/python3.7/site-packages (2.11.1)\n",
      "Requirement already satisfied: MarkupSafe>=0.23 in /root/.local/lib/python3.7/site-packages (from jinja2) (2.1.1)\n",
      "Defaulting to user installation because normal site-packages is not writeable\n",
      "Collecting fairlearn\n",
      "  Downloading fairlearn-0.7.0-py3-none-any.whl (177 kB)\n",
      "\u001b[K     |████████████████████████████████| 177 kB 4.9 MB/s eta 0:00:01\n",
      "\u001b[?25hRequirement already satisfied: scipy>=1.4.1 in /opt/conda/lib/python3.7/site-packages (from fairlearn) (1.7.1)\n",
      "Requirement already satisfied: pandas>=0.25.1 in /opt/conda/lib/python3.7/site-packages (from fairlearn) (1.3.3)\n",
      "Requirement already satisfied: numpy>=1.17.2 in /opt/conda/lib/python3.7/site-packages (from fairlearn) (1.21.2)\n",
      "Requirement already satisfied: scikit-learn>=0.22.1 in /opt/conda/lib/python3.7/site-packages (from fairlearn) (1.0)\n",
      "Requirement already satisfied: python-dateutil>=2.7.3 in /opt/conda/lib/python3.7/site-packages (from pandas>=0.25.1->fairlearn) (2.8.1)\n",
      "Requirement already satisfied: pytz>=2017.3 in /opt/conda/lib/python3.7/site-packages (from pandas>=0.25.1->fairlearn) (2019.3)\n",
      "Requirement already satisfied: threadpoolctl>=2.0.0 in /opt/conda/lib/python3.7/site-packages (from scikit-learn>=0.22.1->fairlearn) (3.1.0)\n",
      "Requirement already satisfied: joblib>=0.11 in /opt/conda/lib/python3.7/site-packages (from scikit-learn>=0.22.1->fairlearn) (0.14.1)\n",
      "Requirement already satisfied: six>=1.5 in /opt/conda/lib/python3.7/site-packages (from python-dateutil>=2.7.3->pandas>=0.25.1->fairlearn) (1.16.0)\n",
      "Installing collected packages: fairlearn\n",
      "Successfully installed fairlearn-0.7.0\n",
      "Defaulting to user installation because normal site-packages is not writeable\n",
      "Requirement already satisfied: aif360[LawSchoolGPA] in /root/.local/lib/python3.7/site-packages (0.5.0)\n",
      "Requirement already satisfied: scikit-learn>=1.0 in /opt/conda/lib/python3.7/site-packages (from aif360[LawSchoolGPA]) (1.0)\n",
      "Requirement already satisfied: matplotlib in /opt/conda/lib/python3.7/site-packages (from aif360[LawSchoolGPA]) (3.4.3)\n",
      "Requirement already satisfied: numpy>=1.16 in /opt/conda/lib/python3.7/site-packages (from aif360[LawSchoolGPA]) (1.21.2)\n",
      "Requirement already satisfied: scipy>=1.2.0 in /opt/conda/lib/python3.7/site-packages (from aif360[LawSchoolGPA]) (1.7.1)\n",
      "Requirement already satisfied: pandas>=0.24.0 in /opt/conda/lib/python3.7/site-packages (from aif360[LawSchoolGPA]) (1.3.3)\n",
      "Collecting tempeh; extra == \"lawschoolgpa\"\n",
      "  Downloading tempeh-0.1.12-py3-none-any.whl (39 kB)\n",
      "Requirement already satisfied: threadpoolctl>=2.0.0 in /opt/conda/lib/python3.7/site-packages (from scikit-learn>=1.0->aif360[LawSchoolGPA]) (3.1.0)\n",
      "Requirement already satisfied: joblib>=0.11 in /opt/conda/lib/python3.7/site-packages (from scikit-learn>=1.0->aif360[LawSchoolGPA]) (0.14.1)\n",
      "Requirement already satisfied: pyparsing>=2.2.1 in /opt/conda/lib/python3.7/site-packages (from matplotlib->aif360[LawSchoolGPA]) (2.4.6)\n",
      "Requirement already satisfied: cycler>=0.10 in /opt/conda/lib/python3.7/site-packages (from matplotlib->aif360[LawSchoolGPA]) (0.10.0)\n",
      "Requirement already satisfied: kiwisolver>=1.0.1 in /opt/conda/lib/python3.7/site-packages (from matplotlib->aif360[LawSchoolGPA]) (1.1.0)\n",
      "Requirement already satisfied: python-dateutil>=2.7 in /opt/conda/lib/python3.7/site-packages (from matplotlib->aif360[LawSchoolGPA]) (2.8.1)\n",
      "Requirement already satisfied: pillow>=6.2.0 in /opt/conda/lib/python3.7/site-packages (from matplotlib->aif360[LawSchoolGPA]) (7.0.0)\n",
      "Requirement already satisfied: pytz>=2017.3 in /opt/conda/lib/python3.7/site-packages (from pandas>=0.24.0->aif360[LawSchoolGPA]) (2019.3)\n",
      "Requirement already satisfied: shap in /opt/conda/lib/python3.7/site-packages (from tempeh; extra == \"lawschoolgpa\"->aif360[LawSchoolGPA]) (0.34.0)\n",
      "Collecting pytest\n",
      "  Downloading pytest-7.1.3-py3-none-any.whl (298 kB)\n",
      "\u001b[K     |████████████████████████████████| 298 kB 9.1 MB/s eta 0:00:01     |███████████                     | 102 kB 9.1 MB/s eta 0:00:01\n",
      "\u001b[?25hCollecting memory-profiler\n",
      "  Downloading memory_profiler-0.60.0.tar.gz (38 kB)\n",
      "Requirement already satisfied: requests in /opt/conda/lib/python3.7/site-packages (from tempeh; extra == \"lawschoolgpa\"->aif360[LawSchoolGPA]) (2.23.0)\n",
      "Requirement already satisfied: six in /opt/conda/lib/python3.7/site-packages (from cycler>=0.10->matplotlib->aif360[LawSchoolGPA]) (1.16.0)\n",
      "Requirement already satisfied: setuptools in /opt/conda/lib/python3.7/site-packages (from kiwisolver>=1.0.1->matplotlib->aif360[LawSchoolGPA]) (45.2.0.post20200209)\n",
      "Requirement already satisfied: tqdm>4.25.0 in /opt/conda/lib/python3.7/site-packages (from shap->tempeh; extra == \"lawschoolgpa\"->aif360[LawSchoolGPA]) (4.43.0)\n",
      "Collecting py>=1.8.2\n",
      "  Downloading py-1.11.0-py2.py3-none-any.whl (98 kB)\n",
      "\u001b[K     |████████████████████████████████| 98 kB 9.2 MB/s  eta 0:00:01\n",
      "\u001b[?25hRequirement already satisfied: importlib-metadata>=0.12; python_version < \"3.8\" in /opt/conda/lib/python3.7/site-packages (from pytest->tempeh; extra == \"lawschoolgpa\"->aif360[LawSchoolGPA]) (1.5.0)\n",
      "Requirement already satisfied: attrs>=19.2.0 in /opt/conda/lib/python3.7/site-packages (from pytest->tempeh; extra == \"lawschoolgpa\"->aif360[LawSchoolGPA]) (19.3.0)\n",
      "Requirement already satisfied: packaging in /opt/conda/lib/python3.7/site-packages (from pytest->tempeh; extra == \"lawschoolgpa\"->aif360[LawSchoolGPA]) (20.1)\n",
      "Collecting tomli>=1.0.0\n",
      "  Downloading tomli-2.0.1-py3-none-any.whl (12 kB)\n",
      "Collecting iniconfig\n",
      "  Downloading iniconfig-1.1.1-py2.py3-none-any.whl (5.0 kB)\n",
      "Collecting pluggy<2.0,>=0.12\n",
      "  Downloading pluggy-1.0.0-py2.py3-none-any.whl (13 kB)\n",
      "Collecting psutil\n",
      "  Downloading psutil-5.9.2-cp37-cp37m-manylinux_2_12_x86_64.manylinux2010_x86_64.manylinux_2_17_x86_64.manylinux2014_x86_64.whl (281 kB)\n",
      "\u001b[K     |████████████████████████████████| 281 kB 29.4 MB/s eta 0:00:01\n",
      "\u001b[?25hRequirement already satisfied: idna<3,>=2.5 in /opt/conda/lib/python3.7/site-packages (from requests->tempeh; extra == \"lawschoolgpa\"->aif360[LawSchoolGPA]) (2.9)\n",
      "Requirement already satisfied: urllib3!=1.25.0,!=1.25.1,<1.26,>=1.21.1 in /opt/conda/lib/python3.7/site-packages (from requests->tempeh; extra == \"lawschoolgpa\"->aif360[LawSchoolGPA]) (1.25.7)\n",
      "Requirement already satisfied: certifi>=2017.4.17 in /opt/conda/lib/python3.7/site-packages (from requests->tempeh; extra == \"lawschoolgpa\"->aif360[LawSchoolGPA]) (2019.11.28)\n",
      "Requirement already satisfied: chardet<4,>=3.0.2 in /opt/conda/lib/python3.7/site-packages (from requests->tempeh; extra == \"lawschoolgpa\"->aif360[LawSchoolGPA]) (3.0.4)\n",
      "Requirement already satisfied: zipp>=0.5 in /opt/conda/lib/python3.7/site-packages (from importlib-metadata>=0.12; python_version < \"3.8\"->pytest->tempeh; extra == \"lawschoolgpa\"->aif360[LawSchoolGPA]) (3.0.0)\n",
      "Building wheels for collected packages: memory-profiler\n",
      "  Building wheel for memory-profiler (setup.py) ... \u001b[?25ldone\n",
      "\u001b[?25h  Created wheel for memory-profiler: filename=memory_profiler-0.60.0-py3-none-any.whl size=31276 sha256=a18789bf9b00e44c7b17f192c9df689120577fded4f70c85441f6ff65517503d\n",
      "  Stored in directory: /root/.cache/pip/wheels/67/2b/fb/326e30d638c538e69a5eb0aa47f4223d979f502bbdb403950f\n",
      "Successfully built memory-profiler\n",
      "Installing collected packages: py, tomli, iniconfig, pluggy, pytest, psutil, memory-profiler, tempeh\n",
      "\u001b[33m  WARNING: The scripts py.test and pytest are installed in '/root/.local/bin' which is not on PATH.\n",
      "  Consider adding this directory to PATH or, if you prefer to suppress this warning, use --no-warn-script-location.\u001b[0m\n",
      "\u001b[33m  WARNING: The script mprof is installed in '/root/.local/bin' which is not on PATH.\n",
      "  Consider adding this directory to PATH or, if you prefer to suppress this warning, use --no-warn-script-location.\u001b[0m\n",
      "Successfully installed iniconfig-1.1.1 memory-profiler-0.60.0 pluggy-1.0.0 psutil-5.9.2 py-1.11.0 pytest-7.1.3 tempeh-0.1.12 tomli-2.0.1\n"
     ]
    }
   ],
   "source": [
    "!pip install aif360\n",
    "!pip install tensorflow\n",
    "!pip install jinja2\n",
    "!pip install fairlearn\n",
    "!pip install aif360[LawSchoolGPA]"
   ]
  },
  {
   "cell_type": "markdown",
   "metadata": {
    "graffitiCellId": "id_3fbc75c"
   },
   "source": [
    "**Note:** Please restart the Jupyter Notebook kernel before proceeding with the package imports."
   ]
  },
  {
   "cell_type": "code",
   "execution_count": 1,
   "metadata": {
    "graffitiCellId": "id_fski7gu"
   },
   "outputs": [],
   "source": [
    "#Importing of some needed libraries\n",
    "\n",
    "import pandas as pd\n",
    "import numpy as np\n",
    "import seaborn as sns\n",
    "import tempfile\n",
    "from aif360.datasets import StandardDataset, BinaryLabelDataset\n",
    "from aif360.metrics import ClassificationMetric, BinaryLabelDatasetMetric\n",
    "from sklearn.tree import DecisionTreeClassifier\n",
    "from aif360.algorithms.postprocessing import RejectOptionClassification\n",
    "from sklearn.model_selection import train_test_split\n",
    "from sklearn.pipeline import make_pipeline\n",
    "from sklearn.metrics import confusion_matrix, ConfusionMatrixDisplay\n",
    "from sklearn.linear_model import LogisticRegression\n",
    "from sklearn.naive_bayes import GaussianNB\n",
    "from sklearn.metrics import accuracy_score\n",
    "import joblib\n",
    "import matplotlib.pyplot as plt\n",
    "from collections import defaultdict"
   ]
  },
  {
   "cell_type": "code",
   "execution_count": 2,
   "metadata": {
    "graffitiCellId": "id_50nvojt"
   },
   "outputs": [
    {
     "data": {
      "text/html": [
       "<div>\n",
       "<style scoped>\n",
       "    .dataframe tbody tr th:only-of-type {\n",
       "        vertical-align: middle;\n",
       "    }\n",
       "\n",
       "    .dataframe tbody tr th {\n",
       "        vertical-align: top;\n",
       "    }\n",
       "\n",
       "    .dataframe thead th {\n",
       "        text-align: right;\n",
       "    }\n",
       "</style>\n",
       "<table border=\"1\" class=\"dataframe\">\n",
       "  <thead>\n",
       "    <tr style=\"text-align: right;\">\n",
       "      <th></th>\n",
       "      <th>Budget (in dollars)</th>\n",
       "      <th>Age</th>\n",
       "      <th>Gender</th>\n",
       "      <th>Education_Level</th>\n",
       "      <th>With children?</th>\n",
       "      <th>Recommended_Activity</th>\n",
       "    </tr>\n",
       "  </thead>\n",
       "  <tbody>\n",
       "    <tr>\n",
       "      <th>0</th>\n",
       "      <td>3258.0</td>\n",
       "      <td>29.0</td>\n",
       "      <td>Transgender</td>\n",
       "      <td>Bachelor’s Degree</td>\n",
       "      <td>0.0</td>\n",
       "      <td>Stay in: Watch calming TV</td>\n",
       "    </tr>\n",
       "    <tr>\n",
       "      <th>1</th>\n",
       "      <td>1741.0</td>\n",
       "      <td>89.0</td>\n",
       "      <td>Other</td>\n",
       "      <td>Bachelor’s Degree</td>\n",
       "      <td>NaN</td>\n",
       "      <td>Play: Visit a movie theater</td>\n",
       "    </tr>\n",
       "    <tr>\n",
       "      <th>2</th>\n",
       "      <td>140.0</td>\n",
       "      <td>22.0</td>\n",
       "      <td>NaN</td>\n",
       "      <td>Other</td>\n",
       "      <td>0.0</td>\n",
       "      <td>Play: Visit a movie theater</td>\n",
       "    </tr>\n",
       "    <tr>\n",
       "      <th>3</th>\n",
       "      <td>179.0</td>\n",
       "      <td>23.0</td>\n",
       "      <td>Non-binary</td>\n",
       "      <td>Other</td>\n",
       "      <td>0.0</td>\n",
       "      <td>Play: Visit a movie theater</td>\n",
       "    </tr>\n",
       "    <tr>\n",
       "      <th>4</th>\n",
       "      <td>3479.0</td>\n",
       "      <td>79.0</td>\n",
       "      <td>Non-binary</td>\n",
       "      <td>Master’s Degree</td>\n",
       "      <td>1.0</td>\n",
       "      <td>Learn: Visit a library</td>\n",
       "    </tr>\n",
       "  </tbody>\n",
       "</table>\n",
       "</div>"
      ],
      "text/plain": [
       "   Budget (in dollars)   Age       Gender    Education_Level  With children?  \\\n",
       "0               3258.0  29.0  Transgender  Bachelor’s Degree             0.0   \n",
       "1               1741.0  89.0        Other  Bachelor’s Degree             NaN   \n",
       "2                140.0  22.0          NaN              Other             0.0   \n",
       "3                179.0  23.0   Non-binary              Other             0.0   \n",
       "4               3479.0  79.0   Non-binary    Master’s Degree             1.0   \n",
       "\n",
       "          Recommended_Activity  \n",
       "0    Stay in: Watch calming TV  \n",
       "1  Play: Visit a movie theater  \n",
       "2  Play: Visit a movie theater  \n",
       "3  Play: Visit a movie theater  \n",
       "4       Learn: Visit a library  "
      ]
     },
     "execution_count": 2,
     "metadata": {},
     "output_type": "execute_result"
    }
   ],
   "source": [
    "#Load the dataset for this project\n",
    "\n",
    "act_rec_dataset = pd.read_csv('udacity_ai_ethics_project_data.csv')\n",
    "act_rec_dataset.head()"
   ]
  },
  {
   "cell_type": "markdown",
   "metadata": {
    "graffitiCellId": "id_3vpth5q"
   },
   "source": [
    "## Step 1: Data Pre-Processing and Evaluation\n",
    "\n",
    "For this problem statement, I will need to prepare a dataset with all categorical variables, which requires the following pre-processing steps:\n",
    "\n",
    "\n",
    "- Remove the NA values from the dataset\n",
    "- Convert Age and Budget (in dollars) to categorical columns with the following binning:\n",
    "\n",
    "> Bins for Age: 18-24, 25-44, 45-65, 66-92\n",
    "\n",
    "> Bins for Budget: >=300, <300"
   ]
  },
  {
   "cell_type": "code",
   "execution_count": 3,
   "metadata": {
    "graffitiCellId": "id_hxh0yhq"
   },
   "outputs": [
    {
     "data": {
      "text/html": [
       "<div>\n",
       "<style scoped>\n",
       "    .dataframe tbody tr th:only-of-type {\n",
       "        vertical-align: middle;\n",
       "    }\n",
       "\n",
       "    .dataframe tbody tr th {\n",
       "        vertical-align: top;\n",
       "    }\n",
       "\n",
       "    .dataframe thead th {\n",
       "        text-align: right;\n",
       "    }\n",
       "</style>\n",
       "<table border=\"1\" class=\"dataframe\">\n",
       "  <thead>\n",
       "    <tr style=\"text-align: right;\">\n",
       "      <th></th>\n",
       "      <th>Budget (in dollars)</th>\n",
       "      <th>Age</th>\n",
       "      <th>Gender</th>\n",
       "      <th>Education_Level</th>\n",
       "      <th>With children?</th>\n",
       "      <th>Recommended_Activity</th>\n",
       "    </tr>\n",
       "  </thead>\n",
       "  <tbody>\n",
       "    <tr>\n",
       "      <th>0</th>\n",
       "      <td>3258.0</td>\n",
       "      <td>29.0</td>\n",
       "      <td>Transgender</td>\n",
       "      <td>Bachelor’s Degree</td>\n",
       "      <td>0.0</td>\n",
       "      <td>Stay in: Watch calming TV</td>\n",
       "    </tr>\n",
       "    <tr>\n",
       "      <th>1</th>\n",
       "      <td>1741.0</td>\n",
       "      <td>89.0</td>\n",
       "      <td>Other</td>\n",
       "      <td>Bachelor’s Degree</td>\n",
       "      <td>NaN</td>\n",
       "      <td>Play: Visit a movie theater</td>\n",
       "    </tr>\n",
       "    <tr>\n",
       "      <th>2</th>\n",
       "      <td>140.0</td>\n",
       "      <td>22.0</td>\n",
       "      <td>NaN</td>\n",
       "      <td>Other</td>\n",
       "      <td>0.0</td>\n",
       "      <td>Play: Visit a movie theater</td>\n",
       "    </tr>\n",
       "    <tr>\n",
       "      <th>3</th>\n",
       "      <td>179.0</td>\n",
       "      <td>23.0</td>\n",
       "      <td>Non-binary</td>\n",
       "      <td>Other</td>\n",
       "      <td>0.0</td>\n",
       "      <td>Play: Visit a movie theater</td>\n",
       "    </tr>\n",
       "    <tr>\n",
       "      <th>4</th>\n",
       "      <td>3479.0</td>\n",
       "      <td>79.0</td>\n",
       "      <td>Non-binary</td>\n",
       "      <td>Master’s Degree</td>\n",
       "      <td>1.0</td>\n",
       "      <td>Learn: Visit a library</td>\n",
       "    </tr>\n",
       "  </tbody>\n",
       "</table>\n",
       "</div>"
      ],
      "text/plain": [
       "   Budget (in dollars)   Age       Gender    Education_Level  With children?  \\\n",
       "0               3258.0  29.0  Transgender  Bachelor’s Degree             0.0   \n",
       "1               1741.0  89.0        Other  Bachelor’s Degree             NaN   \n",
       "2                140.0  22.0          NaN              Other             0.0   \n",
       "3                179.0  23.0   Non-binary              Other             0.0   \n",
       "4               3479.0  79.0   Non-binary    Master’s Degree             1.0   \n",
       "\n",
       "          Recommended_Activity  \n",
       "0    Stay in: Watch calming TV  \n",
       "1  Play: Visit a movie theater  \n",
       "2  Play: Visit a movie theater  \n",
       "3  Play: Visit a movie theater  \n",
       "4       Learn: Visit a library  "
      ]
     },
     "execution_count": 3,
     "metadata": {},
     "output_type": "execute_result"
    }
   ],
   "source": [
    "act_rec_dataset.head()"
   ]
  },
  {
   "cell_type": "code",
   "execution_count": 4,
   "metadata": {
    "graffitiCellId": "id_ghwe683"
   },
   "outputs": [],
   "source": [
    "# To rename some columns in the dataset\n",
    "\n",
    "act_rec_dataset.rename(columns = {'Budget (in dollars)':'Budget_dollars',\n",
    "                                  'With children?':'With_Children'}, inplace = True)"
   ]
  },
  {
   "cell_type": "code",
   "execution_count": 5,
   "metadata": {
    "graffitiCellId": "id_51yevhv"
   },
   "outputs": [
    {
     "data": {
      "text/html": [
       "<div>\n",
       "<style scoped>\n",
       "    .dataframe tbody tr th:only-of-type {\n",
       "        vertical-align: middle;\n",
       "    }\n",
       "\n",
       "    .dataframe tbody tr th {\n",
       "        vertical-align: top;\n",
       "    }\n",
       "\n",
       "    .dataframe thead th {\n",
       "        text-align: right;\n",
       "    }\n",
       "</style>\n",
       "<table border=\"1\" class=\"dataframe\">\n",
       "  <thead>\n",
       "    <tr style=\"text-align: right;\">\n",
       "      <th></th>\n",
       "      <th>Budget_dollars</th>\n",
       "      <th>Age</th>\n",
       "      <th>Gender</th>\n",
       "      <th>Education_Level</th>\n",
       "      <th>With_Children</th>\n",
       "      <th>Recommended_Activity</th>\n",
       "    </tr>\n",
       "  </thead>\n",
       "  <tbody>\n",
       "    <tr>\n",
       "      <th>0</th>\n",
       "      <td>3258.0</td>\n",
       "      <td>29.0</td>\n",
       "      <td>Transgender</td>\n",
       "      <td>Bachelor’s Degree</td>\n",
       "      <td>0.0</td>\n",
       "      <td>Stay in: Watch calming TV</td>\n",
       "    </tr>\n",
       "    <tr>\n",
       "      <th>1</th>\n",
       "      <td>1741.0</td>\n",
       "      <td>89.0</td>\n",
       "      <td>Other</td>\n",
       "      <td>Bachelor’s Degree</td>\n",
       "      <td>NaN</td>\n",
       "      <td>Play: Visit a movie theater</td>\n",
       "    </tr>\n",
       "    <tr>\n",
       "      <th>2</th>\n",
       "      <td>140.0</td>\n",
       "      <td>22.0</td>\n",
       "      <td>NaN</td>\n",
       "      <td>Other</td>\n",
       "      <td>0.0</td>\n",
       "      <td>Play: Visit a movie theater</td>\n",
       "    </tr>\n",
       "    <tr>\n",
       "      <th>3</th>\n",
       "      <td>179.0</td>\n",
       "      <td>23.0</td>\n",
       "      <td>Non-binary</td>\n",
       "      <td>Other</td>\n",
       "      <td>0.0</td>\n",
       "      <td>Play: Visit a movie theater</td>\n",
       "    </tr>\n",
       "    <tr>\n",
       "      <th>4</th>\n",
       "      <td>3479.0</td>\n",
       "      <td>79.0</td>\n",
       "      <td>Non-binary</td>\n",
       "      <td>Master’s Degree</td>\n",
       "      <td>1.0</td>\n",
       "      <td>Learn: Visit a library</td>\n",
       "    </tr>\n",
       "    <tr>\n",
       "      <th>5</th>\n",
       "      <td>3335.0</td>\n",
       "      <td>35.0</td>\n",
       "      <td>Male</td>\n",
       "      <td>Bachelor’s Degree</td>\n",
       "      <td>1.0</td>\n",
       "      <td>Play: Go shopping</td>\n",
       "    </tr>\n",
       "    <tr>\n",
       "      <th>6</th>\n",
       "      <td>4044.0</td>\n",
       "      <td>42.0</td>\n",
       "      <td>Non-binary</td>\n",
       "      <td>Master’s Degree</td>\n",
       "      <td>0.0</td>\n",
       "      <td>Explore: Go sightseeing</td>\n",
       "    </tr>\n",
       "    <tr>\n",
       "      <th>7</th>\n",
       "      <td>3110.0</td>\n",
       "      <td>33.0</td>\n",
       "      <td>NaN</td>\n",
       "      <td>Bachelor’s Degree</td>\n",
       "      <td>NaN</td>\n",
       "      <td>Learn: Visit a library</td>\n",
       "    </tr>\n",
       "    <tr>\n",
       "      <th>8</th>\n",
       "      <td>2410.0</td>\n",
       "      <td>30.0</td>\n",
       "      <td>Transgender</td>\n",
       "      <td>Master’s Degree</td>\n",
       "      <td>1.0</td>\n",
       "      <td>Stay in: Color</td>\n",
       "    </tr>\n",
       "    <tr>\n",
       "      <th>9</th>\n",
       "      <td>4133.0</td>\n",
       "      <td>43.0</td>\n",
       "      <td>Transgender</td>\n",
       "      <td>Master’s Degree</td>\n",
       "      <td>1.0</td>\n",
       "      <td>Stay in: Color</td>\n",
       "    </tr>\n",
       "    <tr>\n",
       "      <th>10</th>\n",
       "      <td>226.0</td>\n",
       "      <td>19.0</td>\n",
       "      <td>NaN</td>\n",
       "      <td>NaN</td>\n",
       "      <td>1.0</td>\n",
       "      <td>Play: Visit a movie theater</td>\n",
       "    </tr>\n",
       "    <tr>\n",
       "      <th>11</th>\n",
       "      <td>59.0</td>\n",
       "      <td>18.0</td>\n",
       "      <td>Other</td>\n",
       "      <td>High School Grad</td>\n",
       "      <td>1.0</td>\n",
       "      <td>Play: Go shopping</td>\n",
       "    </tr>\n",
       "    <tr>\n",
       "      <th>12</th>\n",
       "      <td>74.0</td>\n",
       "      <td>22.0</td>\n",
       "      <td>NaN</td>\n",
       "      <td>NaN</td>\n",
       "      <td>NaN</td>\n",
       "      <td>Play: Go shopping</td>\n",
       "    </tr>\n",
       "    <tr>\n",
       "      <th>13</th>\n",
       "      <td>181.0</td>\n",
       "      <td>20.0</td>\n",
       "      <td>Other</td>\n",
       "      <td>High School Grad</td>\n",
       "      <td>0.0</td>\n",
       "      <td>Play: Go shopping</td>\n",
       "    </tr>\n",
       "    <tr>\n",
       "      <th>14</th>\n",
       "      <td>4181.0</td>\n",
       "      <td>41.0</td>\n",
       "      <td>Transgender</td>\n",
       "      <td>Bachelor’s Degree</td>\n",
       "      <td>NaN</td>\n",
       "      <td>Stay in: Play a game</td>\n",
       "    </tr>\n",
       "    <tr>\n",
       "      <th>15</th>\n",
       "      <td>291.0</td>\n",
       "      <td>22.0</td>\n",
       "      <td>NaN</td>\n",
       "      <td>Other</td>\n",
       "      <td>0.0</td>\n",
       "      <td>Play: Visit a movie theater</td>\n",
       "    </tr>\n",
       "    <tr>\n",
       "      <th>16</th>\n",
       "      <td>35.0</td>\n",
       "      <td>28.0</td>\n",
       "      <td>Male</td>\n",
       "      <td>NaN</td>\n",
       "      <td>NaN</td>\n",
       "      <td>Stay in: Watch calming TV</td>\n",
       "    </tr>\n",
       "    <tr>\n",
       "      <th>17</th>\n",
       "      <td>273.0</td>\n",
       "      <td>18.0</td>\n",
       "      <td>Male</td>\n",
       "      <td>Did Not Graduate HS</td>\n",
       "      <td>1.0</td>\n",
       "      <td>Play: Visit a movie theater</td>\n",
       "    </tr>\n",
       "    <tr>\n",
       "      <th>18</th>\n",
       "      <td>2620.0</td>\n",
       "      <td>57.0</td>\n",
       "      <td>Other</td>\n",
       "      <td>Bachelor’s Degree</td>\n",
       "      <td>1.0</td>\n",
       "      <td>Stay in: Play a game</td>\n",
       "    </tr>\n",
       "    <tr>\n",
       "      <th>19</th>\n",
       "      <td>436.0</td>\n",
       "      <td>40.0</td>\n",
       "      <td>Male</td>\n",
       "      <td>Bachelor’s Degree</td>\n",
       "      <td>0.0</td>\n",
       "      <td>Learn: Visit a library</td>\n",
       "    </tr>\n",
       "    <tr>\n",
       "      <th>20</th>\n",
       "      <td>270.0</td>\n",
       "      <td>20.0</td>\n",
       "      <td>NaN</td>\n",
       "      <td>Other</td>\n",
       "      <td>NaN</td>\n",
       "      <td>Play: Go shopping</td>\n",
       "    </tr>\n",
       "    <tr>\n",
       "      <th>21</th>\n",
       "      <td>251.0</td>\n",
       "      <td>19.0</td>\n",
       "      <td>Non-binary</td>\n",
       "      <td>NaN</td>\n",
       "      <td>0.0</td>\n",
       "      <td>Play: Go shopping</td>\n",
       "    </tr>\n",
       "    <tr>\n",
       "      <th>22</th>\n",
       "      <td>306.0</td>\n",
       "      <td>31.0</td>\n",
       "      <td>NaN</td>\n",
       "      <td>Master’s Degree</td>\n",
       "      <td>NaN</td>\n",
       "      <td>Explore: Visit a park</td>\n",
       "    </tr>\n",
       "    <tr>\n",
       "      <th>23</th>\n",
       "      <td>946.0</td>\n",
       "      <td>30.0</td>\n",
       "      <td>Male</td>\n",
       "      <td>Bachelor’s Degree</td>\n",
       "      <td>0.0</td>\n",
       "      <td>Stay in: Watch calming TV</td>\n",
       "    </tr>\n",
       "    <tr>\n",
       "      <th>24</th>\n",
       "      <td>2841.0</td>\n",
       "      <td>80.0</td>\n",
       "      <td>Female</td>\n",
       "      <td>Bachelor’s Degree</td>\n",
       "      <td>1.0</td>\n",
       "      <td>Stay in: Color</td>\n",
       "    </tr>\n",
       "    <tr>\n",
       "      <th>25</th>\n",
       "      <td>1333.0</td>\n",
       "      <td>43.0</td>\n",
       "      <td>Non-binary</td>\n",
       "      <td>Master’s Degree</td>\n",
       "      <td>1.0</td>\n",
       "      <td>Stay in: Play a game</td>\n",
       "    </tr>\n",
       "    <tr>\n",
       "      <th>26</th>\n",
       "      <td>4862.0</td>\n",
       "      <td>70.0</td>\n",
       "      <td>Non-binary</td>\n",
       "      <td>Master’s Degree</td>\n",
       "      <td>NaN</td>\n",
       "      <td>Play: Go shopping</td>\n",
       "    </tr>\n",
       "    <tr>\n",
       "      <th>27</th>\n",
       "      <td>171.0</td>\n",
       "      <td>83.0</td>\n",
       "      <td>Non-binary</td>\n",
       "      <td>Other</td>\n",
       "      <td>0.0</td>\n",
       "      <td>Stay in: Play a game</td>\n",
       "    </tr>\n",
       "    <tr>\n",
       "      <th>28</th>\n",
       "      <td>37.0</td>\n",
       "      <td>63.0</td>\n",
       "      <td>Female</td>\n",
       "      <td>NaN</td>\n",
       "      <td>1.0</td>\n",
       "      <td>Learn: Visit a library</td>\n",
       "    </tr>\n",
       "    <tr>\n",
       "      <th>29</th>\n",
       "      <td>2681.0</td>\n",
       "      <td>74.0</td>\n",
       "      <td>Male</td>\n",
       "      <td>Master’s Degree</td>\n",
       "      <td>0.0</td>\n",
       "      <td>Stay in: Play a game</td>\n",
       "    </tr>\n",
       "    <tr>\n",
       "      <th>30</th>\n",
       "      <td>4747.0</td>\n",
       "      <td>39.0</td>\n",
       "      <td>Non-binary</td>\n",
       "      <td>Bachelor’s Degree</td>\n",
       "      <td>NaN</td>\n",
       "      <td>Explore: Go sightseeing</td>\n",
       "    </tr>\n",
       "    <tr>\n",
       "      <th>31</th>\n",
       "      <td>2681.0</td>\n",
       "      <td>32.0</td>\n",
       "      <td>Female</td>\n",
       "      <td>Bachelor’s Degree</td>\n",
       "      <td>1.0</td>\n",
       "      <td>Stay in: Play a game</td>\n",
       "    </tr>\n",
       "    <tr>\n",
       "      <th>32</th>\n",
       "      <td>146.0</td>\n",
       "      <td>20.0</td>\n",
       "      <td>Transgender</td>\n",
       "      <td>Other</td>\n",
       "      <td>0.0</td>\n",
       "      <td>Play: Visit a movie theater</td>\n",
       "    </tr>\n",
       "    <tr>\n",
       "      <th>33</th>\n",
       "      <td>122.0</td>\n",
       "      <td>18.0</td>\n",
       "      <td>Non-binary</td>\n",
       "      <td>NaN</td>\n",
       "      <td>0.0</td>\n",
       "      <td>Play: Go shopping</td>\n",
       "    </tr>\n",
       "    <tr>\n",
       "      <th>34</th>\n",
       "      <td>3547.0</td>\n",
       "      <td>49.0</td>\n",
       "      <td>Female</td>\n",
       "      <td>Master’s Degree</td>\n",
       "      <td>1.0</td>\n",
       "      <td>Explore: Visit a park</td>\n",
       "    </tr>\n",
       "    <tr>\n",
       "      <th>35</th>\n",
       "      <td>2273.0</td>\n",
       "      <td>89.0</td>\n",
       "      <td>Male</td>\n",
       "      <td>Bachelor’s Degree</td>\n",
       "      <td>1.0</td>\n",
       "      <td>Explore: Hike</td>\n",
       "    </tr>\n",
       "    <tr>\n",
       "      <th>36</th>\n",
       "      <td>284.0</td>\n",
       "      <td>20.0</td>\n",
       "      <td>Other</td>\n",
       "      <td>Other</td>\n",
       "      <td>1.0</td>\n",
       "      <td>Play: Go shopping</td>\n",
       "    </tr>\n",
       "    <tr>\n",
       "      <th>37</th>\n",
       "      <td>338.0</td>\n",
       "      <td>63.0</td>\n",
       "      <td>Non-binary</td>\n",
       "      <td>Master’s Degree</td>\n",
       "      <td>0.0</td>\n",
       "      <td>Stay in: Color</td>\n",
       "    </tr>\n",
       "    <tr>\n",
       "      <th>38</th>\n",
       "      <td>132.0</td>\n",
       "      <td>19.0</td>\n",
       "      <td>Female</td>\n",
       "      <td>High School Grad</td>\n",
       "      <td>1.0</td>\n",
       "      <td>Play: Go shopping</td>\n",
       "    </tr>\n",
       "    <tr>\n",
       "      <th>39</th>\n",
       "      <td>57.0</td>\n",
       "      <td>21.0</td>\n",
       "      <td>Male</td>\n",
       "      <td>NaN</td>\n",
       "      <td>0.0</td>\n",
       "      <td>Play: Visit a movie theater</td>\n",
       "    </tr>\n",
       "    <tr>\n",
       "      <th>40</th>\n",
       "      <td>4387.0</td>\n",
       "      <td>40.0</td>\n",
       "      <td>Non-binary</td>\n",
       "      <td>Master’s Degree</td>\n",
       "      <td>0.0</td>\n",
       "      <td>Stay in: Play a game</td>\n",
       "    </tr>\n",
       "    <tr>\n",
       "      <th>41</th>\n",
       "      <td>184.0</td>\n",
       "      <td>21.0</td>\n",
       "      <td>Female</td>\n",
       "      <td>Other</td>\n",
       "      <td>NaN</td>\n",
       "      <td>Play: Go shopping</td>\n",
       "    </tr>\n",
       "    <tr>\n",
       "      <th>42</th>\n",
       "      <td>127.0</td>\n",
       "      <td>22.0</td>\n",
       "      <td>Non-binary</td>\n",
       "      <td>NaN</td>\n",
       "      <td>NaN</td>\n",
       "      <td>Play: Go shopping</td>\n",
       "    </tr>\n",
       "    <tr>\n",
       "      <th>43</th>\n",
       "      <td>15.0</td>\n",
       "      <td>18.0</td>\n",
       "      <td>Other</td>\n",
       "      <td>High School Grad</td>\n",
       "      <td>0.0</td>\n",
       "      <td>Play: Visit a movie theater</td>\n",
       "    </tr>\n",
       "    <tr>\n",
       "      <th>44</th>\n",
       "      <td>103.0</td>\n",
       "      <td>28.0</td>\n",
       "      <td>Male</td>\n",
       "      <td>Did Not Graduate HS</td>\n",
       "      <td>1.0</td>\n",
       "      <td>Stay in: Watch calming TV</td>\n",
       "    </tr>\n",
       "    <tr>\n",
       "      <th>45</th>\n",
       "      <td>41.0</td>\n",
       "      <td>19.0</td>\n",
       "      <td>NaN</td>\n",
       "      <td>High School Grad</td>\n",
       "      <td>NaN</td>\n",
       "      <td>Play: Go shopping</td>\n",
       "    </tr>\n",
       "    <tr>\n",
       "      <th>46</th>\n",
       "      <td>2894.0</td>\n",
       "      <td>60.0</td>\n",
       "      <td>NaN</td>\n",
       "      <td>Bachelor’s Degree</td>\n",
       "      <td>1.0</td>\n",
       "      <td>Stay in: Color</td>\n",
       "    </tr>\n",
       "    <tr>\n",
       "      <th>47</th>\n",
       "      <td>1795.0</td>\n",
       "      <td>26.0</td>\n",
       "      <td>Male</td>\n",
       "      <td>Master’s Degree</td>\n",
       "      <td>1.0</td>\n",
       "      <td>Play: Go shopping</td>\n",
       "    </tr>\n",
       "    <tr>\n",
       "      <th>48</th>\n",
       "      <td>159.0</td>\n",
       "      <td>22.0</td>\n",
       "      <td>Other</td>\n",
       "      <td>Other</td>\n",
       "      <td>1.0</td>\n",
       "      <td>Play: Visit a movie theater</td>\n",
       "    </tr>\n",
       "    <tr>\n",
       "      <th>49</th>\n",
       "      <td>3737.0</td>\n",
       "      <td>43.0</td>\n",
       "      <td>Male</td>\n",
       "      <td>Bachelor’s Degree</td>\n",
       "      <td>1.0</td>\n",
       "      <td>Stay in: Play a game</td>\n",
       "    </tr>\n",
       "  </tbody>\n",
       "</table>\n",
       "</div>"
      ],
      "text/plain": [
       "    Budget_dollars   Age       Gender      Education_Level  With_Children  \\\n",
       "0           3258.0  29.0  Transgender    Bachelor’s Degree            0.0   \n",
       "1           1741.0  89.0        Other    Bachelor’s Degree            NaN   \n",
       "2            140.0  22.0          NaN                Other            0.0   \n",
       "3            179.0  23.0   Non-binary                Other            0.0   \n",
       "4           3479.0  79.0   Non-binary      Master’s Degree            1.0   \n",
       "5           3335.0  35.0         Male    Bachelor’s Degree            1.0   \n",
       "6           4044.0  42.0   Non-binary      Master’s Degree            0.0   \n",
       "7           3110.0  33.0          NaN    Bachelor’s Degree            NaN   \n",
       "8           2410.0  30.0  Transgender      Master’s Degree            1.0   \n",
       "9           4133.0  43.0  Transgender      Master’s Degree            1.0   \n",
       "10           226.0  19.0          NaN                  NaN            1.0   \n",
       "11            59.0  18.0        Other     High School Grad            1.0   \n",
       "12            74.0  22.0          NaN                  NaN            NaN   \n",
       "13           181.0  20.0        Other     High School Grad            0.0   \n",
       "14          4181.0  41.0  Transgender    Bachelor’s Degree            NaN   \n",
       "15           291.0  22.0          NaN                Other            0.0   \n",
       "16            35.0  28.0         Male                  NaN            NaN   \n",
       "17           273.0  18.0         Male  Did Not Graduate HS            1.0   \n",
       "18          2620.0  57.0        Other    Bachelor’s Degree            1.0   \n",
       "19           436.0  40.0         Male    Bachelor’s Degree            0.0   \n",
       "20           270.0  20.0          NaN                Other            NaN   \n",
       "21           251.0  19.0   Non-binary                  NaN            0.0   \n",
       "22           306.0  31.0          NaN      Master’s Degree            NaN   \n",
       "23           946.0  30.0         Male    Bachelor’s Degree            0.0   \n",
       "24          2841.0  80.0       Female    Bachelor’s Degree            1.0   \n",
       "25          1333.0  43.0   Non-binary      Master’s Degree            1.0   \n",
       "26          4862.0  70.0   Non-binary      Master’s Degree            NaN   \n",
       "27           171.0  83.0   Non-binary                Other            0.0   \n",
       "28            37.0  63.0       Female                  NaN            1.0   \n",
       "29          2681.0  74.0         Male      Master’s Degree            0.0   \n",
       "30          4747.0  39.0   Non-binary    Bachelor’s Degree            NaN   \n",
       "31          2681.0  32.0       Female    Bachelor’s Degree            1.0   \n",
       "32           146.0  20.0  Transgender                Other            0.0   \n",
       "33           122.0  18.0   Non-binary                  NaN            0.0   \n",
       "34          3547.0  49.0       Female      Master’s Degree            1.0   \n",
       "35          2273.0  89.0         Male    Bachelor’s Degree            1.0   \n",
       "36           284.0  20.0        Other                Other            1.0   \n",
       "37           338.0  63.0   Non-binary      Master’s Degree            0.0   \n",
       "38           132.0  19.0       Female     High School Grad            1.0   \n",
       "39            57.0  21.0         Male                  NaN            0.0   \n",
       "40          4387.0  40.0   Non-binary      Master’s Degree            0.0   \n",
       "41           184.0  21.0       Female                Other            NaN   \n",
       "42           127.0  22.0   Non-binary                  NaN            NaN   \n",
       "43            15.0  18.0        Other     High School Grad            0.0   \n",
       "44           103.0  28.0         Male  Did Not Graduate HS            1.0   \n",
       "45            41.0  19.0          NaN     High School Grad            NaN   \n",
       "46          2894.0  60.0          NaN    Bachelor’s Degree            1.0   \n",
       "47          1795.0  26.0         Male      Master’s Degree            1.0   \n",
       "48           159.0  22.0        Other                Other            1.0   \n",
       "49          3737.0  43.0         Male    Bachelor’s Degree            1.0   \n",
       "\n",
       "           Recommended_Activity  \n",
       "0     Stay in: Watch calming TV  \n",
       "1   Play: Visit a movie theater  \n",
       "2   Play: Visit a movie theater  \n",
       "3   Play: Visit a movie theater  \n",
       "4        Learn: Visit a library  \n",
       "5             Play: Go shopping  \n",
       "6       Explore: Go sightseeing  \n",
       "7        Learn: Visit a library  \n",
       "8                Stay in: Color  \n",
       "9                Stay in: Color  \n",
       "10  Play: Visit a movie theater  \n",
       "11            Play: Go shopping  \n",
       "12            Play: Go shopping  \n",
       "13            Play: Go shopping  \n",
       "14         Stay in: Play a game  \n",
       "15  Play: Visit a movie theater  \n",
       "16    Stay in: Watch calming TV  \n",
       "17  Play: Visit a movie theater  \n",
       "18         Stay in: Play a game  \n",
       "19       Learn: Visit a library  \n",
       "20            Play: Go shopping  \n",
       "21            Play: Go shopping  \n",
       "22        Explore: Visit a park  \n",
       "23    Stay in: Watch calming TV  \n",
       "24               Stay in: Color  \n",
       "25         Stay in: Play a game  \n",
       "26            Play: Go shopping  \n",
       "27         Stay in: Play a game  \n",
       "28       Learn: Visit a library  \n",
       "29         Stay in: Play a game  \n",
       "30      Explore: Go sightseeing  \n",
       "31         Stay in: Play a game  \n",
       "32  Play: Visit a movie theater  \n",
       "33            Play: Go shopping  \n",
       "34        Explore: Visit a park  \n",
       "35                Explore: Hike  \n",
       "36            Play: Go shopping  \n",
       "37               Stay in: Color  \n",
       "38            Play: Go shopping  \n",
       "39  Play: Visit a movie theater  \n",
       "40         Stay in: Play a game  \n",
       "41            Play: Go shopping  \n",
       "42            Play: Go shopping  \n",
       "43  Play: Visit a movie theater  \n",
       "44    Stay in: Watch calming TV  \n",
       "45            Play: Go shopping  \n",
       "46               Stay in: Color  \n",
       "47            Play: Go shopping  \n",
       "48  Play: Visit a movie theater  \n",
       "49         Stay in: Play a game  "
      ]
     },
     "execution_count": 5,
     "metadata": {},
     "output_type": "execute_result"
    }
   ],
   "source": [
    "act_rec_dataset.head(50)"
   ]
  },
  {
   "cell_type": "code",
   "execution_count": 6,
   "metadata": {
    "graffitiCellId": "id_hyiymr4"
   },
   "outputs": [
    {
     "name": "stdout",
     "output_type": "stream",
     "text": [
      "        Budget_dollars   Age       Gender    Education_Level  With_Children  \\\n",
      "0               3258.0  29.0  Transgender  Bachelor’s Degree            0.0   \n",
      "1               1741.0  89.0        Other  Bachelor’s Degree            NaN   \n",
      "2                140.0  22.0          NaN              Other            0.0   \n",
      "3                179.0  23.0   Non-binary              Other            0.0   \n",
      "4               3479.0  79.0   Non-binary    Master’s Degree            1.0   \n",
      "...                ...   ...          ...                ...            ...   \n",
      "299995          3316.0  47.0         Male  Bachelor’s Degree            0.0   \n",
      "299996           360.0  85.0  Transgender    Master’s Degree            NaN   \n",
      "299997           285.0  22.0       Female              Other            1.0   \n",
      "299998          1528.0  46.0          NaN    Master’s Degree            0.0   \n",
      "299999          4577.0  34.0   Non-binary    Master’s Degree            NaN   \n",
      "\n",
      "               Recommended_Activity  \n",
      "0         Stay in: Watch calming TV  \n",
      "1       Play: Visit a movie theater  \n",
      "2       Play: Visit a movie theater  \n",
      "3       Play: Visit a movie theater  \n",
      "4            Learn: Visit a library  \n",
      "...                             ...  \n",
      "299995                Explore: Hike  \n",
      "299996               Stay in: Color  \n",
      "299997  Play: Visit a movie theater  \n",
      "299998        Explore: Visit a park  \n",
      "299999               Stay in: Color  \n",
      "\n",
      "[300000 rows x 6 columns]\n"
     ]
    }
   ],
   "source": [
    "print(act_rec_dataset)"
   ]
  },
  {
   "cell_type": "code",
   "execution_count": 7,
   "metadata": {
    "graffitiCellId": "id_rac0nct"
   },
   "outputs": [],
   "source": [
    "# To remove the apostrophe sign from all characters in the Education_Level column using the \n",
    "# replace function\n",
    "\n",
    "act_rec_dataset['Education_Level'] = act_rec_dataset['Education_Level'].replace(['Bachelor’s Degree', 'Master’s Degree'], \n",
    "                                                                               ['Bachelor Degree', 'Master Degree'])"
   ]
  },
  {
   "cell_type": "code",
   "execution_count": 8,
   "metadata": {
    "graffitiCellId": "id_emfyu9f"
   },
   "outputs": [
    {
     "data": {
      "text/html": [
       "<div>\n",
       "<style scoped>\n",
       "    .dataframe tbody tr th:only-of-type {\n",
       "        vertical-align: middle;\n",
       "    }\n",
       "\n",
       "    .dataframe tbody tr th {\n",
       "        vertical-align: top;\n",
       "    }\n",
       "\n",
       "    .dataframe thead th {\n",
       "        text-align: right;\n",
       "    }\n",
       "</style>\n",
       "<table border=\"1\" class=\"dataframe\">\n",
       "  <thead>\n",
       "    <tr style=\"text-align: right;\">\n",
       "      <th></th>\n",
       "      <th>Budget_dollars</th>\n",
       "      <th>Age</th>\n",
       "      <th>Gender</th>\n",
       "      <th>Education_Level</th>\n",
       "      <th>With_Children</th>\n",
       "      <th>Recommended_Activity</th>\n",
       "    </tr>\n",
       "  </thead>\n",
       "  <tbody>\n",
       "    <tr>\n",
       "      <th>0</th>\n",
       "      <td>3258.0</td>\n",
       "      <td>29.0</td>\n",
       "      <td>Transgender</td>\n",
       "      <td>Bachelor Degree</td>\n",
       "      <td>0.0</td>\n",
       "      <td>Stay in: Watch calming TV</td>\n",
       "    </tr>\n",
       "    <tr>\n",
       "      <th>1</th>\n",
       "      <td>1741.0</td>\n",
       "      <td>89.0</td>\n",
       "      <td>Other</td>\n",
       "      <td>Bachelor Degree</td>\n",
       "      <td>NaN</td>\n",
       "      <td>Play: Visit a movie theater</td>\n",
       "    </tr>\n",
       "    <tr>\n",
       "      <th>2</th>\n",
       "      <td>140.0</td>\n",
       "      <td>22.0</td>\n",
       "      <td>NaN</td>\n",
       "      <td>Other</td>\n",
       "      <td>0.0</td>\n",
       "      <td>Play: Visit a movie theater</td>\n",
       "    </tr>\n",
       "    <tr>\n",
       "      <th>3</th>\n",
       "      <td>179.0</td>\n",
       "      <td>23.0</td>\n",
       "      <td>Non-binary</td>\n",
       "      <td>Other</td>\n",
       "      <td>0.0</td>\n",
       "      <td>Play: Visit a movie theater</td>\n",
       "    </tr>\n",
       "    <tr>\n",
       "      <th>4</th>\n",
       "      <td>3479.0</td>\n",
       "      <td>79.0</td>\n",
       "      <td>Non-binary</td>\n",
       "      <td>Master Degree</td>\n",
       "      <td>1.0</td>\n",
       "      <td>Learn: Visit a library</td>\n",
       "    </tr>\n",
       "  </tbody>\n",
       "</table>\n",
       "</div>"
      ],
      "text/plain": [
       "   Budget_dollars   Age       Gender  Education_Level  With_Children  \\\n",
       "0          3258.0  29.0  Transgender  Bachelor Degree            0.0   \n",
       "1          1741.0  89.0        Other  Bachelor Degree            NaN   \n",
       "2           140.0  22.0          NaN            Other            0.0   \n",
       "3           179.0  23.0   Non-binary            Other            0.0   \n",
       "4          3479.0  79.0   Non-binary    Master Degree            1.0   \n",
       "\n",
       "          Recommended_Activity  \n",
       "0    Stay in: Watch calming TV  \n",
       "1  Play: Visit a movie theater  \n",
       "2  Play: Visit a movie theater  \n",
       "3  Play: Visit a movie theater  \n",
       "4       Learn: Visit a library  "
      ]
     },
     "execution_count": 8,
     "metadata": {},
     "output_type": "execute_result"
    }
   ],
   "source": [
    "act_rec_dataset.head()"
   ]
  },
  {
   "cell_type": "markdown",
   "metadata": {
    "graffitiCellId": "id_7eaxi0d"
   },
   "source": [
    "### Remove NULL values\n",
    "\n",
    "In this section, I will be identifying and removing all the null values from the dataset."
   ]
  },
  {
   "cell_type": "code",
   "execution_count": 9,
   "metadata": {
    "graffitiCellId": "id_0oo2f31"
   },
   "outputs": [
    {
     "data": {
      "text/plain": [
       "Budget_dollars              0\n",
       "Age                         0\n",
       "Gender                  49799\n",
       "Education_Level         43592\n",
       "With_Children           83849\n",
       "Recommended_Activity        0\n",
       "dtype: int64"
      ]
     },
     "execution_count": 9,
     "metadata": {},
     "output_type": "execute_result"
    }
   ],
   "source": [
    "# To determine the total number of empty values in the dataset for each column\n",
    "\n",
    "act_rec_dataset.isnull().sum()"
   ]
  },
  {
   "cell_type": "code",
   "execution_count": 10,
   "metadata": {
    "graffitiCellId": "id_p6jb0fn"
   },
   "outputs": [],
   "source": [
    "# To drop the null values in the \"Gender\", \"Education_level\", and \"With_Children\" columns.\n",
    "\n",
    "act_rec_dataset.dropna(inplace = True)\n"
   ]
  },
  {
   "cell_type": "code",
   "execution_count": 11,
   "metadata": {
    "graffitiCellId": "id_kxgu8yt"
   },
   "outputs": [
    {
     "data": {
      "text/plain": [
       "Index(['Budget_dollars', 'Age', 'Gender', 'Education_Level', 'With_Children',\n",
       "       'Recommended_Activity'],\n",
       "      dtype='object')"
      ]
     },
     "execution_count": 11,
     "metadata": {},
     "output_type": "execute_result"
    }
   ],
   "source": [
    "act_rec_dataset.columns"
   ]
  },
  {
   "cell_type": "code",
   "execution_count": 12,
   "metadata": {
    "graffitiCellId": "id_6irbr8v"
   },
   "outputs": [
    {
     "data": {
      "text/html": [
       "<div>\n",
       "<style scoped>\n",
       "    .dataframe tbody tr th:only-of-type {\n",
       "        vertical-align: middle;\n",
       "    }\n",
       "\n",
       "    .dataframe tbody tr th {\n",
       "        vertical-align: top;\n",
       "    }\n",
       "\n",
       "    .dataframe thead th {\n",
       "        text-align: right;\n",
       "    }\n",
       "</style>\n",
       "<table border=\"1\" class=\"dataframe\">\n",
       "  <thead>\n",
       "    <tr style=\"text-align: right;\">\n",
       "      <th></th>\n",
       "      <th>Budget_dollars</th>\n",
       "      <th>Age</th>\n",
       "      <th>Gender</th>\n",
       "      <th>Education_Level</th>\n",
       "      <th>With_Children</th>\n",
       "      <th>Recommended_Activity</th>\n",
       "    </tr>\n",
       "  </thead>\n",
       "  <tbody>\n",
       "    <tr>\n",
       "      <th>0</th>\n",
       "      <td>3258.0</td>\n",
       "      <td>29.0</td>\n",
       "      <td>Transgender</td>\n",
       "      <td>Bachelor Degree</td>\n",
       "      <td>0.0</td>\n",
       "      <td>Stay in: Watch calming TV</td>\n",
       "    </tr>\n",
       "    <tr>\n",
       "      <th>3</th>\n",
       "      <td>179.0</td>\n",
       "      <td>23.0</td>\n",
       "      <td>Non-binary</td>\n",
       "      <td>Other</td>\n",
       "      <td>0.0</td>\n",
       "      <td>Play: Visit a movie theater</td>\n",
       "    </tr>\n",
       "    <tr>\n",
       "      <th>4</th>\n",
       "      <td>3479.0</td>\n",
       "      <td>79.0</td>\n",
       "      <td>Non-binary</td>\n",
       "      <td>Master Degree</td>\n",
       "      <td>1.0</td>\n",
       "      <td>Learn: Visit a library</td>\n",
       "    </tr>\n",
       "    <tr>\n",
       "      <th>5</th>\n",
       "      <td>3335.0</td>\n",
       "      <td>35.0</td>\n",
       "      <td>Male</td>\n",
       "      <td>Bachelor Degree</td>\n",
       "      <td>1.0</td>\n",
       "      <td>Play: Go shopping</td>\n",
       "    </tr>\n",
       "    <tr>\n",
       "      <th>6</th>\n",
       "      <td>4044.0</td>\n",
       "      <td>42.0</td>\n",
       "      <td>Non-binary</td>\n",
       "      <td>Master Degree</td>\n",
       "      <td>0.0</td>\n",
       "      <td>Explore: Go sightseeing</td>\n",
       "    </tr>\n",
       "    <tr>\n",
       "      <th>8</th>\n",
       "      <td>2410.0</td>\n",
       "      <td>30.0</td>\n",
       "      <td>Transgender</td>\n",
       "      <td>Master Degree</td>\n",
       "      <td>1.0</td>\n",
       "      <td>Stay in: Color</td>\n",
       "    </tr>\n",
       "    <tr>\n",
       "      <th>9</th>\n",
       "      <td>4133.0</td>\n",
       "      <td>43.0</td>\n",
       "      <td>Transgender</td>\n",
       "      <td>Master Degree</td>\n",
       "      <td>1.0</td>\n",
       "      <td>Stay in: Color</td>\n",
       "    </tr>\n",
       "    <tr>\n",
       "      <th>11</th>\n",
       "      <td>59.0</td>\n",
       "      <td>18.0</td>\n",
       "      <td>Other</td>\n",
       "      <td>High School Grad</td>\n",
       "      <td>1.0</td>\n",
       "      <td>Play: Go shopping</td>\n",
       "    </tr>\n",
       "    <tr>\n",
       "      <th>13</th>\n",
       "      <td>181.0</td>\n",
       "      <td>20.0</td>\n",
       "      <td>Other</td>\n",
       "      <td>High School Grad</td>\n",
       "      <td>0.0</td>\n",
       "      <td>Play: Go shopping</td>\n",
       "    </tr>\n",
       "    <tr>\n",
       "      <th>17</th>\n",
       "      <td>273.0</td>\n",
       "      <td>18.0</td>\n",
       "      <td>Male</td>\n",
       "      <td>Did Not Graduate HS</td>\n",
       "      <td>1.0</td>\n",
       "      <td>Play: Visit a movie theater</td>\n",
       "    </tr>\n",
       "    <tr>\n",
       "      <th>18</th>\n",
       "      <td>2620.0</td>\n",
       "      <td>57.0</td>\n",
       "      <td>Other</td>\n",
       "      <td>Bachelor Degree</td>\n",
       "      <td>1.0</td>\n",
       "      <td>Stay in: Play a game</td>\n",
       "    </tr>\n",
       "    <tr>\n",
       "      <th>19</th>\n",
       "      <td>436.0</td>\n",
       "      <td>40.0</td>\n",
       "      <td>Male</td>\n",
       "      <td>Bachelor Degree</td>\n",
       "      <td>0.0</td>\n",
       "      <td>Learn: Visit a library</td>\n",
       "    </tr>\n",
       "    <tr>\n",
       "      <th>23</th>\n",
       "      <td>946.0</td>\n",
       "      <td>30.0</td>\n",
       "      <td>Male</td>\n",
       "      <td>Bachelor Degree</td>\n",
       "      <td>0.0</td>\n",
       "      <td>Stay in: Watch calming TV</td>\n",
       "    </tr>\n",
       "    <tr>\n",
       "      <th>24</th>\n",
       "      <td>2841.0</td>\n",
       "      <td>80.0</td>\n",
       "      <td>Female</td>\n",
       "      <td>Bachelor Degree</td>\n",
       "      <td>1.0</td>\n",
       "      <td>Stay in: Color</td>\n",
       "    </tr>\n",
       "    <tr>\n",
       "      <th>25</th>\n",
       "      <td>1333.0</td>\n",
       "      <td>43.0</td>\n",
       "      <td>Non-binary</td>\n",
       "      <td>Master Degree</td>\n",
       "      <td>1.0</td>\n",
       "      <td>Stay in: Play a game</td>\n",
       "    </tr>\n",
       "    <tr>\n",
       "      <th>27</th>\n",
       "      <td>171.0</td>\n",
       "      <td>83.0</td>\n",
       "      <td>Non-binary</td>\n",
       "      <td>Other</td>\n",
       "      <td>0.0</td>\n",
       "      <td>Stay in: Play a game</td>\n",
       "    </tr>\n",
       "    <tr>\n",
       "      <th>29</th>\n",
       "      <td>2681.0</td>\n",
       "      <td>74.0</td>\n",
       "      <td>Male</td>\n",
       "      <td>Master Degree</td>\n",
       "      <td>0.0</td>\n",
       "      <td>Stay in: Play a game</td>\n",
       "    </tr>\n",
       "    <tr>\n",
       "      <th>31</th>\n",
       "      <td>2681.0</td>\n",
       "      <td>32.0</td>\n",
       "      <td>Female</td>\n",
       "      <td>Bachelor Degree</td>\n",
       "      <td>1.0</td>\n",
       "      <td>Stay in: Play a game</td>\n",
       "    </tr>\n",
       "    <tr>\n",
       "      <th>32</th>\n",
       "      <td>146.0</td>\n",
       "      <td>20.0</td>\n",
       "      <td>Transgender</td>\n",
       "      <td>Other</td>\n",
       "      <td>0.0</td>\n",
       "      <td>Play: Visit a movie theater</td>\n",
       "    </tr>\n",
       "    <tr>\n",
       "      <th>34</th>\n",
       "      <td>3547.0</td>\n",
       "      <td>49.0</td>\n",
       "      <td>Female</td>\n",
       "      <td>Master Degree</td>\n",
       "      <td>1.0</td>\n",
       "      <td>Explore: Visit a park</td>\n",
       "    </tr>\n",
       "  </tbody>\n",
       "</table>\n",
       "</div>"
      ],
      "text/plain": [
       "    Budget_dollars   Age       Gender      Education_Level  With_Children  \\\n",
       "0           3258.0  29.0  Transgender      Bachelor Degree            0.0   \n",
       "3            179.0  23.0   Non-binary                Other            0.0   \n",
       "4           3479.0  79.0   Non-binary        Master Degree            1.0   \n",
       "5           3335.0  35.0         Male      Bachelor Degree            1.0   \n",
       "6           4044.0  42.0   Non-binary        Master Degree            0.0   \n",
       "8           2410.0  30.0  Transgender        Master Degree            1.0   \n",
       "9           4133.0  43.0  Transgender        Master Degree            1.0   \n",
       "11            59.0  18.0        Other     High School Grad            1.0   \n",
       "13           181.0  20.0        Other     High School Grad            0.0   \n",
       "17           273.0  18.0         Male  Did Not Graduate HS            1.0   \n",
       "18          2620.0  57.0        Other      Bachelor Degree            1.0   \n",
       "19           436.0  40.0         Male      Bachelor Degree            0.0   \n",
       "23           946.0  30.0         Male      Bachelor Degree            0.0   \n",
       "24          2841.0  80.0       Female      Bachelor Degree            1.0   \n",
       "25          1333.0  43.0   Non-binary        Master Degree            1.0   \n",
       "27           171.0  83.0   Non-binary                Other            0.0   \n",
       "29          2681.0  74.0         Male        Master Degree            0.0   \n",
       "31          2681.0  32.0       Female      Bachelor Degree            1.0   \n",
       "32           146.0  20.0  Transgender                Other            0.0   \n",
       "34          3547.0  49.0       Female        Master Degree            1.0   \n",
       "\n",
       "           Recommended_Activity  \n",
       "0     Stay in: Watch calming TV  \n",
       "3   Play: Visit a movie theater  \n",
       "4        Learn: Visit a library  \n",
       "5             Play: Go shopping  \n",
       "6       Explore: Go sightseeing  \n",
       "8                Stay in: Color  \n",
       "9                Stay in: Color  \n",
       "11            Play: Go shopping  \n",
       "13            Play: Go shopping  \n",
       "17  Play: Visit a movie theater  \n",
       "18         Stay in: Play a game  \n",
       "19       Learn: Visit a library  \n",
       "23    Stay in: Watch calming TV  \n",
       "24               Stay in: Color  \n",
       "25         Stay in: Play a game  \n",
       "27         Stay in: Play a game  \n",
       "29         Stay in: Play a game  \n",
       "31         Stay in: Play a game  \n",
       "32  Play: Visit a movie theater  \n",
       "34        Explore: Visit a park  "
      ]
     },
     "execution_count": 12,
     "metadata": {},
     "output_type": "execute_result"
    }
   ],
   "source": [
    "# Top 10 rows of the dataframe without null values\n",
    "\n",
    "act_rec_dataset.head(20)"
   ]
  },
  {
   "cell_type": "code",
   "execution_count": 13,
   "metadata": {
    "graffitiCellId": "id_9hzmlwu"
   },
   "outputs": [
    {
     "data": {
      "text/plain": [
       "Budget_dollars          0\n",
       "Age                     0\n",
       "Gender                  0\n",
       "Education_Level         0\n",
       "With_Children           0\n",
       "Recommended_Activity    0\n",
       "dtype: int64"
      ]
     },
     "execution_count": 13,
     "metadata": {},
     "output_type": "execute_result"
    }
   ],
   "source": [
    "act_rec_dataset.isnull().sum()"
   ]
  },
  {
   "cell_type": "markdown",
   "metadata": {
    "graffitiCellId": "id_fyypzak"
   },
   "source": [
    "### Binning\n",
    "\n",
    "In this section, I will be using bins to convert some numerical columns to categorical columns."
   ]
  },
  {
   "cell_type": "code",
   "execution_count": 14,
   "metadata": {
    "graffitiCellId": "id_wbdl9nt"
   },
   "outputs": [],
   "source": [
    "# For the Budget_dollars column\n",
    "\n",
    "bins = [0,300,1000000]\n",
    "labels = ['<300', '>=300']"
   ]
  },
  {
   "cell_type": "code",
   "execution_count": 15,
   "metadata": {
    "graffitiCellId": "id_nsfcp79"
   },
   "outputs": [],
   "source": [
    "# To convert the Budget_dollars column to a categorical column\n",
    "\n",
    "act_rec_dataset['Budget_dollars'] = pd.cut(act_rec_dataset['Budget_dollars'], bins, labels = labels)"
   ]
  },
  {
   "cell_type": "code",
   "execution_count": 16,
   "metadata": {
    "graffitiCellId": "id_tla0lis"
   },
   "outputs": [
    {
     "data": {
      "text/html": [
       "<div>\n",
       "<style scoped>\n",
       "    .dataframe tbody tr th:only-of-type {\n",
       "        vertical-align: middle;\n",
       "    }\n",
       "\n",
       "    .dataframe tbody tr th {\n",
       "        vertical-align: top;\n",
       "    }\n",
       "\n",
       "    .dataframe thead th {\n",
       "        text-align: right;\n",
       "    }\n",
       "</style>\n",
       "<table border=\"1\" class=\"dataframe\">\n",
       "  <thead>\n",
       "    <tr style=\"text-align: right;\">\n",
       "      <th></th>\n",
       "      <th>Budget_dollars</th>\n",
       "      <th>Age</th>\n",
       "      <th>Gender</th>\n",
       "      <th>Education_Level</th>\n",
       "      <th>With_Children</th>\n",
       "      <th>Recommended_Activity</th>\n",
       "    </tr>\n",
       "  </thead>\n",
       "  <tbody>\n",
       "    <tr>\n",
       "      <th>0</th>\n",
       "      <td>&gt;=300</td>\n",
       "      <td>29.0</td>\n",
       "      <td>Transgender</td>\n",
       "      <td>Bachelor Degree</td>\n",
       "      <td>0.0</td>\n",
       "      <td>Stay in: Watch calming TV</td>\n",
       "    </tr>\n",
       "    <tr>\n",
       "      <th>3</th>\n",
       "      <td>&lt;300</td>\n",
       "      <td>23.0</td>\n",
       "      <td>Non-binary</td>\n",
       "      <td>Other</td>\n",
       "      <td>0.0</td>\n",
       "      <td>Play: Visit a movie theater</td>\n",
       "    </tr>\n",
       "    <tr>\n",
       "      <th>4</th>\n",
       "      <td>&gt;=300</td>\n",
       "      <td>79.0</td>\n",
       "      <td>Non-binary</td>\n",
       "      <td>Master Degree</td>\n",
       "      <td>1.0</td>\n",
       "      <td>Learn: Visit a library</td>\n",
       "    </tr>\n",
       "    <tr>\n",
       "      <th>5</th>\n",
       "      <td>&gt;=300</td>\n",
       "      <td>35.0</td>\n",
       "      <td>Male</td>\n",
       "      <td>Bachelor Degree</td>\n",
       "      <td>1.0</td>\n",
       "      <td>Play: Go shopping</td>\n",
       "    </tr>\n",
       "    <tr>\n",
       "      <th>6</th>\n",
       "      <td>&gt;=300</td>\n",
       "      <td>42.0</td>\n",
       "      <td>Non-binary</td>\n",
       "      <td>Master Degree</td>\n",
       "      <td>0.0</td>\n",
       "      <td>Explore: Go sightseeing</td>\n",
       "    </tr>\n",
       "    <tr>\n",
       "      <th>8</th>\n",
       "      <td>&gt;=300</td>\n",
       "      <td>30.0</td>\n",
       "      <td>Transgender</td>\n",
       "      <td>Master Degree</td>\n",
       "      <td>1.0</td>\n",
       "      <td>Stay in: Color</td>\n",
       "    </tr>\n",
       "    <tr>\n",
       "      <th>9</th>\n",
       "      <td>&gt;=300</td>\n",
       "      <td>43.0</td>\n",
       "      <td>Transgender</td>\n",
       "      <td>Master Degree</td>\n",
       "      <td>1.0</td>\n",
       "      <td>Stay in: Color</td>\n",
       "    </tr>\n",
       "    <tr>\n",
       "      <th>11</th>\n",
       "      <td>&lt;300</td>\n",
       "      <td>18.0</td>\n",
       "      <td>Other</td>\n",
       "      <td>High School Grad</td>\n",
       "      <td>1.0</td>\n",
       "      <td>Play: Go shopping</td>\n",
       "    </tr>\n",
       "    <tr>\n",
       "      <th>13</th>\n",
       "      <td>&lt;300</td>\n",
       "      <td>20.0</td>\n",
       "      <td>Other</td>\n",
       "      <td>High School Grad</td>\n",
       "      <td>0.0</td>\n",
       "      <td>Play: Go shopping</td>\n",
       "    </tr>\n",
       "    <tr>\n",
       "      <th>17</th>\n",
       "      <td>&lt;300</td>\n",
       "      <td>18.0</td>\n",
       "      <td>Male</td>\n",
       "      <td>Did Not Graduate HS</td>\n",
       "      <td>1.0</td>\n",
       "      <td>Play: Visit a movie theater</td>\n",
       "    </tr>\n",
       "    <tr>\n",
       "      <th>18</th>\n",
       "      <td>&gt;=300</td>\n",
       "      <td>57.0</td>\n",
       "      <td>Other</td>\n",
       "      <td>Bachelor Degree</td>\n",
       "      <td>1.0</td>\n",
       "      <td>Stay in: Play a game</td>\n",
       "    </tr>\n",
       "    <tr>\n",
       "      <th>19</th>\n",
       "      <td>&gt;=300</td>\n",
       "      <td>40.0</td>\n",
       "      <td>Male</td>\n",
       "      <td>Bachelor Degree</td>\n",
       "      <td>0.0</td>\n",
       "      <td>Learn: Visit a library</td>\n",
       "    </tr>\n",
       "    <tr>\n",
       "      <th>23</th>\n",
       "      <td>&gt;=300</td>\n",
       "      <td>30.0</td>\n",
       "      <td>Male</td>\n",
       "      <td>Bachelor Degree</td>\n",
       "      <td>0.0</td>\n",
       "      <td>Stay in: Watch calming TV</td>\n",
       "    </tr>\n",
       "    <tr>\n",
       "      <th>24</th>\n",
       "      <td>&gt;=300</td>\n",
       "      <td>80.0</td>\n",
       "      <td>Female</td>\n",
       "      <td>Bachelor Degree</td>\n",
       "      <td>1.0</td>\n",
       "      <td>Stay in: Color</td>\n",
       "    </tr>\n",
       "    <tr>\n",
       "      <th>25</th>\n",
       "      <td>&gt;=300</td>\n",
       "      <td>43.0</td>\n",
       "      <td>Non-binary</td>\n",
       "      <td>Master Degree</td>\n",
       "      <td>1.0</td>\n",
       "      <td>Stay in: Play a game</td>\n",
       "    </tr>\n",
       "    <tr>\n",
       "      <th>27</th>\n",
       "      <td>&lt;300</td>\n",
       "      <td>83.0</td>\n",
       "      <td>Non-binary</td>\n",
       "      <td>Other</td>\n",
       "      <td>0.0</td>\n",
       "      <td>Stay in: Play a game</td>\n",
       "    </tr>\n",
       "    <tr>\n",
       "      <th>29</th>\n",
       "      <td>&gt;=300</td>\n",
       "      <td>74.0</td>\n",
       "      <td>Male</td>\n",
       "      <td>Master Degree</td>\n",
       "      <td>0.0</td>\n",
       "      <td>Stay in: Play a game</td>\n",
       "    </tr>\n",
       "    <tr>\n",
       "      <th>31</th>\n",
       "      <td>&gt;=300</td>\n",
       "      <td>32.0</td>\n",
       "      <td>Female</td>\n",
       "      <td>Bachelor Degree</td>\n",
       "      <td>1.0</td>\n",
       "      <td>Stay in: Play a game</td>\n",
       "    </tr>\n",
       "    <tr>\n",
       "      <th>32</th>\n",
       "      <td>&lt;300</td>\n",
       "      <td>20.0</td>\n",
       "      <td>Transgender</td>\n",
       "      <td>Other</td>\n",
       "      <td>0.0</td>\n",
       "      <td>Play: Visit a movie theater</td>\n",
       "    </tr>\n",
       "    <tr>\n",
       "      <th>34</th>\n",
       "      <td>&gt;=300</td>\n",
       "      <td>49.0</td>\n",
       "      <td>Female</td>\n",
       "      <td>Master Degree</td>\n",
       "      <td>1.0</td>\n",
       "      <td>Explore: Visit a park</td>\n",
       "    </tr>\n",
       "    <tr>\n",
       "      <th>35</th>\n",
       "      <td>&gt;=300</td>\n",
       "      <td>89.0</td>\n",
       "      <td>Male</td>\n",
       "      <td>Bachelor Degree</td>\n",
       "      <td>1.0</td>\n",
       "      <td>Explore: Hike</td>\n",
       "    </tr>\n",
       "    <tr>\n",
       "      <th>36</th>\n",
       "      <td>&lt;300</td>\n",
       "      <td>20.0</td>\n",
       "      <td>Other</td>\n",
       "      <td>Other</td>\n",
       "      <td>1.0</td>\n",
       "      <td>Play: Go shopping</td>\n",
       "    </tr>\n",
       "    <tr>\n",
       "      <th>37</th>\n",
       "      <td>&gt;=300</td>\n",
       "      <td>63.0</td>\n",
       "      <td>Non-binary</td>\n",
       "      <td>Master Degree</td>\n",
       "      <td>0.0</td>\n",
       "      <td>Stay in: Color</td>\n",
       "    </tr>\n",
       "    <tr>\n",
       "      <th>38</th>\n",
       "      <td>&lt;300</td>\n",
       "      <td>19.0</td>\n",
       "      <td>Female</td>\n",
       "      <td>High School Grad</td>\n",
       "      <td>1.0</td>\n",
       "      <td>Play: Go shopping</td>\n",
       "    </tr>\n",
       "    <tr>\n",
       "      <th>40</th>\n",
       "      <td>&gt;=300</td>\n",
       "      <td>40.0</td>\n",
       "      <td>Non-binary</td>\n",
       "      <td>Master Degree</td>\n",
       "      <td>0.0</td>\n",
       "      <td>Stay in: Play a game</td>\n",
       "    </tr>\n",
       "  </tbody>\n",
       "</table>\n",
       "</div>"
      ],
      "text/plain": [
       "   Budget_dollars   Age       Gender      Education_Level  With_Children  \\\n",
       "0           >=300  29.0  Transgender      Bachelor Degree            0.0   \n",
       "3            <300  23.0   Non-binary                Other            0.0   \n",
       "4           >=300  79.0   Non-binary        Master Degree            1.0   \n",
       "5           >=300  35.0         Male      Bachelor Degree            1.0   \n",
       "6           >=300  42.0   Non-binary        Master Degree            0.0   \n",
       "8           >=300  30.0  Transgender        Master Degree            1.0   \n",
       "9           >=300  43.0  Transgender        Master Degree            1.0   \n",
       "11           <300  18.0        Other     High School Grad            1.0   \n",
       "13           <300  20.0        Other     High School Grad            0.0   \n",
       "17           <300  18.0         Male  Did Not Graduate HS            1.0   \n",
       "18          >=300  57.0        Other      Bachelor Degree            1.0   \n",
       "19          >=300  40.0         Male      Bachelor Degree            0.0   \n",
       "23          >=300  30.0         Male      Bachelor Degree            0.0   \n",
       "24          >=300  80.0       Female      Bachelor Degree            1.0   \n",
       "25          >=300  43.0   Non-binary        Master Degree            1.0   \n",
       "27           <300  83.0   Non-binary                Other            0.0   \n",
       "29          >=300  74.0         Male        Master Degree            0.0   \n",
       "31          >=300  32.0       Female      Bachelor Degree            1.0   \n",
       "32           <300  20.0  Transgender                Other            0.0   \n",
       "34          >=300  49.0       Female        Master Degree            1.0   \n",
       "35          >=300  89.0         Male      Bachelor Degree            1.0   \n",
       "36           <300  20.0        Other                Other            1.0   \n",
       "37          >=300  63.0   Non-binary        Master Degree            0.0   \n",
       "38           <300  19.0       Female     High School Grad            1.0   \n",
       "40          >=300  40.0   Non-binary        Master Degree            0.0   \n",
       "\n",
       "           Recommended_Activity  \n",
       "0     Stay in: Watch calming TV  \n",
       "3   Play: Visit a movie theater  \n",
       "4        Learn: Visit a library  \n",
       "5             Play: Go shopping  \n",
       "6       Explore: Go sightseeing  \n",
       "8                Stay in: Color  \n",
       "9                Stay in: Color  \n",
       "11            Play: Go shopping  \n",
       "13            Play: Go shopping  \n",
       "17  Play: Visit a movie theater  \n",
       "18         Stay in: Play a game  \n",
       "19       Learn: Visit a library  \n",
       "23    Stay in: Watch calming TV  \n",
       "24               Stay in: Color  \n",
       "25         Stay in: Play a game  \n",
       "27         Stay in: Play a game  \n",
       "29         Stay in: Play a game  \n",
       "31         Stay in: Play a game  \n",
       "32  Play: Visit a movie theater  \n",
       "34        Explore: Visit a park  \n",
       "35                Explore: Hike  \n",
       "36            Play: Go shopping  \n",
       "37               Stay in: Color  \n",
       "38            Play: Go shopping  \n",
       "40         Stay in: Play a game  "
      ]
     },
     "execution_count": 16,
     "metadata": {},
     "output_type": "execute_result"
    }
   ],
   "source": [
    "act_rec_dataset.head(25)"
   ]
  },
  {
   "cell_type": "code",
   "execution_count": 17,
   "metadata": {
    "graffitiCellId": "id_jbl9ydq"
   },
   "outputs": [
    {
     "data": {
      "text/plain": [
       "0"
      ]
     },
     "execution_count": 17,
     "metadata": {},
     "output_type": "execute_result"
    }
   ],
   "source": [
    "# To confirm that there is no null value\n",
    "\n",
    "act_rec_dataset.Budget_dollars.isnull().sum()"
   ]
  },
  {
   "cell_type": "code",
   "execution_count": 18,
   "metadata": {
    "graffitiCellId": "id_dhykjh7"
   },
   "outputs": [],
   "source": [
    "# For the Age column\n",
    "\n",
    "bins = [17,24,44,65,92]\n",
    "labels = ['18-24', '25-44', '45-65', '66-92']"
   ]
  },
  {
   "cell_type": "code",
   "execution_count": 19,
   "metadata": {
    "graffitiCellId": "id_kf24npc"
   },
   "outputs": [],
   "source": [
    "# To convert the Age column to a categorical column\n",
    "\n",
    "act_rec_dataset['Age'] = pd.cut(act_rec_dataset['Age'], bins, labels = labels)"
   ]
  },
  {
   "cell_type": "code",
   "execution_count": 20,
   "metadata": {
    "graffitiCellId": "id_irsluod"
   },
   "outputs": [
    {
     "data": {
      "text/html": [
       "<div>\n",
       "<style scoped>\n",
       "    .dataframe tbody tr th:only-of-type {\n",
       "        vertical-align: middle;\n",
       "    }\n",
       "\n",
       "    .dataframe tbody tr th {\n",
       "        vertical-align: top;\n",
       "    }\n",
       "\n",
       "    .dataframe thead th {\n",
       "        text-align: right;\n",
       "    }\n",
       "</style>\n",
       "<table border=\"1\" class=\"dataframe\">\n",
       "  <thead>\n",
       "    <tr style=\"text-align: right;\">\n",
       "      <th></th>\n",
       "      <th>Budget_dollars</th>\n",
       "      <th>Age</th>\n",
       "      <th>Gender</th>\n",
       "      <th>Education_Level</th>\n",
       "      <th>With_Children</th>\n",
       "      <th>Recommended_Activity</th>\n",
       "    </tr>\n",
       "  </thead>\n",
       "  <tbody>\n",
       "    <tr>\n",
       "      <th>299937</th>\n",
       "      <td>&gt;=300</td>\n",
       "      <td>25-44</td>\n",
       "      <td>Male</td>\n",
       "      <td>Bachelor Degree</td>\n",
       "      <td>1.0</td>\n",
       "      <td>Explore: Visit a park</td>\n",
       "    </tr>\n",
       "    <tr>\n",
       "      <th>299938</th>\n",
       "      <td>&gt;=300</td>\n",
       "      <td>25-44</td>\n",
       "      <td>Female</td>\n",
       "      <td>Bachelor Degree</td>\n",
       "      <td>1.0</td>\n",
       "      <td>Explore: Hike</td>\n",
       "    </tr>\n",
       "    <tr>\n",
       "      <th>299939</th>\n",
       "      <td>&gt;=300</td>\n",
       "      <td>45-65</td>\n",
       "      <td>Other</td>\n",
       "      <td>Bachelor Degree</td>\n",
       "      <td>0.0</td>\n",
       "      <td>Stay in: Play a game</td>\n",
       "    </tr>\n",
       "    <tr>\n",
       "      <th>299944</th>\n",
       "      <td>&lt;300</td>\n",
       "      <td>18-24</td>\n",
       "      <td>Female</td>\n",
       "      <td>High School Grad</td>\n",
       "      <td>1.0</td>\n",
       "      <td>Play: Visit a movie theater</td>\n",
       "    </tr>\n",
       "    <tr>\n",
       "      <th>299947</th>\n",
       "      <td>&gt;=300</td>\n",
       "      <td>45-65</td>\n",
       "      <td>Other</td>\n",
       "      <td>Bachelor Degree</td>\n",
       "      <td>1.0</td>\n",
       "      <td>Explore: Hike</td>\n",
       "    </tr>\n",
       "    <tr>\n",
       "      <th>299953</th>\n",
       "      <td>&lt;300</td>\n",
       "      <td>18-24</td>\n",
       "      <td>Male</td>\n",
       "      <td>Other</td>\n",
       "      <td>1.0</td>\n",
       "      <td>Play: Visit a movie theater</td>\n",
       "    </tr>\n",
       "    <tr>\n",
       "      <th>299954</th>\n",
       "      <td>&gt;=300</td>\n",
       "      <td>25-44</td>\n",
       "      <td>Non-binary</td>\n",
       "      <td>Master Degree</td>\n",
       "      <td>1.0</td>\n",
       "      <td>Stay in: Play a game</td>\n",
       "    </tr>\n",
       "    <tr>\n",
       "      <th>299958</th>\n",
       "      <td>&gt;=300</td>\n",
       "      <td>25-44</td>\n",
       "      <td>Non-binary</td>\n",
       "      <td>Master Degree</td>\n",
       "      <td>1.0</td>\n",
       "      <td>Stay in: Watch calming TV</td>\n",
       "    </tr>\n",
       "    <tr>\n",
       "      <th>299960</th>\n",
       "      <td>&lt;300</td>\n",
       "      <td>18-24</td>\n",
       "      <td>Non-binary</td>\n",
       "      <td>Other</td>\n",
       "      <td>1.0</td>\n",
       "      <td>Play: Visit a movie theater</td>\n",
       "    </tr>\n",
       "    <tr>\n",
       "      <th>299963</th>\n",
       "      <td>&lt;300</td>\n",
       "      <td>18-24</td>\n",
       "      <td>Female</td>\n",
       "      <td>Other</td>\n",
       "      <td>1.0</td>\n",
       "      <td>Play: Visit a movie theater</td>\n",
       "    </tr>\n",
       "    <tr>\n",
       "      <th>299966</th>\n",
       "      <td>&lt;300</td>\n",
       "      <td>25-44</td>\n",
       "      <td>Female</td>\n",
       "      <td>Other</td>\n",
       "      <td>1.0</td>\n",
       "      <td>Stay in: Watch calming TV</td>\n",
       "    </tr>\n",
       "    <tr>\n",
       "      <th>299969</th>\n",
       "      <td>&gt;=300</td>\n",
       "      <td>45-65</td>\n",
       "      <td>Other</td>\n",
       "      <td>Master Degree</td>\n",
       "      <td>1.0</td>\n",
       "      <td>Stay in: Color</td>\n",
       "    </tr>\n",
       "    <tr>\n",
       "      <th>299971</th>\n",
       "      <td>&lt;300</td>\n",
       "      <td>18-24</td>\n",
       "      <td>Male</td>\n",
       "      <td>Did Not Graduate HS</td>\n",
       "      <td>1.0</td>\n",
       "      <td>Play: Go shopping</td>\n",
       "    </tr>\n",
       "    <tr>\n",
       "      <th>299973</th>\n",
       "      <td>&lt;300</td>\n",
       "      <td>18-24</td>\n",
       "      <td>Female</td>\n",
       "      <td>Did Not Graduate HS</td>\n",
       "      <td>1.0</td>\n",
       "      <td>Play: Go shopping</td>\n",
       "    </tr>\n",
       "    <tr>\n",
       "      <th>299974</th>\n",
       "      <td>&lt;300</td>\n",
       "      <td>18-24</td>\n",
       "      <td>Non-binary</td>\n",
       "      <td>Other</td>\n",
       "      <td>0.0</td>\n",
       "      <td>Play: Go shopping</td>\n",
       "    </tr>\n",
       "    <tr>\n",
       "      <th>299975</th>\n",
       "      <td>&gt;=300</td>\n",
       "      <td>25-44</td>\n",
       "      <td>Other</td>\n",
       "      <td>Master Degree</td>\n",
       "      <td>1.0</td>\n",
       "      <td>Explore: Go sightseeing</td>\n",
       "    </tr>\n",
       "    <tr>\n",
       "      <th>299978</th>\n",
       "      <td>&lt;300</td>\n",
       "      <td>18-24</td>\n",
       "      <td>Non-binary</td>\n",
       "      <td>Did Not Graduate HS</td>\n",
       "      <td>0.0</td>\n",
       "      <td>Play: Go shopping</td>\n",
       "    </tr>\n",
       "    <tr>\n",
       "      <th>299980</th>\n",
       "      <td>&lt;300</td>\n",
       "      <td>18-24</td>\n",
       "      <td>Non-binary</td>\n",
       "      <td>Did Not Graduate HS</td>\n",
       "      <td>0.0</td>\n",
       "      <td>Play: Go shopping</td>\n",
       "    </tr>\n",
       "    <tr>\n",
       "      <th>299981</th>\n",
       "      <td>&gt;=300</td>\n",
       "      <td>25-44</td>\n",
       "      <td>Male</td>\n",
       "      <td>Master Degree</td>\n",
       "      <td>0.0</td>\n",
       "      <td>Play: Visit a movie theater</td>\n",
       "    </tr>\n",
       "    <tr>\n",
       "      <th>299983</th>\n",
       "      <td>&gt;=300</td>\n",
       "      <td>25-44</td>\n",
       "      <td>Male</td>\n",
       "      <td>Bachelor Degree</td>\n",
       "      <td>0.0</td>\n",
       "      <td>Stay in: Watch calming TV</td>\n",
       "    </tr>\n",
       "    <tr>\n",
       "      <th>299984</th>\n",
       "      <td>&lt;300</td>\n",
       "      <td>18-24</td>\n",
       "      <td>Female</td>\n",
       "      <td>High School Grad</td>\n",
       "      <td>1.0</td>\n",
       "      <td>Play: Go shopping</td>\n",
       "    </tr>\n",
       "    <tr>\n",
       "      <th>299989</th>\n",
       "      <td>&lt;300</td>\n",
       "      <td>18-24</td>\n",
       "      <td>Other</td>\n",
       "      <td>Did Not Graduate HS</td>\n",
       "      <td>1.0</td>\n",
       "      <td>Play: Visit a movie theater</td>\n",
       "    </tr>\n",
       "    <tr>\n",
       "      <th>299990</th>\n",
       "      <td>&gt;=300</td>\n",
       "      <td>25-44</td>\n",
       "      <td>Transgender</td>\n",
       "      <td>Bachelor Degree</td>\n",
       "      <td>0.0</td>\n",
       "      <td>Explore: Go sightseeing</td>\n",
       "    </tr>\n",
       "    <tr>\n",
       "      <th>299995</th>\n",
       "      <td>&gt;=300</td>\n",
       "      <td>45-65</td>\n",
       "      <td>Male</td>\n",
       "      <td>Bachelor Degree</td>\n",
       "      <td>0.0</td>\n",
       "      <td>Explore: Hike</td>\n",
       "    </tr>\n",
       "    <tr>\n",
       "      <th>299997</th>\n",
       "      <td>&lt;300</td>\n",
       "      <td>18-24</td>\n",
       "      <td>Female</td>\n",
       "      <td>Other</td>\n",
       "      <td>1.0</td>\n",
       "      <td>Play: Visit a movie theater</td>\n",
       "    </tr>\n",
       "  </tbody>\n",
       "</table>\n",
       "</div>"
      ],
      "text/plain": [
       "       Budget_dollars    Age       Gender      Education_Level  With_Children  \\\n",
       "299937          >=300  25-44         Male      Bachelor Degree            1.0   \n",
       "299938          >=300  25-44       Female      Bachelor Degree            1.0   \n",
       "299939          >=300  45-65        Other      Bachelor Degree            0.0   \n",
       "299944           <300  18-24       Female     High School Grad            1.0   \n",
       "299947          >=300  45-65        Other      Bachelor Degree            1.0   \n",
       "299953           <300  18-24         Male                Other            1.0   \n",
       "299954          >=300  25-44   Non-binary        Master Degree            1.0   \n",
       "299958          >=300  25-44   Non-binary        Master Degree            1.0   \n",
       "299960           <300  18-24   Non-binary                Other            1.0   \n",
       "299963           <300  18-24       Female                Other            1.0   \n",
       "299966           <300  25-44       Female                Other            1.0   \n",
       "299969          >=300  45-65        Other        Master Degree            1.0   \n",
       "299971           <300  18-24         Male  Did Not Graduate HS            1.0   \n",
       "299973           <300  18-24       Female  Did Not Graduate HS            1.0   \n",
       "299974           <300  18-24   Non-binary                Other            0.0   \n",
       "299975          >=300  25-44        Other        Master Degree            1.0   \n",
       "299978           <300  18-24   Non-binary  Did Not Graduate HS            0.0   \n",
       "299980           <300  18-24   Non-binary  Did Not Graduate HS            0.0   \n",
       "299981          >=300  25-44         Male        Master Degree            0.0   \n",
       "299983          >=300  25-44         Male      Bachelor Degree            0.0   \n",
       "299984           <300  18-24       Female     High School Grad            1.0   \n",
       "299989           <300  18-24        Other  Did Not Graduate HS            1.0   \n",
       "299990          >=300  25-44  Transgender      Bachelor Degree            0.0   \n",
       "299995          >=300  45-65         Male      Bachelor Degree            0.0   \n",
       "299997           <300  18-24       Female                Other            1.0   \n",
       "\n",
       "               Recommended_Activity  \n",
       "299937        Explore: Visit a park  \n",
       "299938                Explore: Hike  \n",
       "299939         Stay in: Play a game  \n",
       "299944  Play: Visit a movie theater  \n",
       "299947                Explore: Hike  \n",
       "299953  Play: Visit a movie theater  \n",
       "299954         Stay in: Play a game  \n",
       "299958    Stay in: Watch calming TV  \n",
       "299960  Play: Visit a movie theater  \n",
       "299963  Play: Visit a movie theater  \n",
       "299966    Stay in: Watch calming TV  \n",
       "299969               Stay in: Color  \n",
       "299971            Play: Go shopping  \n",
       "299973            Play: Go shopping  \n",
       "299974            Play: Go shopping  \n",
       "299975      Explore: Go sightseeing  \n",
       "299978            Play: Go shopping  \n",
       "299980            Play: Go shopping  \n",
       "299981  Play: Visit a movie theater  \n",
       "299983    Stay in: Watch calming TV  \n",
       "299984            Play: Go shopping  \n",
       "299989  Play: Visit a movie theater  \n",
       "299990      Explore: Go sightseeing  \n",
       "299995                Explore: Hike  \n",
       "299997  Play: Visit a movie theater  "
      ]
     },
     "execution_count": 20,
     "metadata": {},
     "output_type": "execute_result"
    }
   ],
   "source": [
    "act_rec_dataset.tail(25)"
   ]
  },
  {
   "cell_type": "code",
   "execution_count": 21,
   "metadata": {
    "graffitiCellId": "id_ivs6eyr"
   },
   "outputs": [
    {
     "data": {
      "text/plain": [
       "0"
      ]
     },
     "execution_count": 21,
     "metadata": {},
     "output_type": "execute_result"
    }
   ],
   "source": [
    "# To confirm that there is no null value\n",
    "\n",
    "act_rec_dataset.Age.isnull().sum()"
   ]
  },
  {
   "cell_type": "markdown",
   "metadata": {
    "graffitiCellId": "id_dmttn19"
   },
   "source": [
    "### Evaluate bias issues in the dataset"
   ]
  },
  {
   "cell_type": "markdown",
   "metadata": {
    "graffitiCellId": "id_9ifux3w"
   },
   "source": [
    "Next, let's take a look at potential hints of data bias in the variables, particularly the \"Gender\", \"Age\", and \"Education\" variables.\n",
    "\n",
    "In this section, I will articulate the representativeness in the dataset, by answering the question \"Is there a greater representation of certain groups over others?\""
   ]
  },
  {
   "cell_type": "code",
   "execution_count": 22,
   "metadata": {
    "graffitiCellId": "id_yen7uua"
   },
   "outputs": [],
   "source": [
    "# Using the Seaborn library color palette to determine the base color for the visuals\n",
    "\n",
    "base_color = sns.color_palette('colorblind')[0]"
   ]
  },
  {
   "cell_type": "code",
   "execution_count": 23,
   "metadata": {
    "graffitiCellId": "id_u423frh"
   },
   "outputs": [
    {
     "data": {
      "text/plain": [
       "Text(0.5, 1.0, 'Age Category Representativeness')"
      ]
     },
     "execution_count": 23,
     "metadata": {},
     "output_type": "execute_result"
    },
    {
     "data": {
      "image/png": "[encoded data removed]",
      "text/plain": [
       "<Figure size 432x288 with 1 Axes>"
      ]
     },
     "metadata": {
      "needs_background": "light"
     },
     "output_type": "display_data"
    }
   ],
   "source": [
    "# To plot the representativeness of the age category in the dataset\n",
    "\n",
    "sns.countplot(data = act_rec_dataset, x = 'Age', color = base_color);\n",
    "plt.xlabel('Age category', fontsize = 14);\n",
    "plt.ylabel('Count', fontsize = 14);\n",
    "plt.title('Age Category Representativeness', fontsize = 18)"
   ]
  },
  {
   "cell_type": "markdown",
   "metadata": {
    "graffitiCellId": "id_25krr6r"
   },
   "source": [
    "**Observations:**\n",
    "> * The '18-24' age catefory happens to be the highest in terms of representation compared to the other age categories"
   ]
  },
  {
   "cell_type": "code",
   "execution_count": 24,
   "metadata": {
    "graffitiCellId": "id_y210gvz"
   },
   "outputs": [
    {
     "data": {
      "text/plain": [
       "Text(0.5, 1.0, 'Gender Representativeness')"
      ]
     },
     "execution_count": 24,
     "metadata": {},
     "output_type": "execute_result"
    },
    {
     "data": {
      "image/png": "[encoded data removed]",
      "text/plain": [
       "<Figure size 432x288 with 1 Axes>"
      ]
     },
     "metadata": {
      "needs_background": "light"
     },
     "output_type": "display_data"
    }
   ],
   "source": [
    "sns.countplot(data = act_rec_dataset, x = 'Gender', color = base_color);\n",
    "plt.xlabel('Gender', fontsize = 14);\n",
    "plt.ylabel('Count', fontsize = 14);\n",
    "plt.title('Gender Representativeness', fontsize = 18)"
   ]
  },
  {
   "cell_type": "markdown",
   "metadata": {
    "graffitiCellId": "id_3y1q57j"
   },
   "source": [
    "**Observations:**\n",
    "> * From the visual above, we can notice that the Female gender is more represented compared to the other gender."
   ]
  },
  {
   "cell_type": "code",
   "execution_count": 25,
   "metadata": {
    "graffitiCellId": "id_ul0xvwl"
   },
   "outputs": [
    {
     "data": {
      "text/plain": [
       "Text(0.5, 1.0, 'Education Level Representativeness')"
      ]
     },
     "execution_count": 25,
     "metadata": {},
     "output_type": "execute_result"
    },
    {
     "data": {
      "image/png": "[encoded data removed]",
      "text/plain": [
       "<Figure size 432x288 with 1 Axes>"
      ]
     },
     "metadata": {
      "needs_background": "light"
     },
     "output_type": "display_data"
    }
   ],
   "source": [
    "sns.countplot(data = act_rec_dataset, x = 'Education_Level', color = base_color);\n",
    "plt.xlabel('Education Level', fontsize = 14);\n",
    "plt.ylabel('Count', fontsize = 14);\n",
    "plt.xticks(rotation = 30)\n",
    "plt.title('Education Level Representativeness', fontsize = 18)"
   ]
  },
  {
   "cell_type": "markdown",
   "metadata": {
    "graffitiCellId": "id_6cpymwb"
   },
   "source": [
    "**Observation:**\n",
    "> * The bar chart above is showing that the Bachelor's Degree and Master's Degree Education level is more represented compared to the other education levels."
   ]
  },
  {
   "cell_type": "code",
   "execution_count": 26,
   "metadata": {
    "graffitiCellId": "id_fdrrkst"
   },
   "outputs": [
    {
     "data": {
      "text/plain": [
       "Text(0.5, 1.0, 'Recommended Activity Representativeness')"
      ]
     },
     "execution_count": 26,
     "metadata": {},
     "output_type": "execute_result"
    },
    {
     "data": {
      "image/png": "[encoded data removed]",
      "text/plain": [
       "<Figure size 432x288 with 1 Axes>"
      ]
     },
     "metadata": {
      "needs_background": "light"
     },
     "output_type": "display_data"
    }
   ],
   "source": [
    "sns.countplot(data = act_rec_dataset, x = 'Recommended_Activity', color = base_color);\n",
    "plt.xlabel('Recommended Activity', fontsize = 14);\n",
    "plt.ylabel('Count', fontsize = 14);\n",
    "plt.xticks(rotation = 90)\n",
    "plt.title('Recommended Activity Representativeness', fontsize = 18)"
   ]
  },
  {
   "cell_type": "markdown",
   "metadata": {
    "graffitiCellId": "id_wc4ja53"
   },
   "source": [
    "**Observation:**\n",
    "> * The bar chart above is showing that recommended activities involving visiting a movie theater, and going shopping are more represented compared to the other activities."
   ]
  },
  {
   "cell_type": "markdown",
   "metadata": {
    "graffitiCellId": "id_oyxiefo"
   },
   "source": [
    "Question: Is there a greater representation of certain groups over others?\n",
    "\n",
    "**Your answer:**\n",
    "\n",
    "* For the Age group representation, individuals between the age of 18-24 years are of greater representation compared to the other age groups.\n",
    "* As regards the Gender representation analysis, the corresponding visual above shpws that the Female gender is more represented compared to the other genders.\n",
    "* The Education Level analysis visual above shows that the Bachelor's Degree and Master's Degree education level are of greater representation compared to the other education levels."
   ]
  },
  {
   "cell_type": "markdown",
   "metadata": {
    "graffitiCellId": "id_u8pj1op"
   },
   "source": [
    "Now that we've visualized the individual features of the dataframe and understood the dataset better, let's one-hot encode the dataframe."
   ]
  },
  {
   "cell_type": "code",
   "execution_count": 27,
   "metadata": {
    "graffitiCellId": "id_hz4ulc4"
   },
   "outputs": [
    {
     "data": {
      "text/html": [
       "<div>\n",
       "<style scoped>\n",
       "    .dataframe tbody tr th:only-of-type {\n",
       "        vertical-align: middle;\n",
       "    }\n",
       "\n",
       "    .dataframe tbody tr th {\n",
       "        vertical-align: top;\n",
       "    }\n",
       "\n",
       "    .dataframe thead th {\n",
       "        text-align: right;\n",
       "    }\n",
       "</style>\n",
       "<table border=\"1\" class=\"dataframe\">\n",
       "  <thead>\n",
       "    <tr style=\"text-align: right;\">\n",
       "      <th></th>\n",
       "      <th>Budget_dollars</th>\n",
       "      <th>Age</th>\n",
       "      <th>Gender</th>\n",
       "      <th>Education_Level</th>\n",
       "      <th>With_Children</th>\n",
       "      <th>Recommended_Activity</th>\n",
       "    </tr>\n",
       "  </thead>\n",
       "  <tbody>\n",
       "    <tr>\n",
       "      <th>0</th>\n",
       "      <td>&gt;=300</td>\n",
       "      <td>25-44</td>\n",
       "      <td>Transgender</td>\n",
       "      <td>Bachelor Degree</td>\n",
       "      <td>0.0</td>\n",
       "      <td>Stay in: Watch calming TV</td>\n",
       "    </tr>\n",
       "    <tr>\n",
       "      <th>3</th>\n",
       "      <td>&lt;300</td>\n",
       "      <td>18-24</td>\n",
       "      <td>Non-binary</td>\n",
       "      <td>Other</td>\n",
       "      <td>0.0</td>\n",
       "      <td>Play: Visit a movie theater</td>\n",
       "    </tr>\n",
       "    <tr>\n",
       "      <th>4</th>\n",
       "      <td>&gt;=300</td>\n",
       "      <td>66-92</td>\n",
       "      <td>Non-binary</td>\n",
       "      <td>Master Degree</td>\n",
       "      <td>1.0</td>\n",
       "      <td>Learn: Visit a library</td>\n",
       "    </tr>\n",
       "    <tr>\n",
       "      <th>5</th>\n",
       "      <td>&gt;=300</td>\n",
       "      <td>25-44</td>\n",
       "      <td>Male</td>\n",
       "      <td>Bachelor Degree</td>\n",
       "      <td>1.0</td>\n",
       "      <td>Play: Go shopping</td>\n",
       "    </tr>\n",
       "    <tr>\n",
       "      <th>6</th>\n",
       "      <td>&gt;=300</td>\n",
       "      <td>25-44</td>\n",
       "      <td>Non-binary</td>\n",
       "      <td>Master Degree</td>\n",
       "      <td>0.0</td>\n",
       "      <td>Explore: Go sightseeing</td>\n",
       "    </tr>\n",
       "    <tr>\n",
       "      <th>...</th>\n",
       "      <td>...</td>\n",
       "      <td>...</td>\n",
       "      <td>...</td>\n",
       "      <td>...</td>\n",
       "      <td>...</td>\n",
       "      <td>...</td>\n",
       "    </tr>\n",
       "    <tr>\n",
       "      <th>299984</th>\n",
       "      <td>&lt;300</td>\n",
       "      <td>18-24</td>\n",
       "      <td>Female</td>\n",
       "      <td>High School Grad</td>\n",
       "      <td>1.0</td>\n",
       "      <td>Play: Go shopping</td>\n",
       "    </tr>\n",
       "    <tr>\n",
       "      <th>299989</th>\n",
       "      <td>&lt;300</td>\n",
       "      <td>18-24</td>\n",
       "      <td>Other</td>\n",
       "      <td>Did Not Graduate HS</td>\n",
       "      <td>1.0</td>\n",
       "      <td>Play: Visit a movie theater</td>\n",
       "    </tr>\n",
       "    <tr>\n",
       "      <th>299990</th>\n",
       "      <td>&gt;=300</td>\n",
       "      <td>25-44</td>\n",
       "      <td>Transgender</td>\n",
       "      <td>Bachelor Degree</td>\n",
       "      <td>0.0</td>\n",
       "      <td>Explore: Go sightseeing</td>\n",
       "    </tr>\n",
       "    <tr>\n",
       "      <th>299995</th>\n",
       "      <td>&gt;=300</td>\n",
       "      <td>45-65</td>\n",
       "      <td>Male</td>\n",
       "      <td>Bachelor Degree</td>\n",
       "      <td>0.0</td>\n",
       "      <td>Explore: Hike</td>\n",
       "    </tr>\n",
       "    <tr>\n",
       "      <th>299997</th>\n",
       "      <td>&lt;300</td>\n",
       "      <td>18-24</td>\n",
       "      <td>Female</td>\n",
       "      <td>Other</td>\n",
       "      <td>1.0</td>\n",
       "      <td>Play: Visit a movie theater</td>\n",
       "    </tr>\n",
       "  </tbody>\n",
       "</table>\n",
       "<p>156317 rows × 6 columns</p>\n",
       "</div>"
      ],
      "text/plain": [
       "       Budget_dollars    Age       Gender      Education_Level  With_Children  \\\n",
       "0               >=300  25-44  Transgender      Bachelor Degree            0.0   \n",
       "3                <300  18-24   Non-binary                Other            0.0   \n",
       "4               >=300  66-92   Non-binary        Master Degree            1.0   \n",
       "5               >=300  25-44         Male      Bachelor Degree            1.0   \n",
       "6               >=300  25-44   Non-binary        Master Degree            0.0   \n",
       "...               ...    ...          ...                  ...            ...   \n",
       "299984           <300  18-24       Female     High School Grad            1.0   \n",
       "299989           <300  18-24        Other  Did Not Graduate HS            1.0   \n",
       "299990          >=300  25-44  Transgender      Bachelor Degree            0.0   \n",
       "299995          >=300  45-65         Male      Bachelor Degree            0.0   \n",
       "299997           <300  18-24       Female                Other            1.0   \n",
       "\n",
       "               Recommended_Activity  \n",
       "0         Stay in: Watch calming TV  \n",
       "3       Play: Visit a movie theater  \n",
       "4            Learn: Visit a library  \n",
       "5                 Play: Go shopping  \n",
       "6           Explore: Go sightseeing  \n",
       "...                             ...  \n",
       "299984            Play: Go shopping  \n",
       "299989  Play: Visit a movie theater  \n",
       "299990      Explore: Go sightseeing  \n",
       "299995                Explore: Hike  \n",
       "299997  Play: Visit a movie theater  \n",
       "\n",
       "[156317 rows x 6 columns]"
      ]
     },
     "execution_count": 27,
     "metadata": {},
     "output_type": "execute_result"
    }
   ],
   "source": [
    "#The variable act_rec_dataset should contain the one-hot encoded variables\n",
    "\n",
    "act_rec_dataset"
   ]
  },
  {
   "cell_type": "markdown",
   "metadata": {
    "graffitiCellId": "id_eznoyfa"
   },
   "source": [
    "### To Encode the Budget_dollars column"
   ]
  },
  {
   "cell_type": "code",
   "execution_count": 28,
   "metadata": {
    "graffitiCellId": "id_hxtbx2b"
   },
   "outputs": [
    {
     "name": "stdout",
     "output_type": "stream",
     "text": [
      "        With_Children  Budget_dollars_<300  Budget_dollars_>=300  Age_18-24  \\\n",
      "0                 0.0                    0                     1          0   \n",
      "3                 0.0                    1                     0          1   \n",
      "4                 1.0                    0                     1          0   \n",
      "5                 1.0                    0                     1          0   \n",
      "6                 0.0                    0                     1          0   \n",
      "...               ...                  ...                   ...        ...   \n",
      "299984            1.0                    1                     0          1   \n",
      "299989            1.0                    1                     0          1   \n",
      "299990            0.0                    0                     1          0   \n",
      "299995            0.0                    0                     1          0   \n",
      "299997            1.0                    1                     0          1   \n",
      "\n",
      "        Age_25-44  Age_45-65  Age_66-92  Gender_Female  Gender_Male  \\\n",
      "0               1          0          0              0            0   \n",
      "3               0          0          0              0            0   \n",
      "4               0          0          1              0            0   \n",
      "5               1          0          0              0            1   \n",
      "6               1          0          0              0            0   \n",
      "...           ...        ...        ...            ...          ...   \n",
      "299984          0          0          0              1            0   \n",
      "299989          0          0          0              0            0   \n",
      "299990          1          0          0              0            0   \n",
      "299995          0          1          0              0            1   \n",
      "299997          0          0          0              1            0   \n",
      "\n",
      "        Gender_Non-binary  ...  Education_Level_Other  \\\n",
      "0                       0  ...                      0   \n",
      "3                       1  ...                      1   \n",
      "4                       1  ...                      0   \n",
      "5                       0  ...                      0   \n",
      "6                       1  ...                      0   \n",
      "...                   ...  ...                    ...   \n",
      "299984                  0  ...                      0   \n",
      "299989                  0  ...                      0   \n",
      "299990                  0  ...                      0   \n",
      "299995                  0  ...                      0   \n",
      "299997                  0  ...                      1   \n",
      "\n",
      "        Recommended_Activity_Explore: Go sightseeing  \\\n",
      "0                                                  0   \n",
      "3                                                  0   \n",
      "4                                                  0   \n",
      "5                                                  0   \n",
      "6                                                  1   \n",
      "...                                              ...   \n",
      "299984                                             0   \n",
      "299989                                             0   \n",
      "299990                                             1   \n",
      "299995                                             0   \n",
      "299997                                             0   \n",
      "\n",
      "        Recommended_Activity_Explore: Hike  \\\n",
      "0                                        0   \n",
      "3                                        0   \n",
      "4                                        0   \n",
      "5                                        0   \n",
      "6                                        0   \n",
      "...                                    ...   \n",
      "299984                                   0   \n",
      "299989                                   0   \n",
      "299990                                   0   \n",
      "299995                                   1   \n",
      "299997                                   0   \n",
      "\n",
      "        Recommended_Activity_Explore: Visit a park  \\\n",
      "0                                                0   \n",
      "3                                                0   \n",
      "4                                                0   \n",
      "5                                                0   \n",
      "6                                                0   \n",
      "...                                            ...   \n",
      "299984                                           0   \n",
      "299989                                           0   \n",
      "299990                                           0   \n",
      "299995                                           0   \n",
      "299997                                           0   \n",
      "\n",
      "        Recommended_Activity_Learn: Visit a library  \\\n",
      "0                                                 0   \n",
      "3                                                 0   \n",
      "4                                                 1   \n",
      "5                                                 0   \n",
      "6                                                 0   \n",
      "...                                             ...   \n",
      "299984                                            0   \n",
      "299989                                            0   \n",
      "299990                                            0   \n",
      "299995                                            0   \n",
      "299997                                            0   \n",
      "\n",
      "        Recommended_Activity_Play: Go shopping  \\\n",
      "0                                            0   \n",
      "3                                            0   \n",
      "4                                            0   \n",
      "5                                            1   \n",
      "6                                            0   \n",
      "...                                        ...   \n",
      "299984                                       1   \n",
      "299989                                       0   \n",
      "299990                                       0   \n",
      "299995                                       0   \n",
      "299997                                       0   \n",
      "\n",
      "        Recommended_Activity_Play: Visit a movie theater  \\\n",
      "0                                                      0   \n",
      "3                                                      1   \n",
      "4                                                      0   \n",
      "5                                                      0   \n",
      "6                                                      0   \n",
      "...                                                  ...   \n",
      "299984                                                 0   \n",
      "299989                                                 1   \n",
      "299990                                                 0   \n",
      "299995                                                 0   \n",
      "299997                                                 1   \n",
      "\n",
      "        Recommended_Activity_Stay in: Color  \\\n",
      "0                                         0   \n",
      "3                                         0   \n",
      "4                                         0   \n",
      "5                                         0   \n",
      "6                                         0   \n",
      "...                                     ...   \n",
      "299984                                    0   \n",
      "299989                                    0   \n",
      "299990                                    0   \n",
      "299995                                    0   \n",
      "299997                                    0   \n",
      "\n",
      "        Recommended_Activity_Stay in: Play a game  \\\n",
      "0                                               0   \n",
      "3                                               0   \n",
      "4                                               0   \n",
      "5                                               0   \n",
      "6                                               0   \n",
      "...                                           ...   \n",
      "299984                                          0   \n",
      "299989                                          0   \n",
      "299990                                          0   \n",
      "299995                                          0   \n",
      "299997                                          0   \n",
      "\n",
      "        Recommended_Activity_Stay in: Watch calming TV  \n",
      "0                                                    1  \n",
      "3                                                    0  \n",
      "4                                                    0  \n",
      "5                                                    0  \n",
      "6                                                    0  \n",
      "...                                                ...  \n",
      "299984                                               0  \n",
      "299989                                               0  \n",
      "299990                                               0  \n",
      "299995                                               0  \n",
      "299997                                               0  \n",
      "\n",
      "[156317 rows x 26 columns]\n"
     ]
    }
   ],
   "source": [
    "# One-Hot Encoding using dummies\n",
    "\n",
    "act_rec_dataset = pd.get_dummies(act_rec_dataset)\n",
    "print(act_rec_dataset)"
   ]
  },
  {
   "cell_type": "code",
   "execution_count": 29,
   "metadata": {
    "graffitiCellId": "id_kmgwowa",
    "scrolled": true
   },
   "outputs": [
    {
     "data": {
      "text/html": [
       "<div>\n",
       "<style scoped>\n",
       "    .dataframe tbody tr th:only-of-type {\n",
       "        vertical-align: middle;\n",
       "    }\n",
       "\n",
       "    .dataframe tbody tr th {\n",
       "        vertical-align: top;\n",
       "    }\n",
       "\n",
       "    .dataframe thead th {\n",
       "        text-align: right;\n",
       "    }\n",
       "</style>\n",
       "<table border=\"1\" class=\"dataframe\">\n",
       "  <thead>\n",
       "    <tr style=\"text-align: right;\">\n",
       "      <th></th>\n",
       "      <th>With_Children</th>\n",
       "      <th>Budget_dollars_&lt;300</th>\n",
       "      <th>Budget_dollars_&gt;=300</th>\n",
       "      <th>Age_18-24</th>\n",
       "      <th>Age_25-44</th>\n",
       "      <th>Age_45-65</th>\n",
       "      <th>Age_66-92</th>\n",
       "      <th>Gender_Female</th>\n",
       "      <th>Gender_Male</th>\n",
       "      <th>Gender_Non-binary</th>\n",
       "      <th>...</th>\n",
       "      <th>Education_Level_Other</th>\n",
       "      <th>Recommended_Activity_Explore: Go sightseeing</th>\n",
       "      <th>Recommended_Activity_Explore: Hike</th>\n",
       "      <th>Recommended_Activity_Explore: Visit a park</th>\n",
       "      <th>Recommended_Activity_Learn: Visit a library</th>\n",
       "      <th>Recommended_Activity_Play: Go shopping</th>\n",
       "      <th>Recommended_Activity_Play: Visit a movie theater</th>\n",
       "      <th>Recommended_Activity_Stay in: Color</th>\n",
       "      <th>Recommended_Activity_Stay in: Play a game</th>\n",
       "      <th>Recommended_Activity_Stay in: Watch calming TV</th>\n",
       "    </tr>\n",
       "  </thead>\n",
       "  <tbody>\n",
       "    <tr>\n",
       "      <th>0</th>\n",
       "      <td>0.0</td>\n",
       "      <td>0</td>\n",
       "      <td>1</td>\n",
       "      <td>0</td>\n",
       "      <td>1</td>\n",
       "      <td>0</td>\n",
       "      <td>0</td>\n",
       "      <td>0</td>\n",
       "      <td>0</td>\n",
       "      <td>0</td>\n",
       "      <td>...</td>\n",
       "      <td>0</td>\n",
       "      <td>0</td>\n",
       "      <td>0</td>\n",
       "      <td>0</td>\n",
       "      <td>0</td>\n",
       "      <td>0</td>\n",
       "      <td>0</td>\n",
       "      <td>0</td>\n",
       "      <td>0</td>\n",
       "      <td>1</td>\n",
       "    </tr>\n",
       "    <tr>\n",
       "      <th>3</th>\n",
       "      <td>0.0</td>\n",
       "      <td>1</td>\n",
       "      <td>0</td>\n",
       "      <td>1</td>\n",
       "      <td>0</td>\n",
       "      <td>0</td>\n",
       "      <td>0</td>\n",
       "      <td>0</td>\n",
       "      <td>0</td>\n",
       "      <td>1</td>\n",
       "      <td>...</td>\n",
       "      <td>1</td>\n",
       "      <td>0</td>\n",
       "      <td>0</td>\n",
       "      <td>0</td>\n",
       "      <td>0</td>\n",
       "      <td>0</td>\n",
       "      <td>1</td>\n",
       "      <td>0</td>\n",
       "      <td>0</td>\n",
       "      <td>0</td>\n",
       "    </tr>\n",
       "    <tr>\n",
       "      <th>4</th>\n",
       "      <td>1.0</td>\n",
       "      <td>0</td>\n",
       "      <td>1</td>\n",
       "      <td>0</td>\n",
       "      <td>0</td>\n",
       "      <td>0</td>\n",
       "      <td>1</td>\n",
       "      <td>0</td>\n",
       "      <td>0</td>\n",
       "      <td>1</td>\n",
       "      <td>...</td>\n",
       "      <td>0</td>\n",
       "      <td>0</td>\n",
       "      <td>0</td>\n",
       "      <td>0</td>\n",
       "      <td>1</td>\n",
       "      <td>0</td>\n",
       "      <td>0</td>\n",
       "      <td>0</td>\n",
       "      <td>0</td>\n",
       "      <td>0</td>\n",
       "    </tr>\n",
       "    <tr>\n",
       "      <th>5</th>\n",
       "      <td>1.0</td>\n",
       "      <td>0</td>\n",
       "      <td>1</td>\n",
       "      <td>0</td>\n",
       "      <td>1</td>\n",
       "      <td>0</td>\n",
       "      <td>0</td>\n",
       "      <td>0</td>\n",
       "      <td>1</td>\n",
       "      <td>0</td>\n",
       "      <td>...</td>\n",
       "      <td>0</td>\n",
       "      <td>0</td>\n",
       "      <td>0</td>\n",
       "      <td>0</td>\n",
       "      <td>0</td>\n",
       "      <td>1</td>\n",
       "      <td>0</td>\n",
       "      <td>0</td>\n",
       "      <td>0</td>\n",
       "      <td>0</td>\n",
       "    </tr>\n",
       "    <tr>\n",
       "      <th>6</th>\n",
       "      <td>0.0</td>\n",
       "      <td>0</td>\n",
       "      <td>1</td>\n",
       "      <td>0</td>\n",
       "      <td>1</td>\n",
       "      <td>0</td>\n",
       "      <td>0</td>\n",
       "      <td>0</td>\n",
       "      <td>0</td>\n",
       "      <td>1</td>\n",
       "      <td>...</td>\n",
       "      <td>0</td>\n",
       "      <td>1</td>\n",
       "      <td>0</td>\n",
       "      <td>0</td>\n",
       "      <td>0</td>\n",
       "      <td>0</td>\n",
       "      <td>0</td>\n",
       "      <td>0</td>\n",
       "      <td>0</td>\n",
       "      <td>0</td>\n",
       "    </tr>\n",
       "    <tr>\n",
       "      <th>8</th>\n",
       "      <td>1.0</td>\n",
       "      <td>0</td>\n",
       "      <td>1</td>\n",
       "      <td>0</td>\n",
       "      <td>1</td>\n",
       "      <td>0</td>\n",
       "      <td>0</td>\n",
       "      <td>0</td>\n",
       "      <td>0</td>\n",
       "      <td>0</td>\n",
       "      <td>...</td>\n",
       "      <td>0</td>\n",
       "      <td>0</td>\n",
       "      <td>0</td>\n",
       "      <td>0</td>\n",
       "      <td>0</td>\n",
       "      <td>0</td>\n",
       "      <td>0</td>\n",
       "      <td>1</td>\n",
       "      <td>0</td>\n",
       "      <td>0</td>\n",
       "    </tr>\n",
       "    <tr>\n",
       "      <th>9</th>\n",
       "      <td>1.0</td>\n",
       "      <td>0</td>\n",
       "      <td>1</td>\n",
       "      <td>0</td>\n",
       "      <td>1</td>\n",
       "      <td>0</td>\n",
       "      <td>0</td>\n",
       "      <td>0</td>\n",
       "      <td>0</td>\n",
       "      <td>0</td>\n",
       "      <td>...</td>\n",
       "      <td>0</td>\n",
       "      <td>0</td>\n",
       "      <td>0</td>\n",
       "      <td>0</td>\n",
       "      <td>0</td>\n",
       "      <td>0</td>\n",
       "      <td>0</td>\n",
       "      <td>1</td>\n",
       "      <td>0</td>\n",
       "      <td>0</td>\n",
       "    </tr>\n",
       "    <tr>\n",
       "      <th>11</th>\n",
       "      <td>1.0</td>\n",
       "      <td>1</td>\n",
       "      <td>0</td>\n",
       "      <td>1</td>\n",
       "      <td>0</td>\n",
       "      <td>0</td>\n",
       "      <td>0</td>\n",
       "      <td>0</td>\n",
       "      <td>0</td>\n",
       "      <td>0</td>\n",
       "      <td>...</td>\n",
       "      <td>0</td>\n",
       "      <td>0</td>\n",
       "      <td>0</td>\n",
       "      <td>0</td>\n",
       "      <td>0</td>\n",
       "      <td>1</td>\n",
       "      <td>0</td>\n",
       "      <td>0</td>\n",
       "      <td>0</td>\n",
       "      <td>0</td>\n",
       "    </tr>\n",
       "    <tr>\n",
       "      <th>13</th>\n",
       "      <td>0.0</td>\n",
       "      <td>1</td>\n",
       "      <td>0</td>\n",
       "      <td>1</td>\n",
       "      <td>0</td>\n",
       "      <td>0</td>\n",
       "      <td>0</td>\n",
       "      <td>0</td>\n",
       "      <td>0</td>\n",
       "      <td>0</td>\n",
       "      <td>...</td>\n",
       "      <td>0</td>\n",
       "      <td>0</td>\n",
       "      <td>0</td>\n",
       "      <td>0</td>\n",
       "      <td>0</td>\n",
       "      <td>1</td>\n",
       "      <td>0</td>\n",
       "      <td>0</td>\n",
       "      <td>0</td>\n",
       "      <td>0</td>\n",
       "    </tr>\n",
       "    <tr>\n",
       "      <th>17</th>\n",
       "      <td>1.0</td>\n",
       "      <td>1</td>\n",
       "      <td>0</td>\n",
       "      <td>1</td>\n",
       "      <td>0</td>\n",
       "      <td>0</td>\n",
       "      <td>0</td>\n",
       "      <td>0</td>\n",
       "      <td>1</td>\n",
       "      <td>0</td>\n",
       "      <td>...</td>\n",
       "      <td>0</td>\n",
       "      <td>0</td>\n",
       "      <td>0</td>\n",
       "      <td>0</td>\n",
       "      <td>0</td>\n",
       "      <td>0</td>\n",
       "      <td>1</td>\n",
       "      <td>0</td>\n",
       "      <td>0</td>\n",
       "      <td>0</td>\n",
       "    </tr>\n",
       "    <tr>\n",
       "      <th>18</th>\n",
       "      <td>1.0</td>\n",
       "      <td>0</td>\n",
       "      <td>1</td>\n",
       "      <td>0</td>\n",
       "      <td>0</td>\n",
       "      <td>1</td>\n",
       "      <td>0</td>\n",
       "      <td>0</td>\n",
       "      <td>0</td>\n",
       "      <td>0</td>\n",
       "      <td>...</td>\n",
       "      <td>0</td>\n",
       "      <td>0</td>\n",
       "      <td>0</td>\n",
       "      <td>0</td>\n",
       "      <td>0</td>\n",
       "      <td>0</td>\n",
       "      <td>0</td>\n",
       "      <td>0</td>\n",
       "      <td>1</td>\n",
       "      <td>0</td>\n",
       "    </tr>\n",
       "    <tr>\n",
       "      <th>19</th>\n",
       "      <td>0.0</td>\n",
       "      <td>0</td>\n",
       "      <td>1</td>\n",
       "      <td>0</td>\n",
       "      <td>1</td>\n",
       "      <td>0</td>\n",
       "      <td>0</td>\n",
       "      <td>0</td>\n",
       "      <td>1</td>\n",
       "      <td>0</td>\n",
       "      <td>...</td>\n",
       "      <td>0</td>\n",
       "      <td>0</td>\n",
       "      <td>0</td>\n",
       "      <td>0</td>\n",
       "      <td>1</td>\n",
       "      <td>0</td>\n",
       "      <td>0</td>\n",
       "      <td>0</td>\n",
       "      <td>0</td>\n",
       "      <td>0</td>\n",
       "    </tr>\n",
       "    <tr>\n",
       "      <th>23</th>\n",
       "      <td>0.0</td>\n",
       "      <td>0</td>\n",
       "      <td>1</td>\n",
       "      <td>0</td>\n",
       "      <td>1</td>\n",
       "      <td>0</td>\n",
       "      <td>0</td>\n",
       "      <td>0</td>\n",
       "      <td>1</td>\n",
       "      <td>0</td>\n",
       "      <td>...</td>\n",
       "      <td>0</td>\n",
       "      <td>0</td>\n",
       "      <td>0</td>\n",
       "      <td>0</td>\n",
       "      <td>0</td>\n",
       "      <td>0</td>\n",
       "      <td>0</td>\n",
       "      <td>0</td>\n",
       "      <td>0</td>\n",
       "      <td>1</td>\n",
       "    </tr>\n",
       "    <tr>\n",
       "      <th>24</th>\n",
       "      <td>1.0</td>\n",
       "      <td>0</td>\n",
       "      <td>1</td>\n",
       "      <td>0</td>\n",
       "      <td>0</td>\n",
       "      <td>0</td>\n",
       "      <td>1</td>\n",
       "      <td>1</td>\n",
       "      <td>0</td>\n",
       "      <td>0</td>\n",
       "      <td>...</td>\n",
       "      <td>0</td>\n",
       "      <td>0</td>\n",
       "      <td>0</td>\n",
       "      <td>0</td>\n",
       "      <td>0</td>\n",
       "      <td>0</td>\n",
       "      <td>0</td>\n",
       "      <td>1</td>\n",
       "      <td>0</td>\n",
       "      <td>0</td>\n",
       "    </tr>\n",
       "    <tr>\n",
       "      <th>25</th>\n",
       "      <td>1.0</td>\n",
       "      <td>0</td>\n",
       "      <td>1</td>\n",
       "      <td>0</td>\n",
       "      <td>1</td>\n",
       "      <td>0</td>\n",
       "      <td>0</td>\n",
       "      <td>0</td>\n",
       "      <td>0</td>\n",
       "      <td>1</td>\n",
       "      <td>...</td>\n",
       "      <td>0</td>\n",
       "      <td>0</td>\n",
       "      <td>0</td>\n",
       "      <td>0</td>\n",
       "      <td>0</td>\n",
       "      <td>0</td>\n",
       "      <td>0</td>\n",
       "      <td>0</td>\n",
       "      <td>1</td>\n",
       "      <td>0</td>\n",
       "    </tr>\n",
       "    <tr>\n",
       "      <th>27</th>\n",
       "      <td>0.0</td>\n",
       "      <td>1</td>\n",
       "      <td>0</td>\n",
       "      <td>0</td>\n",
       "      <td>0</td>\n",
       "      <td>0</td>\n",
       "      <td>1</td>\n",
       "      <td>0</td>\n",
       "      <td>0</td>\n",
       "      <td>1</td>\n",
       "      <td>...</td>\n",
       "      <td>1</td>\n",
       "      <td>0</td>\n",
       "      <td>0</td>\n",
       "      <td>0</td>\n",
       "      <td>0</td>\n",
       "      <td>0</td>\n",
       "      <td>0</td>\n",
       "      <td>0</td>\n",
       "      <td>1</td>\n",
       "      <td>0</td>\n",
       "    </tr>\n",
       "    <tr>\n",
       "      <th>29</th>\n",
       "      <td>0.0</td>\n",
       "      <td>0</td>\n",
       "      <td>1</td>\n",
       "      <td>0</td>\n",
       "      <td>0</td>\n",
       "      <td>0</td>\n",
       "      <td>1</td>\n",
       "      <td>0</td>\n",
       "      <td>1</td>\n",
       "      <td>0</td>\n",
       "      <td>...</td>\n",
       "      <td>0</td>\n",
       "      <td>0</td>\n",
       "      <td>0</td>\n",
       "      <td>0</td>\n",
       "      <td>0</td>\n",
       "      <td>0</td>\n",
       "      <td>0</td>\n",
       "      <td>0</td>\n",
       "      <td>1</td>\n",
       "      <td>0</td>\n",
       "    </tr>\n",
       "    <tr>\n",
       "      <th>31</th>\n",
       "      <td>1.0</td>\n",
       "      <td>0</td>\n",
       "      <td>1</td>\n",
       "      <td>0</td>\n",
       "      <td>1</td>\n",
       "      <td>0</td>\n",
       "      <td>0</td>\n",
       "      <td>1</td>\n",
       "      <td>0</td>\n",
       "      <td>0</td>\n",
       "      <td>...</td>\n",
       "      <td>0</td>\n",
       "      <td>0</td>\n",
       "      <td>0</td>\n",
       "      <td>0</td>\n",
       "      <td>0</td>\n",
       "      <td>0</td>\n",
       "      <td>0</td>\n",
       "      <td>0</td>\n",
       "      <td>1</td>\n",
       "      <td>0</td>\n",
       "    </tr>\n",
       "    <tr>\n",
       "      <th>32</th>\n",
       "      <td>0.0</td>\n",
       "      <td>1</td>\n",
       "      <td>0</td>\n",
       "      <td>1</td>\n",
       "      <td>0</td>\n",
       "      <td>0</td>\n",
       "      <td>0</td>\n",
       "      <td>0</td>\n",
       "      <td>0</td>\n",
       "      <td>0</td>\n",
       "      <td>...</td>\n",
       "      <td>1</td>\n",
       "      <td>0</td>\n",
       "      <td>0</td>\n",
       "      <td>0</td>\n",
       "      <td>0</td>\n",
       "      <td>0</td>\n",
       "      <td>1</td>\n",
       "      <td>0</td>\n",
       "      <td>0</td>\n",
       "      <td>0</td>\n",
       "    </tr>\n",
       "    <tr>\n",
       "      <th>34</th>\n",
       "      <td>1.0</td>\n",
       "      <td>0</td>\n",
       "      <td>1</td>\n",
       "      <td>0</td>\n",
       "      <td>0</td>\n",
       "      <td>1</td>\n",
       "      <td>0</td>\n",
       "      <td>1</td>\n",
       "      <td>0</td>\n",
       "      <td>0</td>\n",
       "      <td>...</td>\n",
       "      <td>0</td>\n",
       "      <td>0</td>\n",
       "      <td>0</td>\n",
       "      <td>1</td>\n",
       "      <td>0</td>\n",
       "      <td>0</td>\n",
       "      <td>0</td>\n",
       "      <td>0</td>\n",
       "      <td>0</td>\n",
       "      <td>0</td>\n",
       "    </tr>\n",
       "  </tbody>\n",
       "</table>\n",
       "<p>20 rows × 26 columns</p>\n",
       "</div>"
      ],
      "text/plain": [
       "    With_Children  Budget_dollars_<300  Budget_dollars_>=300  Age_18-24  \\\n",
       "0             0.0                    0                     1          0   \n",
       "3             0.0                    1                     0          1   \n",
       "4             1.0                    0                     1          0   \n",
       "5             1.0                    0                     1          0   \n",
       "6             0.0                    0                     1          0   \n",
       "8             1.0                    0                     1          0   \n",
       "9             1.0                    0                     1          0   \n",
       "11            1.0                    1                     0          1   \n",
       "13            0.0                    1                     0          1   \n",
       "17            1.0                    1                     0          1   \n",
       "18            1.0                    0                     1          0   \n",
       "19            0.0                    0                     1          0   \n",
       "23            0.0                    0                     1          0   \n",
       "24            1.0                    0                     1          0   \n",
       "25            1.0                    0                     1          0   \n",
       "27            0.0                    1                     0          0   \n",
       "29            0.0                    0                     1          0   \n",
       "31            1.0                    0                     1          0   \n",
       "32            0.0                    1                     0          1   \n",
       "34            1.0                    0                     1          0   \n",
       "\n",
       "    Age_25-44  Age_45-65  Age_66-92  Gender_Female  Gender_Male  \\\n",
       "0           1          0          0              0            0   \n",
       "3           0          0          0              0            0   \n",
       "4           0          0          1              0            0   \n",
       "5           1          0          0              0            1   \n",
       "6           1          0          0              0            0   \n",
       "8           1          0          0              0            0   \n",
       "9           1          0          0              0            0   \n",
       "11          0          0          0              0            0   \n",
       "13          0          0          0              0            0   \n",
       "17          0          0          0              0            1   \n",
       "18          0          1          0              0            0   \n",
       "19          1          0          0              0            1   \n",
       "23          1          0          0              0            1   \n",
       "24          0          0          1              1            0   \n",
       "25          1          0          0              0            0   \n",
       "27          0          0          1              0            0   \n",
       "29          0          0          1              0            1   \n",
       "31          1          0          0              1            0   \n",
       "32          0          0          0              0            0   \n",
       "34          0          1          0              1            0   \n",
       "\n",
       "    Gender_Non-binary  ...  Education_Level_Other  \\\n",
       "0                   0  ...                      0   \n",
       "3                   1  ...                      1   \n",
       "4                   1  ...                      0   \n",
       "5                   0  ...                      0   \n",
       "6                   1  ...                      0   \n",
       "8                   0  ...                      0   \n",
       "9                   0  ...                      0   \n",
       "11                  0  ...                      0   \n",
       "13                  0  ...                      0   \n",
       "17                  0  ...                      0   \n",
       "18                  0  ...                      0   \n",
       "19                  0  ...                      0   \n",
       "23                  0  ...                      0   \n",
       "24                  0  ...                      0   \n",
       "25                  1  ...                      0   \n",
       "27                  1  ...                      1   \n",
       "29                  0  ...                      0   \n",
       "31                  0  ...                      0   \n",
       "32                  0  ...                      1   \n",
       "34                  0  ...                      0   \n",
       "\n",
       "    Recommended_Activity_Explore: Go sightseeing  \\\n",
       "0                                              0   \n",
       "3                                              0   \n",
       "4                                              0   \n",
       "5                                              0   \n",
       "6                                              1   \n",
       "8                                              0   \n",
       "9                                              0   \n",
       "11                                             0   \n",
       "13                                             0   \n",
       "17                                             0   \n",
       "18                                             0   \n",
       "19                                             0   \n",
       "23                                             0   \n",
       "24                                             0   \n",
       "25                                             0   \n",
       "27                                             0   \n",
       "29                                             0   \n",
       "31                                             0   \n",
       "32                                             0   \n",
       "34                                             0   \n",
       "\n",
       "    Recommended_Activity_Explore: Hike  \\\n",
       "0                                    0   \n",
       "3                                    0   \n",
       "4                                    0   \n",
       "5                                    0   \n",
       "6                                    0   \n",
       "8                                    0   \n",
       "9                                    0   \n",
       "11                                   0   \n",
       "13                                   0   \n",
       "17                                   0   \n",
       "18                                   0   \n",
       "19                                   0   \n",
       "23                                   0   \n",
       "24                                   0   \n",
       "25                                   0   \n",
       "27                                   0   \n",
       "29                                   0   \n",
       "31                                   0   \n",
       "32                                   0   \n",
       "34                                   0   \n",
       "\n",
       "    Recommended_Activity_Explore: Visit a park  \\\n",
       "0                                            0   \n",
       "3                                            0   \n",
       "4                                            0   \n",
       "5                                            0   \n",
       "6                                            0   \n",
       "8                                            0   \n",
       "9                                            0   \n",
       "11                                           0   \n",
       "13                                           0   \n",
       "17                                           0   \n",
       "18                                           0   \n",
       "19                                           0   \n",
       "23                                           0   \n",
       "24                                           0   \n",
       "25                                           0   \n",
       "27                                           0   \n",
       "29                                           0   \n",
       "31                                           0   \n",
       "32                                           0   \n",
       "34                                           1   \n",
       "\n",
       "    Recommended_Activity_Learn: Visit a library  \\\n",
       "0                                             0   \n",
       "3                                             0   \n",
       "4                                             1   \n",
       "5                                             0   \n",
       "6                                             0   \n",
       "8                                             0   \n",
       "9                                             0   \n",
       "11                                            0   \n",
       "13                                            0   \n",
       "17                                            0   \n",
       "18                                            0   \n",
       "19                                            1   \n",
       "23                                            0   \n",
       "24                                            0   \n",
       "25                                            0   \n",
       "27                                            0   \n",
       "29                                            0   \n",
       "31                                            0   \n",
       "32                                            0   \n",
       "34                                            0   \n",
       "\n",
       "    Recommended_Activity_Play: Go shopping  \\\n",
       "0                                        0   \n",
       "3                                        0   \n",
       "4                                        0   \n",
       "5                                        1   \n",
       "6                                        0   \n",
       "8                                        0   \n",
       "9                                        0   \n",
       "11                                       1   \n",
       "13                                       1   \n",
       "17                                       0   \n",
       "18                                       0   \n",
       "19                                       0   \n",
       "23                                       0   \n",
       "24                                       0   \n",
       "25                                       0   \n",
       "27                                       0   \n",
       "29                                       0   \n",
       "31                                       0   \n",
       "32                                       0   \n",
       "34                                       0   \n",
       "\n",
       "    Recommended_Activity_Play: Visit a movie theater  \\\n",
       "0                                                  0   \n",
       "3                                                  1   \n",
       "4                                                  0   \n",
       "5                                                  0   \n",
       "6                                                  0   \n",
       "8                                                  0   \n",
       "9                                                  0   \n",
       "11                                                 0   \n",
       "13                                                 0   \n",
       "17                                                 1   \n",
       "18                                                 0   \n",
       "19                                                 0   \n",
       "23                                                 0   \n",
       "24                                                 0   \n",
       "25                                                 0   \n",
       "27                                                 0   \n",
       "29                                                 0   \n",
       "31                                                 0   \n",
       "32                                                 1   \n",
       "34                                                 0   \n",
       "\n",
       "    Recommended_Activity_Stay in: Color  \\\n",
       "0                                     0   \n",
       "3                                     0   \n",
       "4                                     0   \n",
       "5                                     0   \n",
       "6                                     0   \n",
       "8                                     1   \n",
       "9                                     1   \n",
       "11                                    0   \n",
       "13                                    0   \n",
       "17                                    0   \n",
       "18                                    0   \n",
       "19                                    0   \n",
       "23                                    0   \n",
       "24                                    1   \n",
       "25                                    0   \n",
       "27                                    0   \n",
       "29                                    0   \n",
       "31                                    0   \n",
       "32                                    0   \n",
       "34                                    0   \n",
       "\n",
       "    Recommended_Activity_Stay in: Play a game  \\\n",
       "0                                           0   \n",
       "3                                           0   \n",
       "4                                           0   \n",
       "5                                           0   \n",
       "6                                           0   \n",
       "8                                           0   \n",
       "9                                           0   \n",
       "11                                          0   \n",
       "13                                          0   \n",
       "17                                          0   \n",
       "18                                          1   \n",
       "19                                          0   \n",
       "23                                          0   \n",
       "24                                          0   \n",
       "25                                          1   \n",
       "27                                          1   \n",
       "29                                          1   \n",
       "31                                          1   \n",
       "32                                          0   \n",
       "34                                          0   \n",
       "\n",
       "    Recommended_Activity_Stay in: Watch calming TV  \n",
       "0                                                1  \n",
       "3                                                0  \n",
       "4                                                0  \n",
       "5                                                0  \n",
       "6                                                0  \n",
       "8                                                0  \n",
       "9                                                0  \n",
       "11                                               0  \n",
       "13                                               0  \n",
       "17                                               0  \n",
       "18                                               0  \n",
       "19                                               0  \n",
       "23                                               1  \n",
       "24                                               0  \n",
       "25                                               0  \n",
       "27                                               0  \n",
       "29                                               0  \n",
       "31                                               0  \n",
       "32                                               0  \n",
       "34                                               0  \n",
       "\n",
       "[20 rows x 26 columns]"
      ]
     },
     "execution_count": 29,
     "metadata": {},
     "output_type": "execute_result"
    }
   ],
   "source": [
    "act_rec_dataset.head(20)"
   ]
  },
  {
   "cell_type": "code",
   "execution_count": 30,
   "metadata": {
    "graffitiCellId": "id_0zausuw"
   },
   "outputs": [
    {
     "data": {
      "text/plain": [
       "0         0\n",
       "3         0\n",
       "4         1\n",
       "5         0\n",
       "6         1\n",
       "         ..\n",
       "299984    0\n",
       "299989    0\n",
       "299990    0\n",
       "299995    0\n",
       "299997    0\n",
       "Name: Education_Level_Master Degree, Length: 156317, dtype: uint8"
      ]
     },
     "execution_count": 30,
     "metadata": {},
     "output_type": "execute_result"
    }
   ],
   "source": [
    "act_rec_dataset['Education_Level_Master Degree']"
   ]
  },
  {
   "cell_type": "markdown",
   "metadata": {
    "graffitiCellId": "id_lwopyrj"
   },
   "source": [
    "The next thing is to visualize the interactions between the categorical variables, and also identify if there are trends trends outside of those identified in the previous section?\n",
    "\n",
    "**Hint**: I'll be using a multicollinearity matrix."
   ]
  },
  {
   "cell_type": "code",
   "execution_count": 32,
   "metadata": {
    "graffitiCellId": "id_eit2w4h"
   },
   "outputs": [
    {
     "data": {
      "image/png": "[encoded data removed]",
      "text/plain": [
       "<Figure size 1440x2160 with 2 Axes>"
      ]
     },
     "metadata": {
      "needs_background": "light"
     },
     "output_type": "display_data"
    }
   ],
   "source": [
    "# set figure size\n",
    "#act_rec_dataset.plot(figsize=(25,10))\n",
    "plt.figure(figsize=(20,30))\n",
    "\n",
    "# Generate a mask to onlyshow the bottom triangle\n",
    "mask = np.triu(np.ones_like(act_rec_dataset.corr(), dtype=bool))\n",
    "\n",
    "# generate heatmap\n",
    "sns.heatmap(act_rec_dataset.corr(), annot=True, linewidths = .9, mask=mask, vmin=-1, vmax=1)\n",
    "plt.title('Correlation Coefficient Of Predictors')\n",
    "plt.show()"
   ]
  },
  {
   "cell_type": "markdown",
   "metadata": {
    "graffitiCellId": "id_6pb6hn8"
   },
   "source": [
    "Question: What trends were spotted in the interactions between the categoritcal variables?\n",
    "\n",
    "**Your answer:**\n",
    "\n",
    "We can observe from the visual above that there is high correlation between `Education_Level_Did Not Graduate HS` and `Education_Level_Others` variables.\n",
    "\n",
    "* There's a positive correlation between the `Education_Level_Master's Degree` independent variable and the `Budget_dollars_>=300` dependent variable.\n",
    "\n",
    "* There's a positive correlation between the `Education_Level_Bachelor's Degree` independent variable and the `Budget_dollars_>=300` dependent variable.\n",
    "\n",
    "* There's a positive correlation also between the age groups of `25-44`, `45-65`, `66-92` and the `Budget_dollars_>=300` dependent variable. \n",
    "\n",
    "\n",
    "\n"
   ]
  },
  {
   "cell_type": "markdown",
   "metadata": {
    "graffitiCellId": "id_jotehb7"
   },
   "source": [
    "For the purposes of this project, we will drop the following elements from the dataframe:\n",
    "\n",
    "- Education_Level_Did Not Graduate HS\n",
    "- Education_Level_Other\n",
    "- Budget (in dollars)_<300\n",
    "- With children?"
   ]
  },
  {
   "cell_type": "code",
   "execution_count": 33,
   "metadata": {
    "graffitiCellId": "id_dt8s85n"
   },
   "outputs": [
    {
     "data": {
      "text/html": [
       "<div>\n",
       "<style scoped>\n",
       "    .dataframe tbody tr th:only-of-type {\n",
       "        vertical-align: middle;\n",
       "    }\n",
       "\n",
       "    .dataframe tbody tr th {\n",
       "        vertical-align: top;\n",
       "    }\n",
       "\n",
       "    .dataframe thead th {\n",
       "        text-align: right;\n",
       "    }\n",
       "</style>\n",
       "<table border=\"1\" class=\"dataframe\">\n",
       "  <thead>\n",
       "    <tr style=\"text-align: right;\">\n",
       "      <th></th>\n",
       "      <th>Budget_dollars_&gt;=300</th>\n",
       "      <th>Age_18-24</th>\n",
       "      <th>Age_25-44</th>\n",
       "      <th>Age_45-65</th>\n",
       "      <th>Age_66-92</th>\n",
       "      <th>Gender_Female</th>\n",
       "      <th>Gender_Male</th>\n",
       "      <th>Gender_Non-binary</th>\n",
       "      <th>Gender_Other</th>\n",
       "      <th>Gender_Transgender</th>\n",
       "      <th>...</th>\n",
       "      <th>Education_Level_Master Degree</th>\n",
       "      <th>Recommended_Activity_Explore: Go sightseeing</th>\n",
       "      <th>Recommended_Activity_Explore: Hike</th>\n",
       "      <th>Recommended_Activity_Explore: Visit a park</th>\n",
       "      <th>Recommended_Activity_Learn: Visit a library</th>\n",
       "      <th>Recommended_Activity_Play: Go shopping</th>\n",
       "      <th>Recommended_Activity_Play: Visit a movie theater</th>\n",
       "      <th>Recommended_Activity_Stay in: Color</th>\n",
       "      <th>Recommended_Activity_Stay in: Play a game</th>\n",
       "      <th>Recommended_Activity_Stay in: Watch calming TV</th>\n",
       "    </tr>\n",
       "  </thead>\n",
       "  <tbody>\n",
       "    <tr>\n",
       "      <th>0</th>\n",
       "      <td>1</td>\n",
       "      <td>0</td>\n",
       "      <td>1</td>\n",
       "      <td>0</td>\n",
       "      <td>0</td>\n",
       "      <td>0</td>\n",
       "      <td>0</td>\n",
       "      <td>0</td>\n",
       "      <td>0</td>\n",
       "      <td>1</td>\n",
       "      <td>...</td>\n",
       "      <td>0</td>\n",
       "      <td>0</td>\n",
       "      <td>0</td>\n",
       "      <td>0</td>\n",
       "      <td>0</td>\n",
       "      <td>0</td>\n",
       "      <td>0</td>\n",
       "      <td>0</td>\n",
       "      <td>0</td>\n",
       "      <td>1</td>\n",
       "    </tr>\n",
       "    <tr>\n",
       "      <th>3</th>\n",
       "      <td>0</td>\n",
       "      <td>1</td>\n",
       "      <td>0</td>\n",
       "      <td>0</td>\n",
       "      <td>0</td>\n",
       "      <td>0</td>\n",
       "      <td>0</td>\n",
       "      <td>1</td>\n",
       "      <td>0</td>\n",
       "      <td>0</td>\n",
       "      <td>...</td>\n",
       "      <td>0</td>\n",
       "      <td>0</td>\n",
       "      <td>0</td>\n",
       "      <td>0</td>\n",
       "      <td>0</td>\n",
       "      <td>0</td>\n",
       "      <td>1</td>\n",
       "      <td>0</td>\n",
       "      <td>0</td>\n",
       "      <td>0</td>\n",
       "    </tr>\n",
       "    <tr>\n",
       "      <th>4</th>\n",
       "      <td>1</td>\n",
       "      <td>0</td>\n",
       "      <td>0</td>\n",
       "      <td>0</td>\n",
       "      <td>1</td>\n",
       "      <td>0</td>\n",
       "      <td>0</td>\n",
       "      <td>1</td>\n",
       "      <td>0</td>\n",
       "      <td>0</td>\n",
       "      <td>...</td>\n",
       "      <td>1</td>\n",
       "      <td>0</td>\n",
       "      <td>0</td>\n",
       "      <td>0</td>\n",
       "      <td>1</td>\n",
       "      <td>0</td>\n",
       "      <td>0</td>\n",
       "      <td>0</td>\n",
       "      <td>0</td>\n",
       "      <td>0</td>\n",
       "    </tr>\n",
       "    <tr>\n",
       "      <th>5</th>\n",
       "      <td>1</td>\n",
       "      <td>0</td>\n",
       "      <td>1</td>\n",
       "      <td>0</td>\n",
       "      <td>0</td>\n",
       "      <td>0</td>\n",
       "      <td>1</td>\n",
       "      <td>0</td>\n",
       "      <td>0</td>\n",
       "      <td>0</td>\n",
       "      <td>...</td>\n",
       "      <td>0</td>\n",
       "      <td>0</td>\n",
       "      <td>0</td>\n",
       "      <td>0</td>\n",
       "      <td>0</td>\n",
       "      <td>1</td>\n",
       "      <td>0</td>\n",
       "      <td>0</td>\n",
       "      <td>0</td>\n",
       "      <td>0</td>\n",
       "    </tr>\n",
       "    <tr>\n",
       "      <th>6</th>\n",
       "      <td>1</td>\n",
       "      <td>0</td>\n",
       "      <td>1</td>\n",
       "      <td>0</td>\n",
       "      <td>0</td>\n",
       "      <td>0</td>\n",
       "      <td>0</td>\n",
       "      <td>1</td>\n",
       "      <td>0</td>\n",
       "      <td>0</td>\n",
       "      <td>...</td>\n",
       "      <td>1</td>\n",
       "      <td>1</td>\n",
       "      <td>0</td>\n",
       "      <td>0</td>\n",
       "      <td>0</td>\n",
       "      <td>0</td>\n",
       "      <td>0</td>\n",
       "      <td>0</td>\n",
       "      <td>0</td>\n",
       "      <td>0</td>\n",
       "    </tr>\n",
       "  </tbody>\n",
       "</table>\n",
       "<p>5 rows × 22 columns</p>\n",
       "</div>"
      ],
      "text/plain": [
       "   Budget_dollars_>=300  Age_18-24  Age_25-44  Age_45-65  Age_66-92  \\\n",
       "0                     1          0          1          0          0   \n",
       "3                     0          1          0          0          0   \n",
       "4                     1          0          0          0          1   \n",
       "5                     1          0          1          0          0   \n",
       "6                     1          0          1          0          0   \n",
       "\n",
       "   Gender_Female  Gender_Male  Gender_Non-binary  Gender_Other  \\\n",
       "0              0            0                  0             0   \n",
       "3              0            0                  1             0   \n",
       "4              0            0                  1             0   \n",
       "5              0            1                  0             0   \n",
       "6              0            0                  1             0   \n",
       "\n",
       "   Gender_Transgender  ...  Education_Level_Master Degree  \\\n",
       "0                   1  ...                              0   \n",
       "3                   0  ...                              0   \n",
       "4                   0  ...                              1   \n",
       "5                   0  ...                              0   \n",
       "6                   0  ...                              1   \n",
       "\n",
       "   Recommended_Activity_Explore: Go sightseeing  \\\n",
       "0                                             0   \n",
       "3                                             0   \n",
       "4                                             0   \n",
       "5                                             0   \n",
       "6                                             1   \n",
       "\n",
       "   Recommended_Activity_Explore: Hike  \\\n",
       "0                                   0   \n",
       "3                                   0   \n",
       "4                                   0   \n",
       "5                                   0   \n",
       "6                                   0   \n",
       "\n",
       "   Recommended_Activity_Explore: Visit a park  \\\n",
       "0                                           0   \n",
       "3                                           0   \n",
       "4                                           0   \n",
       "5                                           0   \n",
       "6                                           0   \n",
       "\n",
       "   Recommended_Activity_Learn: Visit a library  \\\n",
       "0                                            0   \n",
       "3                                            0   \n",
       "4                                            1   \n",
       "5                                            0   \n",
       "6                                            0   \n",
       "\n",
       "   Recommended_Activity_Play: Go shopping  \\\n",
       "0                                       0   \n",
       "3                                       0   \n",
       "4                                       0   \n",
       "5                                       1   \n",
       "6                                       0   \n",
       "\n",
       "   Recommended_Activity_Play: Visit a movie theater  \\\n",
       "0                                                 0   \n",
       "3                                                 1   \n",
       "4                                                 0   \n",
       "5                                                 0   \n",
       "6                                                 0   \n",
       "\n",
       "   Recommended_Activity_Stay in: Color  \\\n",
       "0                                    0   \n",
       "3                                    0   \n",
       "4                                    0   \n",
       "5                                    0   \n",
       "6                                    0   \n",
       "\n",
       "   Recommended_Activity_Stay in: Play a game  \\\n",
       "0                                          0   \n",
       "3                                          0   \n",
       "4                                          0   \n",
       "5                                          0   \n",
       "6                                          0   \n",
       "\n",
       "   Recommended_Activity_Stay in: Watch calming TV  \n",
       "0                                               1  \n",
       "3                                               0  \n",
       "4                                               0  \n",
       "5                                               0  \n",
       "6                                               0  \n",
       "\n",
       "[5 rows x 22 columns]"
      ]
     },
     "execution_count": 33,
     "metadata": {},
     "output_type": "execute_result"
    }
   ],
   "source": [
    "#We drop certain variables that are highly correlated and irrelevant\n",
    "\n",
    "act_rec_dataset = act_rec_dataset.drop(columns=['Education_Level_Did Not Graduate HS', 'Education_Level_Other', 'Budget_dollars_<300', 'With_Children'])\n",
    "act_rec_dataset.head()"
   ]
  },
  {
   "cell_type": "markdown",
   "metadata": {
    "graffitiCellId": "id_jiw6vdh"
   },
   "source": [
    "### Evaluate fairness issues\n",
    "\n",
    "Use the IBM AIF360 toolkit to first evaluate the **statistical parity difference** and the **disparate impact** for this dataset; we will later consider other fairness metrics. Interpret your findings - is there bias in the proposed problem statement? If yes, what group is benefitting?\n",
    "\n",
    "**Hint**: Use the BinaryLabelDataset and the BinaryLabelDatasetMetric functions for the fairness evaluation. The reported Statistical Parity Difference may be within -0.64 and -0.55, and the Disparate impact value may be within 0.136 and 0.0150."
   ]
  },
  {
   "cell_type": "code",
   "execution_count": 34,
   "metadata": {
    "graffitiCellId": "id_3z4m6ax"
   },
   "outputs": [],
   "source": [
    "# Fairness evaluation of the original dataset\n",
    "\n",
    "# Bachelor and Master degrees are privileged groups in terms of budget.\n",
    "\n",
    "privileged_groups = [{'Education_Level_Master Degree' : 1}, {'Education_Level_Bachelor Degree' : 1}]\n",
    "unprivileged_groups = [{'Education_Level_High School Grad' : 1}]\n",
    "\n",
    "favorable_label = 1\n",
    "unfavorable_label = 0\n",
    "\n",
    "binary_act_dataset = BinaryLabelDataset(favorable_label = favorable_label, \n",
    "                                        unfavorable_label = unfavorable_label, \n",
    "                                        df = act_rec_dataset, label_names = \n",
    "                                       ['Budget_dollars_>=300'], protected_attribute_names = \n",
    "                                        ['Education_Level_Master Degree', \n",
    "                                         'Education_Level_Bachelor Degree', \n",
    "                                         'Education_Level_High School Grad'], \n",
    "                                         instance_weights_name = None)\n",
    "\n"
   ]
  },
  {
   "cell_type": "code",
   "execution_count": 35,
   "metadata": {
    "graffitiCellId": "id_xczwzpd"
   },
   "outputs": [],
   "source": [
    "# To calculate the statistical parity difference and the disparate impact\n",
    "\n",
    "orig_metric_act_dataset = BinaryLabelDatasetMetric(binary_act_dataset, unprivileged_groups = unprivileged_groups,\n",
    "                                                  privileged_groups = privileged_groups)\n",
    "\n",
    "#print(\"Statistical Parity Difference =\")\n",
    "#print(f\"Disparate impact =\")"
   ]
  },
  {
   "cell_type": "code",
   "execution_count": 36,
   "metadata": {
    "graffitiCellId": "id_j9l1i1r"
   },
   "outputs": [],
   "source": [
    "def mean_difference(orig_metric_act_dataset):\n",
    "    return orig_metric_act_dataset.statistical_parity_difference()"
   ]
  },
  {
   "cell_type": "code",
   "execution_count": 37,
   "metadata": {
    "graffitiCellId": "id_hjqgmmf"
   },
   "outputs": [
    {
     "data": {
      "text/plain": [
       "-0.9834450813458532"
      ]
     },
     "execution_count": 37,
     "metadata": {},
     "output_type": "execute_result"
    }
   ],
   "source": [
    "# For the statistical parity difference\n",
    "\n",
    "orig_metric_act_dataset.statistical_parity_difference()"
   ]
  },
  {
   "cell_type": "code",
   "execution_count": 38,
   "metadata": {
    "graffitiCellId": "id_zq1f2fy"
   },
   "outputs": [
    {
     "data": {
      "text/plain": [
       "0.008868535202593118"
      ]
     },
     "execution_count": 38,
     "metadata": {},
     "output_type": "execute_result"
    }
   ],
   "source": [
    "# For the disparate impact\n",
    "\n",
    "orig_metric_act_dataset.disparate_impact()"
   ]
  },
  {
   "cell_type": "markdown",
   "metadata": {
    "graffitiCellId": "id_321p02l"
   },
   "source": [
    "Question: Evaluate the fairness metrics. What are the findings? Is there bias in the proposed problem statement? If yes, what group is benefitting?\n",
    "\n",
    "**Your answer:**\n",
    "\n",
    ">From the codes above, we can see that the dataset have a statistical parity difference of `-0.9834` and a disparate impact of `0.0088`. This is a preprocessing fairness evaluation of the dataset.\n",
    "\n",
    ">It shows that there is bias in the proposed problem statement with the Education_Level_Bachelor degree and Education_Level_Master degree groups as benefactors."
   ]
  },
  {
   "cell_type": "markdown",
   "metadata": {
    "graffitiCellId": "id_6ujpcqr"
   },
   "source": [
    "## Step 2: Investigate an ML model on the problematic Dataset"
   ]
  },
  {
   "cell_type": "markdown",
   "metadata": {
    "graffitiCellId": "id_gxtxkzj"
   },
   "source": [
    "For this project, we are using a train-test-validation split.\n",
    "\n",
    "I have available boilerplate for training 2 ML models on this dataset - I will need to train these models and use the methods we covered in this course to identify and evaluate their performance (**using the accuracy metric and confusion matrix**).\n",
    "\n",
    "As part of this process, I will also analyze and evaluate fairness and bias issues in the AI solution."
   ]
  },
  {
   "cell_type": "code",
   "execution_count": 37,
   "metadata": {
    "graffitiCellId": "id_v5oxpnk"
   },
   "outputs": [],
   "source": [
    "# To split the binary act dataset into training, test, and validate datasets\n",
    "\n",
    "(orig_train,\n",
    " orig_validate,\n",
    " orig_test) = binary_act_dataset.split([0.5, 0.8], shuffle=True)"
   ]
  },
  {
   "cell_type": "markdown",
   "metadata": {
    "graffitiCellId": "id_tf45nva"
   },
   "source": [
    "### Evaluation of the Fairness Metrics on Train Dataset"
   ]
  },
  {
   "cell_type": "code",
   "execution_count": 38,
   "metadata": {
    "graffitiCellId": "id_u4lxneg"
   },
   "outputs": [],
   "source": [
    "# Fairness Metrics Evaluation on the Train Dataset\n",
    "# To calculate the statistical parity difference and the disparate impact\n",
    "\n",
    "orig_train_metric_act_dataset = BinaryLabelDatasetMetric(orig_train, unprivileged_groups = unprivileged_groups,\n",
    "                                                  privileged_groups = privileged_groups)\n",
    "\n",
    "#print(\"Statistical Parity Difference =\")\n",
    "#print(f\"Disparate impact =\")"
   ]
  },
  {
   "cell_type": "code",
   "execution_count": 39,
   "metadata": {
    "graffitiCellId": "id_fvzd3tc"
   },
   "outputs": [],
   "source": [
    "def mean_difference(orig_train_metric_act_dataset):\n",
    "    return orig_train_metric_act_dataset.statistical_parity_difference()"
   ]
  },
  {
   "cell_type": "code",
   "execution_count": 40,
   "metadata": {
    "graffitiCellId": "id_h75iixx"
   },
   "outputs": [
    {
     "data": {
      "text/plain": [
       "-0.9830459799434815"
      ]
     },
     "execution_count": 40,
     "metadata": {},
     "output_type": "execute_result"
    }
   ],
   "source": [
    "# For the statistical parity difference\n",
    "\n",
    "orig_train_metric_act_dataset.statistical_parity_difference()"
   ]
  },
  {
   "cell_type": "code",
   "execution_count": 43,
   "metadata": {
    "graffitiCellId": "id_9uesww2"
   },
   "outputs": [
    {
     "data": {
      "text/plain": [
       "0.008598442499306608"
      ]
     },
     "execution_count": 43,
     "metadata": {},
     "output_type": "execute_result"
    }
   ],
   "source": [
    "# For the disparate impact\n",
    "\n",
    "orig_train_metric_act_dataset.disparate_impact()"
   ]
  },
  {
   "cell_type": "code",
   "execution_count": 41,
   "metadata": {
    "graffitiCellId": "id_hnwseu3"
   },
   "outputs": [],
   "source": [
    "#Source: Helper code snippet from https://github.com/Trusted-AI/AIF360/blob/master/examples/tutorial_medical_expenditure.ipynb\n",
    "def test(dataset, model, thresh_arr):\n",
    "    y_val_pred_prob = model.predict_proba(dataset.features)\n",
    "    y_val_pred = model.predict(dataset.features)\n",
    "    pos_ind = np.where(model.classes_ == dataset.favorable_label)[0][0]\n",
    "    metric_arrs = defaultdict(list)\n",
    "    for thresh in thresh_arr:\n",
    "        y_val_pred = (y_val_pred_prob[:, pos_ind] > thresh).astype(np.float64)\n",
    "\n",
    "        dataset_pred = dataset.copy()\n",
    "        dataset_pred.labels = y_val_pred\n",
    "        metric = ClassificationMetric(\n",
    "                dataset, dataset_pred,\n",
    "                unprivileged_groups=unprivileged_groups,\n",
    "                privileged_groups=privileged_groups)\n",
    "\n",
    "        metric_arrs['bal_acc'].append((metric.true_positive_rate()\n",
    "                                     + metric.true_negative_rate()) / 2)\n",
    "        metric_arrs['avg_odds_diff'].append(metric.average_odds_difference())\n",
    "        metric_arrs['disp_imp'].append(metric.disparate_impact())\n",
    "        metric_arrs['stat_par_diff'].append(metric.statistical_parity_difference())\n",
    "        metric_arrs['eq_opp_diff'].append(metric.equal_opportunity_difference())\n",
    "        metric_arrs['theil_ind'].append(metric.theil_index())\n",
    "    \n",
    "    return metric_arrs, y_val_pred\n",
    "\n",
    "def describe_metrics(metrics, thresh_arr):\n",
    "    best_ind = np.argmax(metrics['bal_acc'])\n",
    "    print(\"Threshold corresponding to Best balanced accuracy: {:6.4f}\".format(thresh_arr[best_ind]))\n",
    "    print(\"Best balanced accuracy: {:6.4f}\".format(metrics['bal_acc'][best_ind]))\n",
    "    print(\"Corresponding average odds difference value: {:6.4f}\".format(metrics['avg_odds_diff'][best_ind]))\n",
    "    print(\"Corresponding statistical parity difference value: {:6.4f}\".format(metrics['stat_par_diff'][best_ind]))\n",
    "    print(\"Corresponding equal opportunity difference value: {:6.4f}\".format(metrics['eq_opp_diff'][best_ind]))\n",
    "    print(\"Corresponding Theil index value: {:6.4f}\".format(metrics['theil_ind'][best_ind]))"
   ]
  },
  {
   "cell_type": "code",
   "execution_count": 48,
   "metadata": {
    "graffitiCellId": "id_b0zcsr1"
   },
   "outputs": [
    {
     "name": "stdout",
     "output_type": "stream",
     "text": [
      "Threshold corresponding to Best balanced accuracy: 0.0100\n",
      "Best balanced accuracy: 0.9864\n",
      "Corresponding average odds difference value: -0.4861\n",
      "Corresponding statistical parity difference value: -0.9878\n",
      "Corresponding equal opportunity difference value: -0.8824\n",
      "Corresponding Theil index value: 0.0061\n"
     ]
    }
   ],
   "source": [
    "# Using the Gaussian Naive Bayes model for training and predicting\n",
    "\n",
    "GNB_model = GaussianNB().fit(orig_train.features, orig_train.labels.ravel(), orig_train.instance_weights) \n",
    "thresh_arr = np.linspace(0.01, 0.5, 50)\n",
    "val_metrics, gnb_pred = test(dataset=orig_test,\n",
    "                   model=GNB_model,\n",
    "                   thresh_arr=thresh_arr)\n",
    "describe_metrics(val_metrics, thresh_arr)"
   ]
  },
  {
   "cell_type": "markdown",
   "metadata": {
    "graffitiCellId": "id_bvn75l5"
   },
   "source": [
    "#### Observations\n",
    "\n",
    "**Fairness Metrics Preprocessing**\n",
    "\n",
    "From the metrics above we can see that the Gaussian Naive Bayes model have a threshold corresponding to best balanced accuracy of `0.0100`, a best balanced accuracy of `0.9868`, a corresponding average odds difference value of `-0.4762`, a corresponding statistical parity difference value of `-0.9887`, a corresponding equal opportunity difference value of `-0.8837`, and a corresponding Theil index value of `0.0058`."
   ]
  },
  {
   "cell_type": "code",
   "execution_count": 42,
   "metadata": {
    "graffitiCellId": "id_3f9keu3"
   },
   "outputs": [
    {
     "data": {
      "text/plain": [
       "GaussianNB()"
      ]
     },
     "execution_count": 42,
     "metadata": {},
     "output_type": "execute_result"
    }
   ],
   "source": [
    "nb = GaussianNB()\n",
    "nb.fit(orig_train.features, orig_train.labels.ravel())"
   ]
  },
  {
   "cell_type": "code",
   "execution_count": 43,
   "metadata": {
    "graffitiCellId": "id_nkb7drp"
   },
   "outputs": [],
   "source": [
    "Gaussian_Accuracy = nb.score(orig_test.features, orig_test.labels.ravel())"
   ]
  },
  {
   "cell_type": "code",
   "execution_count": 48,
   "metadata": {
    "graffitiCellId": "id_tvyi4k9"
   },
   "outputs": [
    {
     "data": {
      "text/plain": [
       "0.9866299897645855"
      ]
     },
     "execution_count": 48,
     "metadata": {},
     "output_type": "execute_result"
    }
   ],
   "source": [
    "Gaussian_Accuracy"
   ]
  },
  {
   "cell_type": "code",
   "execution_count": 44,
   "metadata": {
    "graffitiCellId": "id_l9lbuuu"
   },
   "outputs": [],
   "source": [
    "# Using the Logistic Regression model for training the train data sets\n",
    "\n",
    "LR_model = LogisticRegression().fit(orig_train.features, orig_train.labels.ravel(), orig_train.instance_weights)"
   ]
  },
  {
   "cell_type": "code",
   "execution_count": 49,
   "metadata": {
    "graffitiCellId": "id_b95zv54"
   },
   "outputs": [
    {
     "name": "stdout",
     "output_type": "stream",
     "text": [
      "Threshold corresponding to Best balanced accuracy: 0.2700\n",
      "Best balanced accuracy: 0.9950\n",
      "Corresponding average odds difference value: -0.5470\n",
      "Corresponding statistical parity difference value: -0.9931\n",
      "Corresponding equal opportunity difference value: -1.0000\n",
      "Corresponding Theil index value: 0.0048\n"
     ]
    }
   ],
   "source": [
    "#Load the Logistic Regression model\n",
    "\n",
    "# Logistic Regression for predicting the test data sets\n",
    "\n",
    "thresh_arr = np.linspace(0.01, 0.5, 50)\n",
    "val_metrics, lr_pred = test(dataset=orig_test,\n",
    "                   model=LR_model,\n",
    "                   thresh_arr=thresh_arr)\n",
    "describe_metrics(val_metrics, thresh_arr)"
   ]
  },
  {
   "cell_type": "markdown",
   "metadata": {
    "graffitiCellId": "id_do8rv5j"
   },
   "source": [
    "#### Observations\n",
    "\n",
    "**Fairness Metrics Preprocessing**\n",
    "\n",
    "From the metrics above we can see that the Logistic Regression model have a threshold corresponding to best balanced accuracy of `0.3000`, a best balanced accuracy of `0.9958`, a corresponding average odds difference value of `-0.5357`, a corresponding statistical parity difference value of `-0.9924`, a corresponding equal opportunity difference value of `-1.0000`, and a corresponding Theil index value of `0.0039`."
   ]
  },
  {
   "cell_type": "code",
   "execution_count": 45,
   "metadata": {
    "graffitiCellId": "id_u2cxyrt"
   },
   "outputs": [
    {
     "data": {
      "text/plain": [
       "LogisticRegression()"
      ]
     },
     "execution_count": 45,
     "metadata": {},
     "output_type": "execute_result"
    }
   ],
   "source": [
    "lr = LogisticRegression()\n",
    "lr.fit(orig_train.features, orig_train.labels.ravel())"
   ]
  },
  {
   "cell_type": "code",
   "execution_count": 46,
   "metadata": {
    "graffitiCellId": "id_xquhvfp"
   },
   "outputs": [],
   "source": [
    "LogisticRegression_Accuracy = lr.score(orig_test.features, orig_test.labels.ravel())"
   ]
  },
  {
   "cell_type": "code",
   "execution_count": 53,
   "metadata": {
    "graffitiCellId": "id_tkzco89"
   },
   "outputs": [
    {
     "data": {
      "text/plain": [
       "0.9958738485158649"
      ]
     },
     "execution_count": 53,
     "metadata": {},
     "output_type": "execute_result"
    }
   ],
   "source": [
    "LogisticRegression_Accuracy"
   ]
  },
  {
   "cell_type": "markdown",
   "metadata": {
    "graffitiCellId": "id_55k1st2"
   },
   "source": [
    "### Confusion Matrix Evaluation of the GaussianNB model"
   ]
  },
  {
   "cell_type": "code",
   "execution_count": 50,
   "metadata": {
    "graffitiCellId": "id_oxms76w"
   },
   "outputs": [],
   "source": [
    "# To evaluate the confusion matrix of the GaussianNB model\n",
    "\n",
    "from sklearn.metrics import confusion_matrix\n",
    "cm = confusion_matrix(orig_test.labels.ravel(), gnb_pred)"
   ]
  },
  {
   "cell_type": "code",
   "execution_count": 51,
   "metadata": {
    "graffitiCellId": "id_ku6kvi6"
   },
   "outputs": [
    {
     "data": {
      "text/plain": [
       "array([[15451,   384],\n",
       "       [   45, 15384]])"
      ]
     },
     "execution_count": 51,
     "metadata": {},
     "output_type": "execute_result"
    }
   ],
   "source": [
    "cm"
   ]
  },
  {
   "cell_type": "code",
   "execution_count": 56,
   "metadata": {
    "graffitiCellId": "id_hpuksww"
   },
   "outputs": [
    {
     "data": {
      "image/png": "[encoded data removed]",
      "text/plain": [
       "<Figure size 432x288 with 2 Axes>"
      ]
     },
     "metadata": {
      "needs_background": "light"
     },
     "output_type": "display_data"
    }
   ],
   "source": [
    "# To visualize the confusion matrix of the GaussianNB model\n",
    "\n",
    "cm_display = ConfusionMatrixDisplay(confusion_matrix = cm, display_labels = [False, True])\n",
    "\n",
    "cm_display.plot()\n",
    "plt.show()"
   ]
  },
  {
   "cell_type": "markdown",
   "metadata": {
    "graffitiCellId": "id_xco5t6w"
   },
   "source": [
    "#### Observation\n",
    "\n",
    "From the confusion matrix visual above, we can notice that the Gaussian Naive Bayes model have a True Positive result of `15471` of the total number of predictions, a False Positive result of `380` of the total number of predictions, a True Negative result of `15375` of the total number of predictions, and False Negative result of `38` of the total number of predictions.\n",
    "\n",
    "We can deduce from the confusion matrix visual above that Gaussian Naive Bayes model has a Type 1 error of `380` which means that `380` of the predcited values that the budget is >= 300 is false.\n",
    "\n",
    "The model also has a Type 2 error of `38` which means the `38` of the predicted values that the budget is not >= 300 is false. "
   ]
  },
  {
   "cell_type": "markdown",
   "metadata": {
    "graffitiCellId": "id_10c34ov"
   },
   "source": [
    "### Confusion Matrix Evaluation of the LogisticRegression model"
   ]
  },
  {
   "cell_type": "code",
   "execution_count": 57,
   "metadata": {
    "graffitiCellId": "id_s68wdkd"
   },
   "outputs": [],
   "source": [
    "# To evaluate the confusion matrix of the LogisticRegression model\n",
    "\n",
    "from sklearn.metrics import confusion_matrix\n",
    "cm = confusion_matrix(orig_test.labels.ravel(), lr_pred)"
   ]
  },
  {
   "cell_type": "code",
   "execution_count": 58,
   "metadata": {
    "graffitiCellId": "id_e7zqnrt"
   },
   "outputs": [
    {
     "data": {
      "text/plain": [
       "array([[15842,     9],\n",
       "       [  120, 15293]])"
      ]
     },
     "execution_count": 58,
     "metadata": {},
     "output_type": "execute_result"
    }
   ],
   "source": [
    "cm"
   ]
  },
  {
   "cell_type": "code",
   "execution_count": 59,
   "metadata": {
    "graffitiCellId": "id_f4p015i"
   },
   "outputs": [
    {
     "data": {
      "image/png": "[encoded data removed]",
      "text/plain": [
       "<Figure size 432x288 with 2 Axes>"
      ]
     },
     "metadata": {
      "needs_background": "light"
     },
     "output_type": "display_data"
    }
   ],
   "source": [
    "# To visualize the confusion matrix of the LogisticRegression model\n",
    "\n",
    "cm_display = ConfusionMatrixDisplay(confusion_matrix = cm, display_labels = [False, True])\n",
    "\n",
    "cm_display.plot()\n",
    "plt.show()"
   ]
  },
  {
   "cell_type": "markdown",
   "metadata": {
    "graffitiCellId": "id_f6cpr6n"
   },
   "source": [
    "#### Observation\n",
    "\n",
    "From the confusion matrix visual above, we can notice that the Logistic Regression model have a True Positive result of `15842` of the total number of predictions, a False Positve result of `9` of the total number of predictions, a True Negative result of `15293` of the total number of predictions, and True Positive result of `120` of the total number of predictions.\n",
    "\n",
    "We can deduce from the confusion matrix visual above that Logistic Regression model has a Type 1 error of `9` which means that `9` of the predcited values that the budget is >= 300 is false.\n",
    "\n",
    "The model also has a Type 2 error of `120` which means the `120` of the predicted values that the budget is not >= 300 is false. "
   ]
  },
  {
   "cell_type": "markdown",
   "metadata": {
    "graffitiCellId": "id_2l5ikcf"
   },
   "source": [
    "### Visualization of the Gaussian NB Model Accuracy on the Test Dataset"
   ]
  },
  {
   "cell_type": "code",
   "execution_count": 60,
   "metadata": {
    "graffitiCellId": "id_pg3sj1q"
   },
   "outputs": [
    {
     "data": {
      "text/html": [
       "<div>\n",
       "<style scoped>\n",
       "    .dataframe tbody tr th:only-of-type {\n",
       "        vertical-align: middle;\n",
       "    }\n",
       "\n",
       "    .dataframe tbody tr th {\n",
       "        vertical-align: top;\n",
       "    }\n",
       "\n",
       "    .dataframe thead th {\n",
       "        text-align: right;\n",
       "    }\n",
       "</style>\n",
       "<table border=\"1\" class=\"dataframe\">\n",
       "  <thead>\n",
       "    <tr style=\"text-align: right;\">\n",
       "      <th></th>\n",
       "      <th>Actual-Values</th>\n",
       "      <th>Predicted-Values</th>\n",
       "    </tr>\n",
       "  </thead>\n",
       "  <tbody>\n",
       "    <tr>\n",
       "      <th>0</th>\n",
       "      <td>1.0</td>\n",
       "      <td>1.0</td>\n",
       "    </tr>\n",
       "    <tr>\n",
       "      <th>1</th>\n",
       "      <td>0.0</td>\n",
       "      <td>0.0</td>\n",
       "    </tr>\n",
       "    <tr>\n",
       "      <th>2</th>\n",
       "      <td>1.0</td>\n",
       "      <td>1.0</td>\n",
       "    </tr>\n",
       "    <tr>\n",
       "      <th>3</th>\n",
       "      <td>1.0</td>\n",
       "      <td>1.0</td>\n",
       "    </tr>\n",
       "    <tr>\n",
       "      <th>4</th>\n",
       "      <td>1.0</td>\n",
       "      <td>1.0</td>\n",
       "    </tr>\n",
       "    <tr>\n",
       "      <th>5</th>\n",
       "      <td>0.0</td>\n",
       "      <td>0.0</td>\n",
       "    </tr>\n",
       "    <tr>\n",
       "      <th>6</th>\n",
       "      <td>0.0</td>\n",
       "      <td>0.0</td>\n",
       "    </tr>\n",
       "    <tr>\n",
       "      <th>7</th>\n",
       "      <td>1.0</td>\n",
       "      <td>1.0</td>\n",
       "    </tr>\n",
       "    <tr>\n",
       "      <th>8</th>\n",
       "      <td>1.0</td>\n",
       "      <td>1.0</td>\n",
       "    </tr>\n",
       "    <tr>\n",
       "      <th>9</th>\n",
       "      <td>0.0</td>\n",
       "      <td>0.0</td>\n",
       "    </tr>\n",
       "    <tr>\n",
       "      <th>10</th>\n",
       "      <td>1.0</td>\n",
       "      <td>1.0</td>\n",
       "    </tr>\n",
       "    <tr>\n",
       "      <th>11</th>\n",
       "      <td>0.0</td>\n",
       "      <td>0.0</td>\n",
       "    </tr>\n",
       "    <tr>\n",
       "      <th>12</th>\n",
       "      <td>0.0</td>\n",
       "      <td>0.0</td>\n",
       "    </tr>\n",
       "    <tr>\n",
       "      <th>13</th>\n",
       "      <td>1.0</td>\n",
       "      <td>1.0</td>\n",
       "    </tr>\n",
       "    <tr>\n",
       "      <th>14</th>\n",
       "      <td>0.0</td>\n",
       "      <td>0.0</td>\n",
       "    </tr>\n",
       "    <tr>\n",
       "      <th>15</th>\n",
       "      <td>0.0</td>\n",
       "      <td>0.0</td>\n",
       "    </tr>\n",
       "    <tr>\n",
       "      <th>16</th>\n",
       "      <td>0.0</td>\n",
       "      <td>0.0</td>\n",
       "    </tr>\n",
       "    <tr>\n",
       "      <th>17</th>\n",
       "      <td>0.0</td>\n",
       "      <td>0.0</td>\n",
       "    </tr>\n",
       "    <tr>\n",
       "      <th>18</th>\n",
       "      <td>1.0</td>\n",
       "      <td>1.0</td>\n",
       "    </tr>\n",
       "    <tr>\n",
       "      <th>19</th>\n",
       "      <td>0.0</td>\n",
       "      <td>0.0</td>\n",
       "    </tr>\n",
       "  </tbody>\n",
       "</table>\n",
       "</div>"
      ],
      "text/plain": [
       "    Actual-Values  Predicted-Values\n",
       "0             1.0               1.0\n",
       "1             0.0               0.0\n",
       "2             1.0               1.0\n",
       "3             1.0               1.0\n",
       "4             1.0               1.0\n",
       "5             0.0               0.0\n",
       "6             0.0               0.0\n",
       "7             1.0               1.0\n",
       "8             1.0               1.0\n",
       "9             0.0               0.0\n",
       "10            1.0               1.0\n",
       "11            0.0               0.0\n",
       "12            0.0               0.0\n",
       "13            1.0               1.0\n",
       "14            0.0               0.0\n",
       "15            0.0               0.0\n",
       "16            0.0               0.0\n",
       "17            0.0               0.0\n",
       "18            1.0               1.0\n",
       "19            0.0               0.0"
      ]
     },
     "execution_count": 60,
     "metadata": {},
     "output_type": "execute_result"
    }
   ],
   "source": [
    "#Fill IN\n",
    "#Compare the model accuracy on test dataset either in a bar plot or table format\n",
    "\n",
    "# Visualization of the GaussianNB() model Accuracy on the test dataset\n",
    "\n",
    "gnb_model_viz = pd.DataFrame({'Actual-Values': np.array(orig_test.labels.ravel()).flatten(), \n",
    "                       'Predicted-Values': gnb_pred.flatten()})\n",
    "gnb_model_viz.head(20)"
   ]
  },
  {
   "cell_type": "markdown",
   "metadata": {
    "graffitiCellId": "id_w543pwx"
   },
   "source": [
    "### Visualization of the LogisticRegression Model Accuracy on the Test Dataset"
   ]
  },
  {
   "cell_type": "code",
   "execution_count": 61,
   "metadata": {
    "graffitiCellId": "id_r4ad2ze"
   },
   "outputs": [
    {
     "data": {
      "text/html": [
       "<div>\n",
       "<style scoped>\n",
       "    .dataframe tbody tr th:only-of-type {\n",
       "        vertical-align: middle;\n",
       "    }\n",
       "\n",
       "    .dataframe tbody tr th {\n",
       "        vertical-align: top;\n",
       "    }\n",
       "\n",
       "    .dataframe thead th {\n",
       "        text-align: right;\n",
       "    }\n",
       "</style>\n",
       "<table border=\"1\" class=\"dataframe\">\n",
       "  <thead>\n",
       "    <tr style=\"text-align: right;\">\n",
       "      <th></th>\n",
       "      <th>Actual-Values</th>\n",
       "      <th>Predicted-Values</th>\n",
       "    </tr>\n",
       "  </thead>\n",
       "  <tbody>\n",
       "    <tr>\n",
       "      <th>0</th>\n",
       "      <td>1.0</td>\n",
       "      <td>1.0</td>\n",
       "    </tr>\n",
       "    <tr>\n",
       "      <th>1</th>\n",
       "      <td>0.0</td>\n",
       "      <td>0.0</td>\n",
       "    </tr>\n",
       "    <tr>\n",
       "      <th>2</th>\n",
       "      <td>1.0</td>\n",
       "      <td>1.0</td>\n",
       "    </tr>\n",
       "    <tr>\n",
       "      <th>3</th>\n",
       "      <td>1.0</td>\n",
       "      <td>1.0</td>\n",
       "    </tr>\n",
       "    <tr>\n",
       "      <th>4</th>\n",
       "      <td>1.0</td>\n",
       "      <td>1.0</td>\n",
       "    </tr>\n",
       "    <tr>\n",
       "      <th>5</th>\n",
       "      <td>0.0</td>\n",
       "      <td>0.0</td>\n",
       "    </tr>\n",
       "    <tr>\n",
       "      <th>6</th>\n",
       "      <td>0.0</td>\n",
       "      <td>0.0</td>\n",
       "    </tr>\n",
       "    <tr>\n",
       "      <th>7</th>\n",
       "      <td>1.0</td>\n",
       "      <td>1.0</td>\n",
       "    </tr>\n",
       "    <tr>\n",
       "      <th>8</th>\n",
       "      <td>1.0</td>\n",
       "      <td>1.0</td>\n",
       "    </tr>\n",
       "    <tr>\n",
       "      <th>9</th>\n",
       "      <td>0.0</td>\n",
       "      <td>0.0</td>\n",
       "    </tr>\n",
       "    <tr>\n",
       "      <th>10</th>\n",
       "      <td>1.0</td>\n",
       "      <td>1.0</td>\n",
       "    </tr>\n",
       "    <tr>\n",
       "      <th>11</th>\n",
       "      <td>0.0</td>\n",
       "      <td>0.0</td>\n",
       "    </tr>\n",
       "    <tr>\n",
       "      <th>12</th>\n",
       "      <td>0.0</td>\n",
       "      <td>0.0</td>\n",
       "    </tr>\n",
       "    <tr>\n",
       "      <th>13</th>\n",
       "      <td>1.0</td>\n",
       "      <td>1.0</td>\n",
       "    </tr>\n",
       "    <tr>\n",
       "      <th>14</th>\n",
       "      <td>0.0</td>\n",
       "      <td>0.0</td>\n",
       "    </tr>\n",
       "    <tr>\n",
       "      <th>15</th>\n",
       "      <td>0.0</td>\n",
       "      <td>0.0</td>\n",
       "    </tr>\n",
       "    <tr>\n",
       "      <th>16</th>\n",
       "      <td>0.0</td>\n",
       "      <td>0.0</td>\n",
       "    </tr>\n",
       "    <tr>\n",
       "      <th>17</th>\n",
       "      <td>0.0</td>\n",
       "      <td>0.0</td>\n",
       "    </tr>\n",
       "    <tr>\n",
       "      <th>18</th>\n",
       "      <td>1.0</td>\n",
       "      <td>1.0</td>\n",
       "    </tr>\n",
       "    <tr>\n",
       "      <th>19</th>\n",
       "      <td>0.0</td>\n",
       "      <td>0.0</td>\n",
       "    </tr>\n",
       "  </tbody>\n",
       "</table>\n",
       "</div>"
      ],
      "text/plain": [
       "    Actual-Values  Predicted-Values\n",
       "0             1.0               1.0\n",
       "1             0.0               0.0\n",
       "2             1.0               1.0\n",
       "3             1.0               1.0\n",
       "4             1.0               1.0\n",
       "5             0.0               0.0\n",
       "6             0.0               0.0\n",
       "7             1.0               1.0\n",
       "8             1.0               1.0\n",
       "9             0.0               0.0\n",
       "10            1.0               1.0\n",
       "11            0.0               0.0\n",
       "12            0.0               0.0\n",
       "13            1.0               1.0\n",
       "14            0.0               0.0\n",
       "15            0.0               0.0\n",
       "16            0.0               0.0\n",
       "17            0.0               0.0\n",
       "18            1.0               1.0\n",
       "19            0.0               0.0"
      ]
     },
     "execution_count": 61,
     "metadata": {},
     "output_type": "execute_result"
    }
   ],
   "source": [
    "# Visualization of the LogisticRegression() model accuracy on the test dataset\n",
    "\n",
    "lr_model_viz = pd.DataFrame({'Actual-Values': np.array(orig_test.labels.ravel()).flatten(), \n",
    "                       'Predicted-Values': lr_pred.flatten()})\n",
    "lr_model_viz.head(20)"
   ]
  },
  {
   "cell_type": "markdown",
   "metadata": {
    "graffitiCellId": "id_c0z2jbe"
   },
   "source": [
    "### Evaluation of the Fairness Metrics on Test Dataset"
   ]
  },
  {
   "cell_type": "code",
   "execution_count": 104,
   "metadata": {
    "graffitiCellId": "id_8fnx6lt"
   },
   "outputs": [],
   "source": [
    "#FILL IN Optional\n",
    "#Compare the fairness metrics on test dataset\n",
    "\n",
    "dataset = orig_test\n",
    "\n",
    "# To calculate the statistical parity difference and the disparate impact\n",
    "\n",
    "orig_metric_act_test_dataset = BinaryLabelDatasetMetric(dataset, unprivileged_groups = unprivileged_groups,\n",
    "                                                  privileged_groups = privileged_groups)\n",
    "\n",
    "#print(\"Statistical Parity Difference =\")\n",
    "#print(f\"Disparate impact =\")"
   ]
  },
  {
   "cell_type": "code",
   "execution_count": 105,
   "metadata": {
    "graffitiCellId": "id_cix1yvt"
   },
   "outputs": [],
   "source": [
    "def mean_difference(orig_metric_act_test_dataset):\n",
    "    return orig_metric_act_test_dataset.statistical_parity_difference()"
   ]
  },
  {
   "cell_type": "code",
   "execution_count": 64,
   "metadata": {
    "graffitiCellId": "id_wtwott4"
   },
   "outputs": [
    {
     "data": {
      "text/plain": [
       "-0.983786371180255"
      ]
     },
     "execution_count": 64,
     "metadata": {},
     "output_type": "execute_result"
    }
   ],
   "source": [
    "# For the statistical parity difference\n",
    "\n",
    "orig_metric_act_test_dataset.statistical_parity_difference()"
   ]
  },
  {
   "cell_type": "code",
   "execution_count": 65,
   "metadata": {
    "graffitiCellId": "id_jg3bd7v"
   },
   "outputs": [
    {
     "data": {
      "text/plain": [
       "0.008108150315284616"
      ]
     },
     "execution_count": 65,
     "metadata": {},
     "output_type": "execute_result"
    }
   ],
   "source": [
    "# For the disparate impact\n",
    "\n",
    "orig_metric_act_test_dataset.disparate_impact()"
   ]
  },
  {
   "cell_type": "markdown",
   "metadata": {
    "graffitiCellId": "id_nlj5zs5"
   },
   "source": [
    "#### Observations\n",
    "\n",
    "By running the `BinaryLabelDatasetMetrics` on the test dataset, we can observe that the statistical parity difference is `-0.984`, and the disparate impact value is `0.0081`"
   ]
  },
  {
   "cell_type": "markdown",
   "metadata": {
    "graffitiCellId": "id_4dncppg"
   },
   "source": [
    "Question: Interpret and compare the results of each model. What do you find in the false negative and false positive of each model? What about the fairness metrics?\n",
    "\n",
    "**Answer:**\n",
    "\n",
    "#### Confusion Matrix/Accuracy of Each Model Comparison\n",
    "\n",
    "* For the GaussianNB model, the accuracy is `0.9874`, compared to the LogisticRegression model with an accuracy of `0.9955`\n",
    "* We can observe the Gaussian model confusion matrix visual showing that `15631` of the total number of predictions that the budget is not >= 300 turns out to be positive compared to the LogisticRegression model confusion matrix visual showing that `15983` of the total number of predictions that the budget is not >= 300 is positive.\n",
    "* The Gaussian model confusion matrix visual is showing that `360` of the total number of predictions that the budget is not >= 300 turns out to be false while the LogisticRegression model confusion matrix visual is also showing that `8`of the total number of predictions that the budget is not >= is false.\n",
    "* The Gaussian model confusion matrix visual is showing that `15233` of the total number of predictions that the budget is >= 300 turns out be true while the LogisticRegression model confusion matrix visual is showing that `15144` of the total number of predictions that the budget is >= 300 is true.\n",
    "* We can also observe that the Gaussian model confusion matrix visual showing that `40` of the total number of predictions that the budget is >= 300 turns out to be false compared to the LogisticRegression model confusion matrix visual showing that `129` of the total number of predictions that the budget is >= 300 is false.\n",
    "\n",
    "\n",
    "#### Fairness Metrics\n",
    "\n",
    ">We can see that the Gaussian Naive Bayes model have a threshold corresponding to best balanced accuracy of `0.0100`, a best balanced accuracy of `0.9873`, a corresponding average odds difference value of `-0.4997`, a corresponding statistical parity difference value of `-0.9888`, a corresponding equal opportunity difference value of `-0.9189`, and a corresponding Theil index value of `0.0055`, while the Logistic Regression model have a threshold corresponding to best balanced accuracy of `0.3300`, a best balanced accuracy of `0.9955`, a corresponding average odds difference value of `-0.5420`, a corresponding statistical parity difference value of `-0.9930`, a corresponding equal opportunity difference value of `-1.0000`, and a corresponding Theil index value of `0.0043`."
   ]
  },
  {
   "cell_type": "markdown",
   "metadata": {
    "graffitiCellId": "id_wl41zf1"
   },
   "source": [
    "Question: Pick one of the models, Gaussian Naive Bayes classifier or Logistic Regression, based on your assessment of the results. Briefly explain your reason.\n",
    "\n",
    "**Your answer:**\n",
    "\n",
    "#### Logistic Regression\n",
    "\n",
    ">From the results of the two models (Gaussian Naive Bayes Classifier and the Logistic Regression model), I will pick the Logistic Regression model because of the accuracy model. With an accuracy of 0."
   ]
  },
  {
   "cell_type": "markdown",
   "metadata": {
    "graffitiCellId": "id_dj7cg4y"
   },
   "source": [
    "## Step 3: Writing exercise: Model Card Articulation and Report Generation"
   ]
  },
  {
   "cell_type": "markdown",
   "metadata": {
    "graffitiCellId": "id_hmwgjrk"
   },
   "source": [
    "Begin articulating the elements of the model card (3-5 sentences/bullets for each section). Please delineate bullet points using two hyphens, as show in the example below.\n",
    "\n",
    "As part of the intended use section, I articulated how elements of **interpretability**, **privacy**, and **fairness** can be designed into the user interaction elements of the use case. **Hint:** Should IDOOU prompt the user to check whether the budget predictor model's results are correct?"
   ]
  },
  {
   "cell_type": "code",
   "execution_count": 106,
   "metadata": {
    "graffitiCellId": "id_2o5rxpi"
   },
   "outputs": [],
   "source": [
    "model_details = \"\"\"\n",
    "-- Budget Predicter AI is a model that offers personalized predictions if a budget is >= 300 or not\n",
    "by using features such as Age, Gender, Education Level and Recommended Activities. \n",
    "-- Logistic Regression and Gaussian Naive Bayes classifucation model were utilized for predicting the\n",
    "budget of each users based on some given features.\n",
    "-- In this model, the features that influences the outcome of predictions are independent of each other.\n",
    "There is little or no multicollinearity among the indepenent variable. Also note that the Logistic\n",
    "Regression model was selected as a result of evaluation of its accuracy score and confusion matrix \n",
    "visual in comparison with the Gaussian Naive Bayes model.\n",
    "\"\"\"\n",
    "intended_use = \"\"\"\n",
    "-- IDOOU is a mobile app users can leverage to get recommendations on activities. The creator of this\n",
    "app would like to identify if users with bachelor's and master's degree are a privileged group in terms\n",
    "of budget.\n",
    "-- The intended users of this model are users that are either High school grad, users with bachelor's\n",
    "degree or users with master's degree of all genders that wants to use IDOOU to get recommendations on\n",
    "activities.\n",
    "-- Use cases out of this scope is whether or not a user have a child, or users that did not graduate\n",
    "from High school.\n",
    "\"\"\"\n",
    "factors = \"\"\"\n",
    "-- The education level of the users affects the impact of the model.\n",
    "-- The age group of the users affect the impact of the model.\n",
    "-- The gender of the users affect the impact of the model.\n",
    "\"\"\""
   ]
  },
  {
   "cell_type": "markdown",
   "metadata": {
    "graffitiCellId": "id_x5t0ggt"
   },
   "source": [
    "Next, write the content for the metrics, Training Data, and Evaluation Data of your model card."
   ]
  },
  {
   "cell_type": "code",
   "execution_count": 107,
   "metadata": {
    "graffitiCellId": "id_lnfjnzi"
   },
   "outputs": [],
   "source": [
    "metrics = \"\"\"\n",
    "-- The metrics used in measuring the performance of the model are divided into accuracy/confusion matrix\n",
    "metrics for accuracy scoring of the models and the fairness metrics for measuring the biasness of the \n",
    "dataset of the model.\n",
    "-- The accuracy metrics of the Gaussian Naive Bayes model is showing a model accuracy of `0.9865`, while\n",
    "the accuracy metrics of the Logistic Regression model showing an accuracy score of 0.9951\n",
    "-- The statistical parity difference and disparate impact value metrics were evaluated to find bias in \n",
    "the dataset of the model.\n",
    "\"\"\"\n",
    "training_data = \"\"\"\n",
    "-- The binary_label_dataset was splitted with 50% of the dataset allocated to be trained.\n",
    "\"\"\"\n",
    "eval_data = \"\"\"\n",
    "-- After training the train dataset and fitting the Logistic Regression and Gaussian Naive Bayes model\n",
    "to the train dataset, the test dataset was used in evaluating the models performance.\n",
    "\"\"\""
   ]
  },
  {
   "cell_type": "markdown",
   "metadata": {
    "graffitiCellId": "id_cs4ixvf"
   },
   "source": [
    "## Step 4: Use Interpretability mechanisms"
   ]
  },
  {
   "cell_type": "markdown",
   "metadata": {
    "graffitiCellId": "id_09g1ajn"
   },
   "source": [
    "Use an interpretability mechanism(s) of your choice, e.g. permutation importance, LIME, etc., to understand the feature importance and model's predictions on the test dataset. **Visualize** and note down the key contributing factors - you will later incorporate this in your model card."
   ]
  },
  {
   "cell_type": "markdown",
   "metadata": {
    "graffitiCellId": "id_fdvnm60"
   },
   "source": [
    "### Permutation Importance Interpretability Mechanism Before Bias Mitigation\n",
    "\n",
    "In this stage, I will be using the permutation importance interpretability mechanism to understand the feature importance and the Logistic Regression model's predictions on the test dataset."
   ]
  },
  {
   "cell_type": "code",
   "execution_count": 68,
   "metadata": {
    "graffitiCellId": "id_36mkcts"
   },
   "outputs": [
    {
     "name": "stdout",
     "output_type": "stream",
     "text": [
      "Age_18-240.241 +/- 0.001\n",
      "Education_Level_Bachelor Degree0.188 +/- 0.001\n",
      "Education_Level_Master Degree0.187 +/- 0.001\n",
      "Age_25-440.002 +/- 0.000\n",
      "Age_45-650.001 +/- 0.000\n",
      "Age_66-920.001 +/- 0.000\n"
     ]
    }
   ],
   "source": [
    "from sklearn.inspection import permutation_importance\n",
    "\n",
    "model = LR_model\n",
    "r = permutation_importance(model, orig_test.features, orig_test.labels.ravel(),\n",
    "                          n_repeats=30,\n",
    "                          random_state=0)\n",
    "\n",
    "for i in r.importances_mean.argsort()[::-1]:\n",
    "     if r.importances_mean[i] - 2 * r.importances_std[i] > 0:\n",
    "         print(f\"{binary_act_dataset.feature_names[i]:<8}\"\n",
    "               f\"{r.importances_mean[i]:.3f}\"\n",
    "               f\" +/- {r.importances_std[i]:.3f}\")"
   ]
  },
  {
   "cell_type": "markdown",
   "metadata": {
    "graffitiCellId": "id_4622eg0"
   },
   "source": [
    "**Observations:**\n",
    "\n",
    ">The results above is showing that the `Age_18-24`, `Education_Level_Bachelor Degree`, and the `Education_Level_Master_Degree` features are the most important factors that can impact the Logistic Regression model importance."
   ]
  },
  {
   "cell_type": "code",
   "execution_count": 69,
   "metadata": {
    "graffitiCellId": "id_ffw2gnp"
   },
   "outputs": [
    {
     "data": {
      "text/plain": [
       "array([-7.91852059e+00, -1.79451527e-01, -1.59587304e-01, -1.35404014e-01,\n",
       "       -1.25491888e-01, -1.15407000e-01, -6.79939751e-02, -4.49842096e-02,\n",
       "        1.92886892e-03,  9.89221886e-03,  3.27341206e-02,  4.52367205e-02,\n",
       "        1.01720123e-01,  1.27135160e-01,  1.29886296e-01,  2.01460935e-01,\n",
       "        2.58795773e+00,  2.65854802e+00,  2.67257787e+00,  7.84147354e+00,\n",
       "        8.16266709e+00])"
      ]
     },
     "execution_count": 69,
     "metadata": {},
     "output_type": "execute_result"
    }
   ],
   "source": [
    "model = LR_model\n",
    "\n",
    "importance=model.coef_[0]\n",
    "importance=np.sort(importance)\n",
    "importance"
   ]
  },
  {
   "cell_type": "code",
   "execution_count": 70,
   "metadata": {
    "graffitiCellId": "id_dxeoxb3"
   },
   "outputs": [
    {
     "name": "stdout",
     "output_type": "stream",
     "text": [
      "Feature : 0 has score  : -7.918520593010121 \n",
      "Feature : 1 has score  : -0.179451527026193 \n",
      "Feature : 2 has score  : -0.1595873036507873 \n",
      "Feature : 3 has score  : -0.13540401389578094 \n",
      "Feature : 4 has score  : -0.1254918880800108 \n",
      "Feature : 5 has score  : -0.11540700017266578 \n",
      "Feature : 6 has score  : -0.06799397508215282 \n",
      "Feature : 7 has score  : -0.044984209568373595 \n",
      "Feature : 8 has score  : 0.0019288689217906644 \n",
      "Feature : 9 has score  : 0.009892218858212551 \n",
      "Feature : 10 has score  : 0.03273412058604847 \n",
      "Feature : 11 has score  : 0.0452367205490327 \n",
      "Feature : 12 has score  : 0.10172012302921384 \n",
      "Feature : 13 has score  : 0.12713516033965327 \n",
      "Feature : 14 has score  : 0.12988629554496844 \n",
      "Feature : 15 has score  : 0.20146093493805595 \n",
      "Feature : 16 has score  : 2.58795772786016 \n",
      "Feature : 17 has score  : 2.6585480247006594 \n",
      "Feature : 18 has score  : 2.6725778666081377 \n",
      "Feature : 19 has score  : 7.841473540078382 \n",
      "Feature : 20 has score  : 8.162667088908021 \n"
     ]
    }
   ],
   "source": [
    "for index,val in enumerate(importance):\n",
    "    print(\"Feature : {} has score  : {} \".format(index,val))"
   ]
  },
  {
   "cell_type": "code",
   "execution_count": 71,
   "metadata": {
    "graffitiCellId": "id_ki654uy"
   },
   "outputs": [
    {
     "data": {
      "image/png": "[encoded data removed]",
      "text/plain": [
       "<Figure size 432x288 with 1 Axes>"
      ]
     },
     "metadata": {},
     "output_type": "display_data"
    }
   ],
   "source": [
    "#plotting the features and their score in ascending order\n",
    "sns.set_style(\"darkgrid\")\n",
    "plt.bar([i for i in range (len(importance))],importance)\n",
    "plt.show()"
   ]
  },
  {
   "cell_type": "markdown",
   "metadata": {
    "graffitiCellId": "id_l7nuz4v"
   },
   "source": [
    "Question: Which interpretability mechanism did you choose? What are the key contributing factors?\n",
    "\n",
    "**Your answer:**\n",
    "\n",
    "The Permutation importance interpretability mechanism was chosen for this stage. \n",
    "\n",
    "After evaluating the Logistic Regression model with the test dataset, here are the key contributing factors:\n",
    "\n",
    "* Users between the age of 18 - 24.\n",
    "* Users with a bachelor's degree educational level.\n",
    "* Users with a master's degree educational level.\n",
    "\n"
   ]
  },
  {
   "cell_type": "markdown",
   "metadata": {
    "graffitiCellId": "id_74rltdl"
   },
   "source": [
    "## Step 5: Apply a bias mitigation strategy"
   ]
  },
  {
   "cell_type": "markdown",
   "metadata": {
    "graffitiCellId": "id_ya2n8k0"
   },
   "source": [
    "In this section of the project, I will implement a bias mitigation strategy and evaluate the improvements in fairness on the data. Using the algorithms supported by the IBM AIF360 toolkit, I may choose to apply a pre-processing, in-processing, or post-processing technique to improve the fairness of your model. Optionally, I may also consider combining multiple techniques.\n",
    "\n",
    "**Note:** If I select an in-processing algorithm that replaces the Logistic Regression or Gaussian NB model, I will be constructing a model card around the new algorithm you have selected and revising the existing model card content from previous sections to incorporate these details."
   ]
  },
  {
   "cell_type": "code",
   "execution_count": 108,
   "metadata": {
    "graffitiCellId": "id_70wlxm5"
   },
   "outputs": [],
   "source": [
    "#FILL IN - implement bias mitigation strategy\n",
    "\n",
    "# Preprocessing Bias Mitigation using Reweighing\n",
    "\n",
    "from aif360.algorithms.preprocessing.reweighing import Reweighing\n",
    "\n",
    "RW = Reweighing(unprivileged_groups=unprivileged_groups,\n",
    "               privileged_groups=privileged_groups)\n",
    "RW.fit(orig_train)\n",
    "dataset_transf_train = RW.transform(orig_train)"
   ]
  },
  {
   "cell_type": "code",
   "execution_count": 109,
   "metadata": {
    "graffitiCellId": "id_vc1p4sd"
   },
   "outputs": [],
   "source": [
    "RW.fit(orig_test)\n",
    "dataset_transf_test = RW.transform(orig_test)"
   ]
  },
  {
   "cell_type": "code",
   "execution_count": 110,
   "metadata": {
    "graffitiCellId": "id_88d6eed"
   },
   "outputs": [],
   "source": [
    "# Metrics for transformed data\n",
    "\n",
    "# Explainers\n",
    "from aif360.explainers import MetricTextExplainer\n",
    "\n",
    "metric_transf_train = BinaryLabelDatasetMetric(\n",
    "        dataset_transf_train,\n",
    "        unprivileged_groups=unprivileged_groups,\n",
    "        privileged_groups=privileged_groups)\n",
    "explainer_transf_train = MetricTextExplainer(metric_transf_train)\n",
    "\n"
   ]
  },
  {
   "cell_type": "code",
   "execution_count": 111,
   "metadata": {
    "graffitiCellId": "id_kw8w23j"
   },
   "outputs": [
    {
     "name": "stdout",
     "output_type": "stream",
     "text": [
      "Disparate impact (probability of favorable outcome for unprivileged instances / probability of favorable outcome for privileged instances): 0.9999999999999999\n",
      "Statistical parity difference (probability of favorable outcome for unprivileged instances - probability of favorable outcome for privileged instances): -5.551115123125783e-17\n"
     ]
    }
   ],
   "source": [
    "print(explainer_transf_train.disparate_impact())\n",
    "print(explainer_transf_train.statistical_parity_difference())"
   ]
  },
  {
   "cell_type": "code",
   "execution_count": 112,
   "metadata": {
    "graffitiCellId": "id_y0rjdci"
   },
   "outputs": [],
   "source": [
    "# Using the Logistic Regression model for training the train data sets\n",
    "\n",
    "LR_transf_model = LogisticRegression().fit(dataset_transf_train.features, dataset_transf_train.labels.ravel(), dataset_transf_train.instance_weights)"
   ]
  },
  {
   "cell_type": "code",
   "execution_count": 113,
   "metadata": {
    "graffitiCellId": "id_rinnfyr"
   },
   "outputs": [
    {
     "name": "stdout",
     "output_type": "stream",
     "text": [
      "Threshold corresponding to Best balanced accuracy: 0.3700\n",
      "Best balanced accuracy: 0.9917\n",
      "Corresponding average odds difference value: -0.0236\n",
      "Corresponding statistical parity difference value: -0.9520\n",
      "Corresponding equal opportunity difference value: 0.0000\n",
      "Corresponding Theil index value: 0.0049\n"
     ]
    }
   ],
   "source": [
    "#Load the Logistic Regression model\n",
    "\n",
    "# Logistic Regression for predicting the test data sets\n",
    "\n",
    "thresh_arr = np.linspace(0.01, 0.5, 50)\n",
    "val_metrics, lr_transf_pred = test(dataset = orig_test,\n",
    "                   model=LR_transf_model,\n",
    "                   thresh_arr=thresh_arr)\n",
    "describe_metrics(val_metrics, thresh_arr)"
   ]
  },
  {
   "cell_type": "code",
   "execution_count": 114,
   "metadata": {
    "graffitiCellId": "id_yetkkxe"
   },
   "outputs": [
    {
     "name": "stdout",
     "output_type": "stream",
     "text": [
      "Threshold corresponding to Best balanced accuracy: 0.3700\n",
      "Best balanced accuracy: 0.9792\n",
      "Corresponding average odds difference value: -0.0236\n",
      "Corresponding statistical parity difference value: -0.0238\n",
      "Corresponding equal opportunity difference value: 0.0000\n",
      "Corresponding Theil index value: 0.0049\n"
     ]
    }
   ],
   "source": [
    "# Logistic Regression for predicting the transformed test data sets\n",
    "\n",
    "thresh_arr = np.linspace(0.01, 0.5, 50)\n",
    "val_metrics, lr_transf_pred = test(dataset = dataset_transf_test,\n",
    "                   model=LR_transf_model,\n",
    "                   thresh_arr=thresh_arr)\n",
    "describe_metrics(val_metrics, thresh_arr)"
   ]
  },
  {
   "cell_type": "markdown",
   "metadata": {
    "graffitiCellId": "id_7f5g9z2"
   },
   "source": [
    "#### Observations after bias mitigation\n",
    "\n",
    "**Fairness Metrics Preprocessing**\n",
    "\n",
    "From the metrics above we can see that the mitigated Logistic Regression model have a threshold corresponding to best balanced accuracy of `0.4900`, a best balanced accuracy of `0.9917`, a corresponding average odds difference value of `-0.0204`, a corresponding statistical parity difference value of `-0.9541`, a corresponding equal opportunity difference value of `0.0000`, and a corresponding Theil index value of `0.0047`."
   ]
  },
  {
   "cell_type": "code",
   "execution_count": 115,
   "metadata": {
    "graffitiCellId": "id_bjov0wd"
   },
   "outputs": [],
   "source": [
    "from sklearn.preprocessing import StandardScaler\n",
    "\n",
    "#Train model on given dataset\n",
    "\n",
    "dataset = dataset_transf_train  # data to train on\n",
    "\n",
    "scale = StandardScaler().fit(dataset.features)   # remember the scale\n",
    "\n",
    "model = LogisticRegression()        # model to learn\n",
    "\n",
    "X_train = scale.transform(dataset.features)      #apply the scale\n",
    "y_train = dataset.labels.ravel()\n",
    "\n",
    "\n",
    "model.fit(X_train, y_train, sample_weight=dataset.instance_weights)\n",
    "\n",
    "#save model\n",
    "lr_orig = model\n",
    "lr_scale_orig = scale"
   ]
  },
  {
   "cell_type": "code",
   "execution_count": 116,
   "metadata": {
    "graffitiCellId": "id_ze8ntar"
   },
   "outputs": [
    {
     "name": "stderr",
     "output_type": "stream",
     "text": [
      "100%|██████████| 50/50 [00:01<00:00, 32.18it/s]\n"
     ]
    }
   ],
   "source": [
    "#Test model on given dataset and find threshold for best balanced accuracy\n",
    "import numpy as np\n",
    "from tqdm import tqdm\n",
    "thresh_arr = np.linspace(0.01, 0.5, 50)\n",
    "\n",
    "scale = lr_scale_orig\n",
    "\n",
    "model = lr_orig                  #model to test\n",
    "dataset = orig_test        #data to test on\n",
    "\n",
    "X_test = scale.transform(dataset.features)   #apply the same scale as applied to the training data\n",
    "y_test = dataset.labels.ravel()\n",
    "y_test_pred_prob = model.predict_proba(X_test)\n",
    "\n",
    "\n",
    "bal_acc_arr = []\n",
    "disp_imp_arr = []\n",
    "avg_odds_diff_arr = []\n",
    "    \n",
    "for thresh in tqdm(thresh_arr):\n",
    "    y_test_pred = (y_test_pred_prob[:,1] > thresh).astype(np.double)\n",
    "\n",
    "    dataset_pred = dataset.copy()\n",
    "    dataset_pred.labels = y_test_pred\n",
    "\n",
    "    classified_metric = ClassificationMetric(dataset, \n",
    "                                                 dataset_pred,\n",
    "                                                 unprivileged_groups=unprivileged_groups,\n",
    "                                                 privileged_groups=privileged_groups)\n",
    "    metric_pred = BinaryLabelDatasetMetric(dataset_pred,\n",
    "                                                 unprivileged_groups=unprivileged_groups,\n",
    "                                                 privileged_groups=privileged_groups)\n",
    "    \n",
    "   \n",
    "    \n",
    "    TPR = classified_metric.true_positive_rate()\n",
    "    TNR = classified_metric.true_negative_rate()\n",
    "    bal_acc = 0.5*(TPR+TNR)\n",
    "    \n",
    "    acc = accuracy_score(y_true=dataset.labels,\n",
    "                            y_pred=dataset_pred.labels)\n",
    "    bal_acc_arr.append(bal_acc)\n",
    "    avg_odds_diff_arr.append(classified_metric.average_odds_difference())\n",
    "    disp_imp_arr.append(metric_pred.disparate_impact())\n",
    "    \n",
    "thresh_arr_best_ind = np.where(bal_acc_arr == np.max(bal_acc_arr))[0][0]\n",
    "thresh_arr_best = np.array(thresh_arr)[thresh_arr_best_ind]\n",
    "\n",
    "best_bal_acc = bal_acc_arr[thresh_arr_best_ind]\n",
    "disp_imp_at_best_bal_acc = np.abs(1.0-np.array(disp_imp_arr))[thresh_arr_best_ind]\n",
    "\n",
    "avg_odds_diff_at_best_bal_acc = avg_odds_diff_arr[thresh_arr_best_ind]"
   ]
  },
  {
   "cell_type": "code",
   "execution_count": 118,
   "metadata": {
    "graffitiCellId": "id_mf81q5o"
   },
   "outputs": [
    {
     "data": {
      "image/png": "[encoded data removed]",
      "text/plain": [
       "<Figure size 720x504 with 2 Axes>"
      ]
     },
     "metadata": {
      "needs_background": "light"
     },
     "output_type": "display_data"
    }
   ],
   "source": [
    "#Plot balanced accuracy, abs(1-disparate impact)\n",
    "\n",
    "fig, ax1 = plt.subplots(figsize=(10,7))\n",
    "ax1.plot(thresh_arr, bal_acc_arr)\n",
    "ax1.set_xlabel('Classification Thresholds', fontsize=16, fontweight='bold')\n",
    "ax1.set_ylabel('Balanced Accuracy', color='b', fontsize=16, fontweight='bold')\n",
    "ax1.xaxis.set_tick_params(labelsize=14)\n",
    "ax1.yaxis.set_tick_params(labelsize=14)\n",
    "\n",
    "\n",
    "ax2 = ax1.twinx()\n",
    "ax2.plot(thresh_arr, np.abs(1.0-np.array(disp_imp_arr)), color='r')\n",
    "ax2.set_ylabel('abs(1-disparate impact)', color='r', fontsize=16, fontweight='bold')\n",
    "\n",
    "ax2.axvline(np.array(thresh_arr)[thresh_arr_best_ind], \n",
    "            color='k', linestyle=':')\n",
    "ax2.yaxis.set_tick_params(labelsize=14)\n",
    "ax2.grid(True)\n",
    "\n",
    "plt.savefig('classification_thresholds1.png')"
   ]
  },
  {
   "cell_type": "code",
   "execution_count": 119,
   "metadata": {
    "graffitiCellId": "id_dqph3yx"
   },
   "outputs": [
    {
     "data": {
      "image/png": "[encoded data removed]",
      "text/plain": [
       "<Figure size 720x504 with 2 Axes>"
      ]
     },
     "metadata": {
      "needs_background": "light"
     },
     "output_type": "display_data"
    }
   ],
   "source": [
    "#Plot average odds difference\n",
    "fig, ax1 = plt.subplots(figsize=(10,7))\n",
    "ax1.plot(thresh_arr, bal_acc_arr)\n",
    "ax1.set_xlabel('Classification Thresholds', fontsize=16, fontweight='bold')\n",
    "ax1.set_ylabel('Balanced Accuracy', color='b', fontsize=16, fontweight='bold')\n",
    "ax1.xaxis.set_tick_params(labelsize=14)\n",
    "ax1.yaxis.set_tick_params(labelsize=14)\n",
    "\n",
    "\n",
    "ax2 = ax1.twinx()\n",
    "ax2.plot(thresh_arr, avg_odds_diff_arr, color='r')\n",
    "ax2.set_ylabel('avg. odds diff.', color='r', fontsize=16, fontweight='bold')\n",
    "\n",
    "ax2.axvline(np.array(thresh_arr)[thresh_arr_best_ind], color='k', linestyle=':')\n",
    "ax2.yaxis.set_tick_params(labelsize=14)\n",
    "ax2.grid(True)\n",
    "\n",
    "plt.savefig('classification_thresholds2.png')"
   ]
  },
  {
   "cell_type": "code",
   "execution_count": 120,
   "metadata": {
    "graffitiCellId": "id_w0sh6sj"
   },
   "outputs": [
    {
     "name": "stdout",
     "output_type": "stream",
     "text": [
      "Threshold corresponding to Best balance accuracy: 0.3700\n",
      "Best balance accuracy: 0.9917\n",
      "Corresponding abs(1-disparate impact) value: 0.9592\n",
      "Corresponding average odds difference value: -0.0236\n"
     ]
    }
   ],
   "source": [
    "rf_thresh_arr_orig_best = thresh_arr_best\n",
    "print(\"Threshold corresponding to Best balance accuracy: %6.4f\" % rf_thresh_arr_orig_best)\n",
    "rf_best_bal_acc_arr_orig = best_bal_acc\n",
    "print(\"Best balance accuracy: %6.4f\" % rf_best_bal_acc_arr_orig)\n",
    "rf_disp_imp_at_best_bal_acc_orig = disp_imp_at_best_bal_acc\n",
    "print(\"Corresponding abs(1-disparate impact) value: %6.4f\" % rf_disp_imp_at_best_bal_acc_orig)\n",
    "rf_avg_odds_diff_at_best_bal_acc_orig = avg_odds_diff_at_best_bal_acc\n",
    "print(\"Corresponding average odds difference value: %6.4f\" % rf_avg_odds_diff_at_best_bal_acc_orig)"
   ]
  },
  {
   "cell_type": "markdown",
   "metadata": {
    "graffitiCellId": "id_b9owvvb"
   },
   "source": [
    "### Fairness Metrics After Bias Mitigation"
   ]
  },
  {
   "cell_type": "code",
   "execution_count": 121,
   "metadata": {
    "graffitiCellId": "id_oekse70"
   },
   "outputs": [
    {
     "data": {
      "text/plain": [
       "0.0407765054728523"
      ]
     },
     "execution_count": 121,
     "metadata": {},
     "output_type": "execute_result"
    }
   ],
   "source": [
    "# Evaluation of the test dataset after bias mitigation to get the disparate impact value\n",
    "\n",
    "classified_metric.disparate_impact()"
   ]
  },
  {
   "cell_type": "code",
   "execution_count": 122,
   "metadata": {
    "graffitiCellId": "id_jmsafpt"
   },
   "outputs": [
    {
     "data": {
      "text/plain": [
       "-0.02362279872488739"
      ]
     },
     "execution_count": 122,
     "metadata": {},
     "output_type": "execute_result"
    }
   ],
   "source": [
    "# Evaluation of the test dataset after bias mitigation to get the average odds difference\n",
    "\n",
    "classified_metric.average_odds_difference()"
   ]
  },
  {
   "cell_type": "code",
   "execution_count": 123,
   "metadata": {
    "graffitiCellId": "id_lz5u7h5"
   },
   "outputs": [
    {
     "data": {
      "text/plain": [
       "-0.9519894382644382"
      ]
     },
     "execution_count": 123,
     "metadata": {},
     "output_type": "execute_result"
    }
   ],
   "source": [
    "# Evaluation of the test dataset after bias mitigation to get the statistical parity difference\n",
    "\n",
    "classified_metric.statistical_parity_difference()"
   ]
  },
  {
   "cell_type": "code",
   "execution_count": 124,
   "metadata": {
    "graffitiCellId": "id_4jht1nj"
   },
   "outputs": [
    {
     "data": {
      "text/plain": [
       "0.0"
      ]
     },
     "execution_count": 124,
     "metadata": {},
     "output_type": "execute_result"
    }
   ],
   "source": [
    "# Evaluation of the test dataset after bias mitigation to get the equal opportunity difference\n",
    "\n",
    "classified_metric.equal_opportunity_difference()"
   ]
  },
  {
   "cell_type": "code",
   "execution_count": 125,
   "metadata": {
    "graffitiCellId": "id_kkila5x"
   },
   "outputs": [
    {
     "data": {
      "text/plain": [
       "0.0048629232428642356"
      ]
     },
     "execution_count": 125,
     "metadata": {},
     "output_type": "execute_result"
    }
   ],
   "source": [
    "# Evaluation of the test dataset after bias mitigation to get the theil index\n",
    "\n",
    "classified_metric.theil_index()"
   ]
  },
  {
   "cell_type": "markdown",
   "metadata": {
    "graffitiCellId": "id_en0o0a1"
   },
   "source": [
    "**NOTE** Make sure at least two fairness metrics (average odds difference\n",
    "average statistical parity difference, equal opportunity difference, and theil index) are within the ideal threshold range for those metrics. A slightly higher benefit for the privileged group may still be seen, which is ok.\n",
    "\n",
    "Achieving the best possible accuracy and best-balanced accuracy are not the targets of this project - we recommend focusing on improving your results on the fairness metrics. It is recommended to have your balanced accuracy between 85%-100% but not required.\n",
    "\n",
    "**IMPORTANT! If less than two fairness metrics are within the ideal range, re-work on your strategy.**"
   ]
  },
  {
   "cell_type": "markdown",
   "metadata": {
    "graffitiCellId": "id_gspvc1k"
   },
   "source": [
    "Run performance evaluation plots (accuracy and confusion matrix) on the new prediction"
   ]
  },
  {
   "cell_type": "code",
   "execution_count": 126,
   "metadata": {
    "graffitiCellId": "id_wyxky5g"
   },
   "outputs": [],
   "source": [
    "### FILL IN\n",
    "\n",
    "# To evaluate the confusion matrix of the LogisticRegression model\n",
    "\n",
    "from sklearn.metrics import confusion_matrix\n",
    "cm = confusion_matrix(orig_test.labels.ravel(), lr_transf_pred) "
   ]
  },
  {
   "cell_type": "code",
   "execution_count": 127,
   "metadata": {
    "graffitiCellId": "id_t2uetsc"
   },
   "outputs": [
    {
     "data": {
      "text/plain": [
       "array([[15568,   175],\n",
       "       [   85, 15436]])"
      ]
     },
     "execution_count": 127,
     "metadata": {},
     "output_type": "execute_result"
    }
   ],
   "source": [
    "cm"
   ]
  },
  {
   "cell_type": "code",
   "execution_count": 128,
   "metadata": {
    "graffitiCellId": "id_lfpfcc2"
   },
   "outputs": [
    {
     "data": {
      "image/png": "[encoded data removed]",
      "text/plain": [
       "<Figure size 432x288 with 2 Axes>"
      ]
     },
     "metadata": {
      "needs_background": "light"
     },
     "output_type": "display_data"
    },
    {
     "data": {
      "text/plain": [
       "<Figure size 432x288 with 0 Axes>"
      ]
     },
     "metadata": {},
     "output_type": "display_data"
    }
   ],
   "source": [
    "# To visualize the confusion matrix of the LogisticRegression model\n",
    "\n",
    "cm_display = ConfusionMatrixDisplay(confusion_matrix = cm, display_labels = [False, True])\n",
    "\n",
    "cm_display.plot()\n",
    "plt.show()\n",
    "\n",
    "plt.savefig('confusion_matrix.png')"
   ]
  },
  {
   "cell_type": "markdown",
   "metadata": {
    "graffitiCellId": "id_mhxmo3w"
   },
   "source": [
    "#### Observation after bias mitigation\n",
    "\n",
    "From the confusion matrix visual above, we can notice that the mitigated Logistic Regression model have a True Positive result of `15666` of the total number of predictions, a False Positive result of `185` of the total number of predictions, a True Negative result of `15338` of the total number of predictions, and False Negative result of `75` of the total number of predictions.\n",
    "\n",
    "We can deduce from the confusion matrix visual above that mitigated Logistic Regression model has a Type 1 error of `185` which means that `185` of the predcited values that the budget is >= 300 is false.\n",
    "\n",
    "The model also has a Type 2 error of `75` which means the `75` of the predicted values that the budget is not >= 300 is false. "
   ]
  },
  {
   "cell_type": "markdown",
   "metadata": {
    "graffitiCellId": "id_z55kh9v"
   },
   "source": [
    "Next, re-create the interpretability plot from the previous section with your revised pipeline. "
   ]
  },
  {
   "cell_type": "markdown",
   "metadata": {
    "graffitiCellId": "id_smjzxcz"
   },
   "source": [
    "### Permutation Importance Interpretability Mechanism After Bias Mitigation"
   ]
  },
  {
   "cell_type": "code",
   "execution_count": 129,
   "metadata": {
    "graffitiCellId": "id_eu8ctc4"
   },
   "outputs": [
    {
     "name": "stdout",
     "output_type": "stream",
     "text": [
      "Age_18-240.281 +/- 0.001\n",
      "Education_Level_Bachelor Degree0.187 +/- 0.001\n",
      "Education_Level_Master Degree0.187 +/- 0.001\n",
      "Age_25-440.107 +/- 0.001\n",
      "Age_45-650.050 +/- 0.000\n",
      "Age_66-920.026 +/- 0.000\n"
     ]
    }
   ],
   "source": [
    "### FILL IN\n",
    "\n",
    "from sklearn.inspection import permutation_importance\n",
    "\n",
    "model = LR_transf_model\n",
    "r = permutation_importance(model, orig_test.features, orig_test.labels.ravel(),\n",
    "                          n_repeats=30,\n",
    "                          random_state=0)\n",
    "\n",
    "for i in r.importances_mean.argsort()[::-1]:\n",
    "     if r.importances_mean[i] - 2 * r.importances_std[i] > 0:\n",
    "         print(f\"{binary_act_dataset.feature_names[i]:<8}\"\n",
    "               f\"{r.importances_mean[i]:.3f}\"\n",
    "               f\" +/- {r.importances_std[i]:.3f}\")"
   ]
  },
  {
   "cell_type": "code",
   "execution_count": 130,
   "metadata": {
    "graffitiCellId": "id_fyds9pt"
   },
   "outputs": [
    {
     "data": {
      "text/plain": [
       "array([-8.287898  , -0.4461278 , -0.40537158, -0.37735853, -0.17366542,\n",
       "       -0.11072784, -0.07182691, -0.02404572,  0.0616154 ,  0.09244711,\n",
       "        0.09683296,  0.13065278,  0.28948976,  0.41132188,  0.52740798,\n",
       "        2.50171296,  2.75422723,  3.03227985,  4.14585123,  4.36475441,\n",
       "        4.54317327])"
      ]
     },
     "execution_count": 130,
     "metadata": {},
     "output_type": "execute_result"
    }
   ],
   "source": [
    "model = LR_transf_model\n",
    "\n",
    "importance=model.coef_[0]\n",
    "importance=np.sort(importance)\n",
    "importance"
   ]
  },
  {
   "cell_type": "code",
   "execution_count": 131,
   "metadata": {
    "graffitiCellId": "id_9vc55j3"
   },
   "outputs": [
    {
     "name": "stdout",
     "output_type": "stream",
     "text": [
      "Feature : 0 has score  : -8.28789799614566 \n",
      "Feature : 1 has score  : -0.4461278019909024 \n",
      "Feature : 2 has score  : -0.40537158015731994 \n",
      "Feature : 3 has score  : -0.37735853317347323 \n",
      "Feature : 4 has score  : -0.17366542120759962 \n",
      "Feature : 5 has score  : -0.11072784335616401 \n",
      "Feature : 6 has score  : -0.07182690645594253 \n",
      "Feature : 7 has score  : -0.02404572286368848 \n",
      "Feature : 8 has score  : 0.06161540448807952 \n",
      "Feature : 9 has score  : 0.09244711396436933 \n",
      "Feature : 10 has score  : 0.09683296324823802 \n",
      "Feature : 11 has score  : 0.13065278169325592 \n",
      "Feature : 12 has score  : 0.2894897587405066 \n",
      "Feature : 13 has score  : 0.4113218831221819 \n",
      "Feature : 14 has score  : 0.5274079751065304 \n",
      "Feature : 15 has score  : 2.501712957018202 \n",
      "Feature : 16 has score  : 2.7542272280590225 \n",
      "Feature : 17 has score  : 3.0322798466440233 \n",
      "Feature : 18 has score  : 4.145851226832737 \n",
      "Feature : 19 has score  : 4.364754407696787 \n",
      "Feature : 20 has score  : 4.543173271034338 \n"
     ]
    }
   ],
   "source": [
    "for index,val in enumerate(importance):\n",
    "    print(\"Feature : {} has score  : {} \".format(index,val))"
   ]
  },
  {
   "cell_type": "code",
   "execution_count": 132,
   "metadata": {
    "graffitiCellId": "id_3z63rxs"
   },
   "outputs": [
    {
     "data": {
      "image/png": "[encoded data removed]",
      "text/plain": [
       "<Figure size 432x288 with 1 Axes>"
      ]
     },
     "metadata": {},
     "output_type": "display_data"
    },
    {
     "data": {
      "text/plain": [
       "<Figure size 432x288 with 0 Axes>"
      ]
     },
     "metadata": {},
     "output_type": "display_data"
    }
   ],
   "source": [
    "#plotting the features and their score in ascending order\n",
    "sns.set_style(\"darkgrid\")\n",
    "plt.bar([i for i in range (len(importance))],importance)\n",
    "plt.show()\n",
    "\n",
    "plt.savefig('permutation_importance.png')"
   ]
  },
  {
   "cell_type": "markdown",
   "metadata": {
    "graffitiCellId": "id_zpbv7d2"
   },
   "source": [
    "Note down a short summary reporting the values of the metrics and your findings. This will be the quantitative analysis section of the model card.\n",
    "- Please ensure you report the fairness metrics **before** applying your bias mitigation strategy (after the train-val-test split), and **after** applying the strategy in the final_metrics_description variable.\n",
    "- Pick 1-2 metrics of your choice, interpret the fairness metrics in relation to the ideal values and thresholds and further identify the implications of the results. "
   ]
  },
  {
   "cell_type": "code",
   "execution_count": 54,
   "metadata": {
    "graffitiCellId": "id_pi25pli"
   },
   "outputs": [],
   "source": [
    "final_metrics_description = \"\"\"\n",
    "--The fairness metrics of the Logistic Regression model like the equal opportunity difference value\n",
    "and statistical parity difference before bias mitigation has a score of -1.0000 and -0.9924 after \n",
    "testing the model on the test dataset\n",
    "--Before the bias mitigation, the accuracy metrics of the Logistic Regression model shows that model \n",
    "has an accuracy score of 0.9958.\n",
    "--After the preprocessing bias mitigation, the accuracy metrics of the Logistic Regression model has\n",
    "an accuracy score of 0.9907.\n",
    "--The fairness metrics of the Logistic Regression model like the equal opportunity difference value\n",
    "and statistical parity difference after the preprocessing bias mitigation has a score of -1.0000 and \n",
    "-0.9924 after testing the mitigated model on the test dataset.\n",
    "\"\"\""
   ]
  },
  {
   "cell_type": "markdown",
   "metadata": {
    "graffitiCellId": "id_r34jacu"
   },
   "source": [
    "As part of the last coding step of this project, stratify the dataset by the Education Level feature, and create a small cohort analysis plot showing the performance on the y-axis and the Education Levels on the x-axis."
   ]
  },
  {
   "cell_type": "code",
   "execution_count": null,
   "metadata": {
    "graffitiCellId": "id_0r9z0zs"
   },
   "outputs": [],
   "source": [
    "##Fill in\n",
    "\n"
   ]
  },
  {
   "cell_type": "markdown",
   "metadata": {
    "graffitiCellId": "id_3trifsk"
   },
   "source": [
    "**Take a moment to save the visualization reports you generated in this section and enter the file paths into the image_file_path variable below**."
   ]
  },
  {
   "cell_type": "code",
   "execution_count": 133,
   "metadata": {
    "graffitiCellId": "id_7ikw5p1"
   },
   "outputs": [],
   "source": [
    "#FILL IN - save all visualization plots \n",
    "#from the \"Apply a bias mitigation strategy\" section\n",
    "#plt.savefig('file_name.png')\n",
    "\n",
    "#Replace the REPLACE_FILE_NAME placeholder with the image paths\n",
    "#of the visualizations you have generated for the model card\n",
    "image_file_path =\"\"\"\n",
    "  <img src=\"classification_thresholds1.png\"><br/>\n",
    "  <img src=\"classification_thresholds2.png\"><br/>\n",
    "  <img src=\"confusion_matrix.png\"><br/>\n",
    "  <img src=\"permutation_importance.png\"><br/>\n",
    "\"\"\""
   ]
  },
  {
   "cell_type": "markdown",
   "metadata": {
    "graffitiCellId": "id_vrw2356"
   },
   "source": [
    "**Optional**: You may choose to create a cohort analysis plot showing the fairness metric values on the y-axis and the Education Levels on the x-axis."
   ]
  },
  {
   "cell_type": "code",
   "execution_count": null,
   "metadata": {
    "graffitiCellId": "id_ot3j5qa"
   },
   "outputs": [],
   "source": [
    "#Optional save image for the fairness corhort analysis\n",
    "#plt.savefig('images/optional_fairness_cohort_analysis') "
   ]
  },
  {
   "cell_type": "markdown",
   "metadata": {
    "graffitiCellId": "id_84x7023"
   },
   "source": [
    "## Step 6: Articulate the ethical implications"
   ]
  },
  {
   "cell_type": "markdown",
   "metadata": {
    "graffitiCellId": "id_7t1u5dy"
   },
   "source": [
    "Articulate the use case and ethical considerations applying to the dataset in 1-2 paragraphs.\n",
    "\n",
    "**Hints:** \n",
    " \n",
    "- Think about the limitations of the dataset, potential biases that could be introduced into the use case, and the strengths and weaknesses of your ML model.\n",
    "- Ethical Considerations:\n",
    " - Human-in-the-loop considerations: Can users control aspects of the model and inspect the features? If so, briefly describe how?\n",
    " - Describe the limitations and types of bias present in the data\n",
    " - Describe the failures of the ML model\n",
    " - It must include a section on any risk mitigation strategies you applied.\n",
    " - Describe Potential harms\n",
    " - It must include key contributing factors you found from your interpretability study, both before and after applying the bias mitigation strategy.\n",
    "\n",
    "- Caveats and Recommendations\n",
    " - Potential lack of inclusiveness in the dataset\n",
    " - Predisposition of the model to false positives and/or negatives\n",
    " - It must also include 1-2 sentences on the further ethical AI analyses you would apply if given more time beyond this project."
   ]
  },
  {
   "cell_type": "code",
   "execution_count": 134,
   "metadata": {
    "graffitiCellId": "id_alqn03u"
   },
   "outputs": [],
   "source": [
    "#FILL IN\n",
    "ethical_considerations=\"\"\"\n",
    "-- The objective of the app is to remove users from having to handle the nitty-gritty details of \n",
    "finding the right activity, like determining the appropriate budget, ensuring the weather is perfect, \n",
    "and the location/accommodation is not closed, so users don't have the liberty to control most aspects \n",
    "of the model. \n",
    "-- The model for this app does not have any implications on human life, health or safety in the usage\n",
    "of the model.\n",
    "-- The key contributing factors from the permutation importance after the preprocessing bias mitigation\n",
    "are users in all the age groups(18-24, 25-44, 45-65, 66-92), and users in the bachelor's and master's \n",
    "education level.\n",
    "\"\"\"\n",
    "caveats_and_recommendations=\"\"\"\n",
    "-- I'll recommend Logistic Regression model for classification related problems in order to have a better\n",
    "accuracy score and better fairness metric scores.\n",
    "-- Preprocessing and postprocesssing bias mitigation techniques should also be applied on the dataset\n",
    "of the model.\n",
    "-- The Logistic Regression model after the preprocessing bias mitigation seems to have higher false positives and \n",
    "lesser false negatives compared to the Logistic Regression before the bias mitigation.\n",
    "-- Further ethical AI analyses I would apply beyond this project:\n",
    "The Adversarial inprocessing debiasing technique will be applied beyond this project to maximize prediction\n",
    "accuracy.\n",
    "\n",
    "The Reject Option Classification (ROC) preprocessing technique can be applied beyon this project also\n",
    "\n",
    "\"\"\""
   ]
  },
  {
   "cell_type": "markdown",
   "metadata": {
    "graffitiCellId": "id_nis6lv5"
   },
   "source": [
    "- Business consequences\n",
    " - Potential positive impact of the IDOOU Budget Predicter AI\n",
    " - Reasons why users may lose trust in the application, and loss of revenue and brand reputation might occur to the organization"
   ]
  },
  {
   "cell_type": "code",
   "execution_count": 135,
   "metadata": {
    "graffitiCellId": "id_u3v0oyt"
   },
   "outputs": [],
   "source": [
    "business_consequences=\"\"\"\n",
    "\n",
    "-- Positive Impact: With a model accuracy score of 0.99xx, the IDOOU Budget Predicter will be able to \n",
    "accurately recommend activities users can take in a given area.\n",
    "\n",
    "-- Negative Impact: With the bias in the dataset and the little contributions of users with lesser education \n",
    "levels (lesser than high school grad) to the model, it might discourage users in that category from \n",
    "trusting the accuracy of the app. \n",
    "\"\"\""
   ]
  },
  {
   "cell_type": "markdown",
   "metadata": {
    "graffitiCellId": "id_9m1jcrd"
   },
   "source": [
    "## Document the solution in a model card"
   ]
  },
  {
   "cell_type": "markdown",
   "metadata": {
    "graffitiCellId": "id_z9j2suj"
   },
   "source": [
    "You're at the finish line! Run the last few blocks of code to generate a simple html file with your model card content and the visualizations you generated for the final version of your model.\n",
    "\n",
    "Make sure to open the html file and check that it is reflective of your model card content before submitting.\n",
    "\n",
    "Optionally, feel free to modify the html code and add more details/aesthetics."
   ]
  },
  {
   "cell_type": "code",
   "execution_count": 136,
   "metadata": {
    "graffitiCellId": "id_qp2r6km",
    "scrolled": false
   },
   "outputs": [],
   "source": [
    "html_code = f\"\"\"\n",
    "<html>\n",
    "  <head>\n",
    "  </head>\n",
    "  <body>\n",
    "  <center><h1>Model Card - IDOOU AI Budget Predicter</h1></center>\n",
    "  <h2>Model Details</h2>\n",
    "  {model_details}\n",
    "  <h2>Intended Use</h2>\n",
    "  {intended_use}\n",
    "  <h2>Factors</h2>\n",
    "  {factors}\n",
    "  <h2>Metrics</h2>\n",
    "  {metrics}\n",
    "  <h2> Training Data </h2>\n",
    "  {training_data}\n",
    "  <h2> Evaluation Data </h2>\n",
    "  {eval_data}\n",
    "  <h2>Quantitative Analysis</h2>\n",
    "  {final_metrics_description}\n",
    "  \n",
    "  <br/><br/><b>Results of the AI model after applying the bias mitigation strategy</b><br/>\n",
    "  \n",
    "  <center>\n",
    "  {image_file_path}\n",
    "  </center>\n",
    "\n",
    "  <h2>Ethical Considerations</h2>\n",
    "  {ethical_considerations}\n",
    "  <h2>Caveats and Recommendations</h2>\n",
    "  {caveats_and_recommendations}\n",
    "  <h2>Business Consequences</h2>\n",
    "  {business_consequences}\n",
    "  </body>\n",
    "</html>\"\"\"\n",
    "html_code = html_code.replace('--', '<br>--')"
   ]
  },
  {
   "cell_type": "code",
   "execution_count": 137,
   "metadata": {
    "graffitiCellId": "id_58wh496"
   },
   "outputs": [],
   "source": [
    "with open('model_card.html', 'w') as f:\n",
    "    f.write(html_code)"
   ]
  },
  {
   "cell_type": "markdown",
   "metadata": {
    "graffitiCellId": "id_3wlsun6"
   },
   "source": [
    "Download and zip the .html report, the images you generated, and this Jupyter notebook, and you're ready for submission!"
   ]
  },
  {
   "cell_type": "code",
   "execution_count": null,
   "metadata": {
    "graffitiCellId": "id_81lswov"
   },
   "outputs": [],
   "source": []
  }
 ],
 "metadata": {
  "graffiti": {
   "firstAuthorId": "11811568868",
   "id": "id_v8f7uv3",
   "language": "EN"
  },
  "kernelspec": {
   "display_name": "Python 3",
   "language": "python",
   "name": "python3"
  },
  "language_info": {
   "codemirror_mode": {
    "name": "ipython",
    "version": 3
   },
   "file_extension": ".py",
   "mimetype": "text/x-python",
   "name": "python",
   "nbconvert_exporter": "python",
   "pygments_lexer": "ipython3",
   "version": "3.7.6"
  }
 },
 "nbformat": 4,
 "nbformat_minor": 5
}
